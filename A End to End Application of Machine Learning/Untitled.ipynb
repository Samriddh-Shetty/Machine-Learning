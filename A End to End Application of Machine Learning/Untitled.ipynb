{
 "cells": [
  {
   "cell_type": "code",
   "execution_count": 1,
   "id": "88d8f8d5",
   "metadata": {},
   "outputs": [],
   "source": [
    "import pandas as pd\n",
    "import matplotlib.pyplot as plt\n",
    "import seaborn as sns\n",
    "import numpy as np\n",
    "import warnings\n",
    "warnings.filterwarnings(\"ignore\")"
   ]
  },
  {
   "cell_type": "code",
   "execution_count": 2,
   "id": "6cd855b1",
   "metadata": {},
   "outputs": [
    {
     "data": {
      "text/html": [
       "<div>\n",
       "<style scoped>\n",
       "    .dataframe tbody tr th:only-of-type {\n",
       "        vertical-align: middle;\n",
       "    }\n",
       "\n",
       "    .dataframe tbody tr th {\n",
       "        vertical-align: top;\n",
       "    }\n",
       "\n",
       "    .dataframe thead th {\n",
       "        text-align: right;\n",
       "    }\n",
       "</style>\n",
       "<table border=\"1\" class=\"dataframe\">\n",
       "  <thead>\n",
       "    <tr style=\"text-align: right;\">\n",
       "      <th></th>\n",
       "      <th>Gender</th>\n",
       "      <th>Age</th>\n",
       "      <th>Education Level</th>\n",
       "      <th>Institution Type</th>\n",
       "      <th>IT Student</th>\n",
       "      <th>Location</th>\n",
       "      <th>Load-shedding</th>\n",
       "      <th>Financial Condition</th>\n",
       "      <th>Internet Type</th>\n",
       "      <th>Network Type</th>\n",
       "      <th>Class Duration</th>\n",
       "      <th>Self Lms</th>\n",
       "      <th>Device</th>\n",
       "      <th>Adaptivity Level</th>\n",
       "    </tr>\n",
       "  </thead>\n",
       "  <tbody>\n",
       "    <tr>\n",
       "      <th>0</th>\n",
       "      <td>Boy</td>\n",
       "      <td>21-25</td>\n",
       "      <td>University</td>\n",
       "      <td>Non Government</td>\n",
       "      <td>No</td>\n",
       "      <td>Yes</td>\n",
       "      <td>Low</td>\n",
       "      <td>Mid</td>\n",
       "      <td>Wifi</td>\n",
       "      <td>4G</td>\n",
       "      <td>3-6</td>\n",
       "      <td>No</td>\n",
       "      <td>Tab</td>\n",
       "      <td>Moderate</td>\n",
       "    </tr>\n",
       "    <tr>\n",
       "      <th>1</th>\n",
       "      <td>Girl</td>\n",
       "      <td>21-25</td>\n",
       "      <td>University</td>\n",
       "      <td>Non Government</td>\n",
       "      <td>No</td>\n",
       "      <td>Yes</td>\n",
       "      <td>High</td>\n",
       "      <td>Mid</td>\n",
       "      <td>Mobile Data</td>\n",
       "      <td>4G</td>\n",
       "      <td>1-3</td>\n",
       "      <td>Yes</td>\n",
       "      <td>Mobile</td>\n",
       "      <td>Moderate</td>\n",
       "    </tr>\n",
       "    <tr>\n",
       "      <th>2</th>\n",
       "      <td>Girl</td>\n",
       "      <td>16-20</td>\n",
       "      <td>College</td>\n",
       "      <td>Government</td>\n",
       "      <td>No</td>\n",
       "      <td>Yes</td>\n",
       "      <td>Low</td>\n",
       "      <td>Mid</td>\n",
       "      <td>Wifi</td>\n",
       "      <td>4G</td>\n",
       "      <td>1-3</td>\n",
       "      <td>No</td>\n",
       "      <td>Mobile</td>\n",
       "      <td>Moderate</td>\n",
       "    </tr>\n",
       "    <tr>\n",
       "      <th>3</th>\n",
       "      <td>Girl</td>\n",
       "      <td>11-15</td>\n",
       "      <td>School</td>\n",
       "      <td>Non Government</td>\n",
       "      <td>No</td>\n",
       "      <td>Yes</td>\n",
       "      <td>Low</td>\n",
       "      <td>Mid</td>\n",
       "      <td>Mobile Data</td>\n",
       "      <td>4G</td>\n",
       "      <td>1-3</td>\n",
       "      <td>No</td>\n",
       "      <td>Mobile</td>\n",
       "      <td>Moderate</td>\n",
       "    </tr>\n",
       "    <tr>\n",
       "      <th>4</th>\n",
       "      <td>Girl</td>\n",
       "      <td>16-20</td>\n",
       "      <td>School</td>\n",
       "      <td>Non Government</td>\n",
       "      <td>No</td>\n",
       "      <td>Yes</td>\n",
       "      <td>Low</td>\n",
       "      <td>Poor</td>\n",
       "      <td>Mobile Data</td>\n",
       "      <td>3G</td>\n",
       "      <td>0</td>\n",
       "      <td>No</td>\n",
       "      <td>Mobile</td>\n",
       "      <td>Low</td>\n",
       "    </tr>\n",
       "    <tr>\n",
       "      <th>...</th>\n",
       "      <td>...</td>\n",
       "      <td>...</td>\n",
       "      <td>...</td>\n",
       "      <td>...</td>\n",
       "      <td>...</td>\n",
       "      <td>...</td>\n",
       "      <td>...</td>\n",
       "      <td>...</td>\n",
       "      <td>...</td>\n",
       "      <td>...</td>\n",
       "      <td>...</td>\n",
       "      <td>...</td>\n",
       "      <td>...</td>\n",
       "      <td>...</td>\n",
       "    </tr>\n",
       "    <tr>\n",
       "      <th>1200</th>\n",
       "      <td>Girl</td>\n",
       "      <td>16-20</td>\n",
       "      <td>College</td>\n",
       "      <td>Non Government</td>\n",
       "      <td>No</td>\n",
       "      <td>Yes</td>\n",
       "      <td>Low</td>\n",
       "      <td>Mid</td>\n",
       "      <td>Wifi</td>\n",
       "      <td>4G</td>\n",
       "      <td>1-3</td>\n",
       "      <td>No</td>\n",
       "      <td>Mobile</td>\n",
       "      <td>Low</td>\n",
       "    </tr>\n",
       "    <tr>\n",
       "      <th>1201</th>\n",
       "      <td>Girl</td>\n",
       "      <td>16-20</td>\n",
       "      <td>College</td>\n",
       "      <td>Non Government</td>\n",
       "      <td>No</td>\n",
       "      <td>No</td>\n",
       "      <td>High</td>\n",
       "      <td>Mid</td>\n",
       "      <td>Wifi</td>\n",
       "      <td>4G</td>\n",
       "      <td>3-6</td>\n",
       "      <td>No</td>\n",
       "      <td>Mobile</td>\n",
       "      <td>Moderate</td>\n",
       "    </tr>\n",
       "    <tr>\n",
       "      <th>1202</th>\n",
       "      <td>Boy</td>\n",
       "      <td>11-15</td>\n",
       "      <td>School</td>\n",
       "      <td>Non Government</td>\n",
       "      <td>No</td>\n",
       "      <td>Yes</td>\n",
       "      <td>Low</td>\n",
       "      <td>Mid</td>\n",
       "      <td>Mobile Data</td>\n",
       "      <td>3G</td>\n",
       "      <td>1-3</td>\n",
       "      <td>No</td>\n",
       "      <td>Mobile</td>\n",
       "      <td>Moderate</td>\n",
       "    </tr>\n",
       "    <tr>\n",
       "      <th>1203</th>\n",
       "      <td>Girl</td>\n",
       "      <td>16-20</td>\n",
       "      <td>College</td>\n",
       "      <td>Non Government</td>\n",
       "      <td>No</td>\n",
       "      <td>No</td>\n",
       "      <td>Low</td>\n",
       "      <td>Mid</td>\n",
       "      <td>Wifi</td>\n",
       "      <td>4G</td>\n",
       "      <td>1-3</td>\n",
       "      <td>No</td>\n",
       "      <td>Mobile</td>\n",
       "      <td>Low</td>\n",
       "    </tr>\n",
       "    <tr>\n",
       "      <th>1204</th>\n",
       "      <td>Girl</td>\n",
       "      <td>11-15</td>\n",
       "      <td>School</td>\n",
       "      <td>Non Government</td>\n",
       "      <td>No</td>\n",
       "      <td>Yes</td>\n",
       "      <td>Low</td>\n",
       "      <td>Poor</td>\n",
       "      <td>Mobile Data</td>\n",
       "      <td>3G</td>\n",
       "      <td>1-3</td>\n",
       "      <td>No</td>\n",
       "      <td>Mobile</td>\n",
       "      <td>Moderate</td>\n",
       "    </tr>\n",
       "  </tbody>\n",
       "</table>\n",
       "<p>1205 rows × 14 columns</p>\n",
       "</div>"
      ],
      "text/plain": [
       "     Gender    Age Education Level Institution Type IT Student Location  \\\n",
       "0       Boy  21-25      University   Non Government         No      Yes   \n",
       "1      Girl  21-25      University   Non Government         No      Yes   \n",
       "2      Girl  16-20         College       Government         No      Yes   \n",
       "3      Girl  11-15          School   Non Government         No      Yes   \n",
       "4      Girl  16-20          School   Non Government         No      Yes   \n",
       "...     ...    ...             ...              ...        ...      ...   \n",
       "1200   Girl  16-20         College   Non Government         No      Yes   \n",
       "1201   Girl  16-20         College   Non Government         No       No   \n",
       "1202    Boy  11-15          School   Non Government         No      Yes   \n",
       "1203   Girl  16-20         College   Non Government         No       No   \n",
       "1204   Girl  11-15          School   Non Government         No      Yes   \n",
       "\n",
       "     Load-shedding Financial Condition Internet Type Network Type  \\\n",
       "0              Low                 Mid          Wifi           4G   \n",
       "1             High                 Mid   Mobile Data           4G   \n",
       "2              Low                 Mid          Wifi           4G   \n",
       "3              Low                 Mid   Mobile Data           4G   \n",
       "4              Low                Poor   Mobile Data           3G   \n",
       "...            ...                 ...           ...          ...   \n",
       "1200           Low                 Mid          Wifi           4G   \n",
       "1201          High                 Mid          Wifi           4G   \n",
       "1202           Low                 Mid   Mobile Data           3G   \n",
       "1203           Low                 Mid          Wifi           4G   \n",
       "1204           Low                Poor   Mobile Data           3G   \n",
       "\n",
       "     Class Duration Self Lms  Device Adaptivity Level  \n",
       "0               3-6       No     Tab         Moderate  \n",
       "1               1-3      Yes  Mobile         Moderate  \n",
       "2               1-3       No  Mobile         Moderate  \n",
       "3               1-3       No  Mobile         Moderate  \n",
       "4                 0       No  Mobile              Low  \n",
       "...             ...      ...     ...              ...  \n",
       "1200            1-3       No  Mobile              Low  \n",
       "1201            3-6       No  Mobile         Moderate  \n",
       "1202            1-3       No  Mobile         Moderate  \n",
       "1203            1-3       No  Mobile              Low  \n",
       "1204            1-3       No  Mobile         Moderate  \n",
       "\n",
       "[1205 rows x 14 columns]"
      ]
     },
     "execution_count": 2,
     "metadata": {},
     "output_type": "execute_result"
    }
   ],
   "source": [
    "df=pd.read_csv(\"students_adaptability_level_online_education.csv\")\n",
    "df"
   ]
  },
  {
   "cell_type": "code",
   "execution_count": 3,
   "id": "c6cab0fe",
   "metadata": {},
   "outputs": [
    {
     "data": {
      "text/plain": [
       "Gender                 0\n",
       "Age                    0\n",
       "Education Level        0\n",
       "Institution Type       0\n",
       "IT Student             0\n",
       "Location               0\n",
       "Load-shedding          0\n",
       "Financial Condition    0\n",
       "Internet Type          0\n",
       "Network Type           0\n",
       "Class Duration         0\n",
       "Self Lms               0\n",
       "Device                 0\n",
       "Adaptivity Level       0\n",
       "dtype: int64"
      ]
     },
     "execution_count": 3,
     "metadata": {},
     "output_type": "execute_result"
    }
   ],
   "source": [
    "df.isnull().sum()"
   ]
  },
  {
   "cell_type": "markdown",
   "id": "b218b3bb",
   "metadata": {},
   "source": [
    "# LUCKILY WE HAVE NO NULL VALUES IN OUR DATA."
   ]
  },
  {
   "cell_type": "code",
   "execution_count": 4,
   "id": "872fa3bb",
   "metadata": {},
   "outputs": [
    {
     "data": {
      "text/plain": [
       "<Figure size 1000x600 with 0 Axes>"
      ]
     },
     "metadata": {},
     "output_type": "display_data"
    },
    {
     "data": {
      "image/png": "[encoded data removed]",
      "text/plain": [
       "<Figure size 640x480 with 1 Axes>"
      ]
     },
     "metadata": {},
     "output_type": "display_data"
    }
   ],
   "source": [
    "summary_df = df.groupby(['Gender', 'Adaptivity Level']).size().unstack()\n",
    "\n",
    "sns.set(style=\"whitegrid\")\n",
    "plt.figure(figsize=(10, 6))\n",
    "\n",
    "\n",
    "summary_df.plot(kind='bar', stacked=True, colormap=\"Set2\")\n",
    "\n",
    "plt.title('Stacked Bar Graph of Gender with Adaptivity Level')\n",
    "plt.xlabel('Gender')\n",
    "plt.ylabel('Count')\n",
    "plt.show()\n"
   ]
  },
  {
   "cell_type": "markdown",
   "id": "e4c6add6",
   "metadata": {},
   "source": [
    "# THE AMOUNT OF LOW ADAPTIVITY FOR BOTH THE GENDER SEEMS TO BE ABOUT THE SAME, BUT IT  SEEMS THE BOYS TEND TO HAVE HIGHER ADAPTIVITY COMPARED TO GIRLS."
   ]
  },
  {
   "cell_type": "code",
   "execution_count": 5,
   "id": "18c89d44",
   "metadata": {},
   "outputs": [
    {
     "data": {
      "image/png": "[encoded data removed]",
      "text/plain": [
       "<Figure size 1000x600 with 1 Axes>"
      ]
     },
     "metadata": {},
     "output_type": "display_data"
    }
   ],
   "source": [
    "\n",
    "\n",
    "sns.set(style=\"whitegrid\")\n",
    "plt.figure(figsize=(10, 6))\n",
    "\n",
    "\n",
    "sns.countplot(x=\"Adaptivity Level\",hue=\"Internet Type\",data=df,palette='Set1')\n",
    "\n",
    "\n",
    "plt.title('Count Graph of Adaptivity Level with Internet Type')\n",
    "plt.xlabel('Adaptivity Level')\n",
    "plt.ylabel('Count')\n",
    "plt.legend(loc=\"upper right\")\n",
    "plt.show()"
   ]
  },
  {
   "cell_type": "markdown",
   "id": "418261f7",
   "metadata": {},
   "source": [
    "# IT SEEMS PEOPLE WITH MOBILE DATA SEEM TO BE MORE LIKELY TO HAVE LOW ADAPTIVITY COMPARED TO THOSE WHO USE WIFI. "
   ]
  },
  {
   "cell_type": "code",
   "execution_count": 6,
   "id": "a4a1f7ac",
   "metadata": {},
   "outputs": [
    {
     "data": {
      "image/png": "[encoded data removed]",
      "text/plain": [
       "<Figure size 1000x600 with 1 Axes>"
      ]
     },
     "metadata": {},
     "output_type": "display_data"
    }
   ],
   "source": [
    "plt.figure(figsize=(10, 6))\n",
    "\n",
    "\n",
    "sns.countplot(x=\"Adaptivity Level\",hue=\"Network Type\",data=df,palette='Set3')\n",
    "\n",
    "\n",
    "plt.title('Count Graph of Adaptivity Level with Network Type')\n",
    "plt.xlabel('Adaptivity Level')\n",
    "plt.ylabel('Count')\n",
    "plt.legend(loc=\"upper right\")\n",
    "plt.show()"
   ]
  },
  {
   "cell_type": "markdown",
   "id": "9a17b8fd",
   "metadata": {},
   "source": [
    "# WE MIGHT HAVE FINALLY FOUND SOMETHIMG CONCLUSIVE HERE AS IT SEEMS ALMOST ALL OF THE STUDENTS WHO ARE USING 2G DATA ARE FACING ISSUE ADAPTING TO OUR ONLINE  CLASSES."
   ]
  },
  {
   "cell_type": "code",
   "execution_count": 7,
   "id": "438f3208",
   "metadata": {},
   "outputs": [
    {
     "data": {
      "text/plain": [
       "<AxesSubplot:xlabel='Adaptivity Level', ylabel='count'>"
      ]
     },
     "execution_count": 7,
     "metadata": {},
     "output_type": "execute_result"
    },
    {
     "data": {
      "image/png": "[encoded data removed]",
      "text/plain": [
       "<Figure size 640x480 with 1 Axes>"
      ]
     },
     "metadata": {},
     "output_type": "display_data"
    }
   ],
   "source": [
    "sns.countplot(x=\"Adaptivity Level\",hue=\"Financial Condition\",data=df,palette=\"dark\")"
   ]
  },
  {
   "cell_type": "markdown",
   "id": "bc41f7e9",
   "metadata": {},
   "source": [
    "# STUDENTS COMING FROM RICH BACKGROUND HAVE MOST NUMBER WHEN IT COMES TO HIGH ADAPTIVITY DESPITE BEING IN THE MINORITY. "
   ]
  },
  {
   "cell_type": "code",
   "execution_count": 8,
   "id": "43106f20",
   "metadata": {},
   "outputs": [
    {
     "data": {
      "text/plain": [
       "<AxesSubplot:xlabel='Adaptivity Level', ylabel='count'>"
      ]
     },
     "execution_count": 8,
     "metadata": {},
     "output_type": "execute_result"
    },
    {
     "data": {
      "image/png": "[encoded data removed]",
      "text/plain": [
       "<Figure size 640x480 with 1 Axes>"
      ]
     },
     "metadata": {},
     "output_type": "display_data"
    }
   ],
   "source": [
    "sns.countplot(x=\"Adaptivity Level\",hue=\"Load-shedding\",data=df,palette=\"Paired\")"
   ]
  },
  {
   "cell_type": "markdown",
   "id": "5e102897",
   "metadata": {},
   "source": [
    "# ALTHOUGH LOAD SHEDDING IS ONE OF A MAJOR CONCERNS IF YOU ARE ATTENDING ONLINE CLASSES BUT IT SEEMS ABOUT 50% STUDENTS ARE STILL ABLE TO MANAGE. BUT STILL  IT DOES SEEM TO EFFECT THE OTHER 50% STUDENTS QUITE A BIT."
   ]
  },
  {
   "cell_type": "code",
   "execution_count": 9,
   "id": "95b18d03",
   "metadata": {},
   "outputs": [
    {
     "data": {
      "text/plain": [
       "<AxesSubplot:xlabel='Adaptivity Level', ylabel='count'>"
      ]
     },
     "execution_count": 9,
     "metadata": {},
     "output_type": "execute_result"
    },
    {
     "data": {
      "image/png": "[encoded data removed]",
      "text/plain": [
       "<Figure size 640x480 with 1 Axes>"
      ]
     },
     "metadata": {},
     "output_type": "display_data"
    }
   ],
   "source": [
    "sns.countplot(x=\"Adaptivity Level\",hue=\"Location\",data=df,palette=\"mako\")"
   ]
  },
  {
   "cell_type": "markdown",
   "id": "2438c418",
   "metadata": {},
   "source": [
    "# NOT HAVING A PRECISE LOCATION DOES SEEM TO HAVE A NEGATIVE EFFECT ON THE STUDENTS AS WE SEE MAJORITY OF THEM FALLING IN THE LOW ADAPTIVITY CATEGORY."
   ]
  },
  {
   "cell_type": "code",
   "execution_count": 10,
   "id": "166b4b8f",
   "metadata": {},
   "outputs": [
    {
     "data": {
      "text/plain": [
       "<AxesSubplot:xlabel='Adaptivity Level', ylabel='count'>"
      ]
     },
     "execution_count": 10,
     "metadata": {},
     "output_type": "execute_result"
    },
    {
     "data": {
      "image/png": "[encoded data removed]",
      "text/plain": [
       "<Figure size 640x480 with 1 Axes>"
      ]
     },
     "metadata": {},
     "output_type": "display_data"
    }
   ],
   "source": [
    "sns.countplot(x=\"Adaptivity Level\",hue=\"IT Student\",data=df,palette=\"rocket\")"
   ]
  },
  {
   "cell_type": "markdown",
   "id": "f6795c1e",
   "metadata": {},
   "source": [
    "# WELL IT DOESN'T SEEM TO MATTER THAT MUCH WHETHER THE STUDENT IS FROM IT OR NOT TO HIS ADAPTIVITY. "
   ]
  },
  {
   "cell_type": "code",
   "execution_count": 11,
   "id": "3f50e69d",
   "metadata": {},
   "outputs": [
    {
     "data": {
      "text/plain": [
       "<AxesSubplot:xlabel='Adaptivity Level', ylabel='count'>"
      ]
     },
     "execution_count": 11,
     "metadata": {},
     "output_type": "execute_result"
    },
    {
     "data": {
      "image/png": "[encoded data removed]",
      "text/plain": [
       "<Figure size 640x480 with 1 Axes>"
      ]
     },
     "metadata": {},
     "output_type": "display_data"
    }
   ],
   "source": [
    "sns.countplot(x=\"Adaptivity Level\",hue=\"Institution Type\",data=df,palette=\"crest\")"
   ]
  },
  {
   "cell_type": "markdown",
   "id": "a6378883",
   "metadata": {},
   "source": [
    "# MOST OF THE STUDENTS FROM GOVERNMENT BASED INSTITUTIONS ARE HAVING ISSUES WITH ADAPTIVITY."
   ]
  },
  {
   "cell_type": "code",
   "execution_count": 12,
   "id": "1f225862",
   "metadata": {},
   "outputs": [
    {
     "data": {
      "text/plain": [
       "<AxesSubplot:xlabel='Adaptivity Level', ylabel='count'>"
      ]
     },
     "execution_count": 12,
     "metadata": {},
     "output_type": "execute_result"
    },
    {
     "data": {
      "image/png": "[encoded data removed]",
      "text/plain": [
       "<Figure size 640x480 with 1 Axes>"
      ]
     },
     "metadata": {},
     "output_type": "display_data"
    }
   ],
   "source": [
    "sns.countplot(x=\"Adaptivity Level\",hue=\"Education Level\",data=df,palette=\"viridis\")"
   ]
  },
  {
   "cell_type": "markdown",
   "id": "6a0fb3e3",
   "metadata": {},
   "source": [
    "# SCHOOL STUDENTS SEEM TO HAVE THE BEST ADAPTIVITY WHILE THE COLLEGE STUDENTS HAVE THE LOWEST."
   ]
  },
  {
   "cell_type": "code",
   "execution_count": 13,
   "id": "dd8cfa2e",
   "metadata": {},
   "outputs": [
    {
     "data": {
      "text/plain": [
       "<AxesSubplot:xlabel='Adaptivity Level', ylabel='count'>"
      ]
     },
     "execution_count": 13,
     "metadata": {},
     "output_type": "execute_result"
    },
    {
     "data": {
      "image/png": "[encoded data removed]",
      "text/plain": [
       "<Figure size 640x480 with 1 Axes>"
      ]
     },
     "metadata": {},
     "output_type": "display_data"
    }
   ],
   "source": [
    "sns.countplot(x=\"Adaptivity Level\",hue=\"Age\",data=df,palette=\"Paired\")"
   ]
  },
  {
   "cell_type": "markdown",
   "id": "5aa65364",
   "metadata": {},
   "source": [
    "# NONE OF THE CHILDRENS BELOW 5 YEARS OF AGE HAVE HIGH ADAPTIVITY WHILE MAJORITY OF STUDENTS WHO ARE ABOVE THE AGE OF 26 ARE FACING THE PROBLEM OF LOW ADAPTIVITY ALONG WITH STUDENTS WHO FALL UNDER THE AGE GROUP OF (16-20)."
   ]
  },
  {
   "cell_type": "code",
   "execution_count": null,
   "id": "387065fb",
   "metadata": {},
   "outputs": [],
   "source": []
  },
  {
   "cell_type": "markdown",
   "id": "264a4424",
   "metadata": {},
   "source": [
    "# I THNK I FOUND ALL THE NECESSARY INFORMATION I NEEDED FROM THIS DATASET NOW LETS MOVE TO BUILDING A MACHINE LEARNING MODEL TO PREDICT OUR STUDENTS ADAPTIVITY TO ONLINE LECTURES."
   ]
  },
  {
   "cell_type": "code",
   "execution_count": 14,
   "id": "d5bbcf11",
   "metadata": {},
   "outputs": [
    {
     "data": {
      "text/plain": [
       "<AxesSubplot:ylabel='Adaptivity Level'>"
      ]
     },
     "execution_count": 14,
     "metadata": {},
     "output_type": "execute_result"
    },
    {
     "data": {
      "image/png": "[encoded data removed]",
      "text/plain": [
       "<Figure size 640x480 with 1 Axes>"
      ]
     },
     "metadata": {},
     "output_type": "display_data"
    }
   ],
   "source": [
    "df[\"Adaptivity Level\"].value_counts().plot(kind=\"pie\", autopct='%.2f%%',explode=(0.1,0.,0.1))"
   ]
  },
  {
   "cell_type": "markdown",
   "id": "669435c2",
   "metadata": {},
   "source": [
    "# ITS AN UNBALANCED DATASET PARTICULARY FOR THE CATEGORY OF HIGH"
   ]
  },
  {
   "cell_type": "code",
   "execution_count": 15,
   "id": "801af8e8",
   "metadata": {},
   "outputs": [
    {
     "data": {
      "text/html": [
       "<div>\n",
       "<style scoped>\n",
       "    .dataframe tbody tr th:only-of-type {\n",
       "        vertical-align: middle;\n",
       "    }\n",
       "\n",
       "    .dataframe tbody tr th {\n",
       "        vertical-align: top;\n",
       "    }\n",
       "\n",
       "    .dataframe thead th {\n",
       "        text-align: right;\n",
       "    }\n",
       "</style>\n",
       "<table border=\"1\" class=\"dataframe\">\n",
       "  <thead>\n",
       "    <tr style=\"text-align: right;\">\n",
       "      <th></th>\n",
       "      <th>Gender</th>\n",
       "      <th>Age</th>\n",
       "      <th>Education Level</th>\n",
       "      <th>Institution Type</th>\n",
       "      <th>IT Student</th>\n",
       "      <th>Location</th>\n",
       "      <th>Load-shedding</th>\n",
       "      <th>Financial Condition</th>\n",
       "      <th>Internet Type</th>\n",
       "      <th>Network Type</th>\n",
       "      <th>Class Duration</th>\n",
       "      <th>Self Lms</th>\n",
       "      <th>Device</th>\n",
       "      <th>Adaptivity Level</th>\n",
       "    </tr>\n",
       "  </thead>\n",
       "  <tbody>\n",
       "    <tr>\n",
       "      <th>0</th>\n",
       "      <td>Boy</td>\n",
       "      <td>21-25</td>\n",
       "      <td>University</td>\n",
       "      <td>Non Government</td>\n",
       "      <td>No</td>\n",
       "      <td>Yes</td>\n",
       "      <td>Low</td>\n",
       "      <td>Mid</td>\n",
       "      <td>Wifi</td>\n",
       "      <td>4G</td>\n",
       "      <td>3-6</td>\n",
       "      <td>No</td>\n",
       "      <td>Tab</td>\n",
       "      <td>Moderate</td>\n",
       "    </tr>\n",
       "    <tr>\n",
       "      <th>1</th>\n",
       "      <td>Girl</td>\n",
       "      <td>21-25</td>\n",
       "      <td>University</td>\n",
       "      <td>Non Government</td>\n",
       "      <td>No</td>\n",
       "      <td>Yes</td>\n",
       "      <td>High</td>\n",
       "      <td>Mid</td>\n",
       "      <td>Mobile Data</td>\n",
       "      <td>4G</td>\n",
       "      <td>1-3</td>\n",
       "      <td>Yes</td>\n",
       "      <td>Mobile</td>\n",
       "      <td>Moderate</td>\n",
       "    </tr>\n",
       "    <tr>\n",
       "      <th>2</th>\n",
       "      <td>Girl</td>\n",
       "      <td>16-20</td>\n",
       "      <td>College</td>\n",
       "      <td>Government</td>\n",
       "      <td>No</td>\n",
       "      <td>Yes</td>\n",
       "      <td>Low</td>\n",
       "      <td>Mid</td>\n",
       "      <td>Wifi</td>\n",
       "      <td>4G</td>\n",
       "      <td>1-3</td>\n",
       "      <td>No</td>\n",
       "      <td>Mobile</td>\n",
       "      <td>Moderate</td>\n",
       "    </tr>\n",
       "    <tr>\n",
       "      <th>3</th>\n",
       "      <td>Girl</td>\n",
       "      <td>11-15</td>\n",
       "      <td>School</td>\n",
       "      <td>Non Government</td>\n",
       "      <td>No</td>\n",
       "      <td>Yes</td>\n",
       "      <td>Low</td>\n",
       "      <td>Mid</td>\n",
       "      <td>Mobile Data</td>\n",
       "      <td>4G</td>\n",
       "      <td>1-3</td>\n",
       "      <td>No</td>\n",
       "      <td>Mobile</td>\n",
       "      <td>Moderate</td>\n",
       "    </tr>\n",
       "    <tr>\n",
       "      <th>4</th>\n",
       "      <td>Girl</td>\n",
       "      <td>16-20</td>\n",
       "      <td>School</td>\n",
       "      <td>Non Government</td>\n",
       "      <td>No</td>\n",
       "      <td>Yes</td>\n",
       "      <td>Low</td>\n",
       "      <td>Poor</td>\n",
       "      <td>Mobile Data</td>\n",
       "      <td>3G</td>\n",
       "      <td>0</td>\n",
       "      <td>No</td>\n",
       "      <td>Mobile</td>\n",
       "      <td>Low</td>\n",
       "    </tr>\n",
       "    <tr>\n",
       "      <th>...</th>\n",
       "      <td>...</td>\n",
       "      <td>...</td>\n",
       "      <td>...</td>\n",
       "      <td>...</td>\n",
       "      <td>...</td>\n",
       "      <td>...</td>\n",
       "      <td>...</td>\n",
       "      <td>...</td>\n",
       "      <td>...</td>\n",
       "      <td>...</td>\n",
       "      <td>...</td>\n",
       "      <td>...</td>\n",
       "      <td>...</td>\n",
       "      <td>...</td>\n",
       "    </tr>\n",
       "    <tr>\n",
       "      <th>1200</th>\n",
       "      <td>Girl</td>\n",
       "      <td>16-20</td>\n",
       "      <td>College</td>\n",
       "      <td>Non Government</td>\n",
       "      <td>No</td>\n",
       "      <td>Yes</td>\n",
       "      <td>Low</td>\n",
       "      <td>Mid</td>\n",
       "      <td>Wifi</td>\n",
       "      <td>4G</td>\n",
       "      <td>1-3</td>\n",
       "      <td>No</td>\n",
       "      <td>Mobile</td>\n",
       "      <td>Low</td>\n",
       "    </tr>\n",
       "    <tr>\n",
       "      <th>1201</th>\n",
       "      <td>Girl</td>\n",
       "      <td>16-20</td>\n",
       "      <td>College</td>\n",
       "      <td>Non Government</td>\n",
       "      <td>No</td>\n",
       "      <td>No</td>\n",
       "      <td>High</td>\n",
       "      <td>Mid</td>\n",
       "      <td>Wifi</td>\n",
       "      <td>4G</td>\n",
       "      <td>3-6</td>\n",
       "      <td>No</td>\n",
       "      <td>Mobile</td>\n",
       "      <td>Moderate</td>\n",
       "    </tr>\n",
       "    <tr>\n",
       "      <th>1202</th>\n",
       "      <td>Boy</td>\n",
       "      <td>11-15</td>\n",
       "      <td>School</td>\n",
       "      <td>Non Government</td>\n",
       "      <td>No</td>\n",
       "      <td>Yes</td>\n",
       "      <td>Low</td>\n",
       "      <td>Mid</td>\n",
       "      <td>Mobile Data</td>\n",
       "      <td>3G</td>\n",
       "      <td>1-3</td>\n",
       "      <td>No</td>\n",
       "      <td>Mobile</td>\n",
       "      <td>Moderate</td>\n",
       "    </tr>\n",
       "    <tr>\n",
       "      <th>1203</th>\n",
       "      <td>Girl</td>\n",
       "      <td>16-20</td>\n",
       "      <td>College</td>\n",
       "      <td>Non Government</td>\n",
       "      <td>No</td>\n",
       "      <td>No</td>\n",
       "      <td>Low</td>\n",
       "      <td>Mid</td>\n",
       "      <td>Wifi</td>\n",
       "      <td>4G</td>\n",
       "      <td>1-3</td>\n",
       "      <td>No</td>\n",
       "      <td>Mobile</td>\n",
       "      <td>Low</td>\n",
       "    </tr>\n",
       "    <tr>\n",
       "      <th>1204</th>\n",
       "      <td>Girl</td>\n",
       "      <td>11-15</td>\n",
       "      <td>School</td>\n",
       "      <td>Non Government</td>\n",
       "      <td>No</td>\n",
       "      <td>Yes</td>\n",
       "      <td>Low</td>\n",
       "      <td>Poor</td>\n",
       "      <td>Mobile Data</td>\n",
       "      <td>3G</td>\n",
       "      <td>1-3</td>\n",
       "      <td>No</td>\n",
       "      <td>Mobile</td>\n",
       "      <td>Moderate</td>\n",
       "    </tr>\n",
       "  </tbody>\n",
       "</table>\n",
       "<p>1205 rows × 14 columns</p>\n",
       "</div>"
      ],
      "text/plain": [
       "     Gender    Age Education Level Institution Type IT Student Location  \\\n",
       "0       Boy  21-25      University   Non Government         No      Yes   \n",
       "1      Girl  21-25      University   Non Government         No      Yes   \n",
       "2      Girl  16-20         College       Government         No      Yes   \n",
       "3      Girl  11-15          School   Non Government         No      Yes   \n",
       "4      Girl  16-20          School   Non Government         No      Yes   \n",
       "...     ...    ...             ...              ...        ...      ...   \n",
       "1200   Girl  16-20         College   Non Government         No      Yes   \n",
       "1201   Girl  16-20         College   Non Government         No       No   \n",
       "1202    Boy  11-15          School   Non Government         No      Yes   \n",
       "1203   Girl  16-20         College   Non Government         No       No   \n",
       "1204   Girl  11-15          School   Non Government         No      Yes   \n",
       "\n",
       "     Load-shedding Financial Condition Internet Type Network Type  \\\n",
       "0              Low                 Mid          Wifi           4G   \n",
       "1             High                 Mid   Mobile Data           4G   \n",
       "2              Low                 Mid          Wifi           4G   \n",
       "3              Low                 Mid   Mobile Data           4G   \n",
       "4              Low                Poor   Mobile Data           3G   \n",
       "...            ...                 ...           ...          ...   \n",
       "1200           Low                 Mid          Wifi           4G   \n",
       "1201          High                 Mid          Wifi           4G   \n",
       "1202           Low                 Mid   Mobile Data           3G   \n",
       "1203           Low                 Mid          Wifi           4G   \n",
       "1204           Low                Poor   Mobile Data           3G   \n",
       "\n",
       "     Class Duration Self Lms  Device Adaptivity Level  \n",
       "0               3-6       No     Tab         Moderate  \n",
       "1               1-3      Yes  Mobile         Moderate  \n",
       "2               1-3       No  Mobile         Moderate  \n",
       "3               1-3       No  Mobile         Moderate  \n",
       "4                 0       No  Mobile              Low  \n",
       "...             ...      ...     ...              ...  \n",
       "1200            1-3       No  Mobile              Low  \n",
       "1201            3-6       No  Mobile         Moderate  \n",
       "1202            1-3       No  Mobile         Moderate  \n",
       "1203            1-3       No  Mobile              Low  \n",
       "1204            1-3       No  Mobile         Moderate  \n",
       "\n",
       "[1205 rows x 14 columns]"
      ]
     },
     "execution_count": 15,
     "metadata": {},
     "output_type": "execute_result"
    }
   ],
   "source": [
    "df"
   ]
  },
  {
   "cell_type": "code",
   "execution_count": 16,
   "id": "0bbad82e",
   "metadata": {},
   "outputs": [],
   "source": [
    "from sklearn.preprocessing import LabelEncoder"
   ]
  },
  {
   "cell_type": "code",
   "execution_count": 17,
   "id": "8261462a",
   "metadata": {},
   "outputs": [],
   "source": [
    "le=LabelEncoder()\n",
    "cat=df.select_dtypes(include=[\"O\"]).columns\n",
    "for i in cat:\n",
    "    df[i]=le.fit_transform(df[i])"
   ]
  },
  {
   "cell_type": "code",
   "execution_count": 18,
   "id": "83f6899a",
   "metadata": {},
   "outputs": [],
   "source": [
    "# ENCODNG OUR DATA SINCE MACHINE CAN ONLY UNDERSTAND NUMBERS."
   ]
  },
  {
   "cell_type": "code",
   "execution_count": 19,
   "id": "a5731a76",
   "metadata": {},
   "outputs": [
    {
     "data": {
      "text/html": [
       "<div>\n",
       "<style scoped>\n",
       "    .dataframe tbody tr th:only-of-type {\n",
       "        vertical-align: middle;\n",
       "    }\n",
       "\n",
       "    .dataframe tbody tr th {\n",
       "        vertical-align: top;\n",
       "    }\n",
       "\n",
       "    .dataframe thead th {\n",
       "        text-align: right;\n",
       "    }\n",
       "</style>\n",
       "<table border=\"1\" class=\"dataframe\">\n",
       "  <thead>\n",
       "    <tr style=\"text-align: right;\">\n",
       "      <th></th>\n",
       "      <th>Gender</th>\n",
       "      <th>Age</th>\n",
       "      <th>Education Level</th>\n",
       "      <th>Institution Type</th>\n",
       "      <th>IT Student</th>\n",
       "      <th>Location</th>\n",
       "      <th>Load-shedding</th>\n",
       "      <th>Financial Condition</th>\n",
       "      <th>Internet Type</th>\n",
       "      <th>Network Type</th>\n",
       "      <th>Class Duration</th>\n",
       "      <th>Self Lms</th>\n",
       "      <th>Device</th>\n",
       "      <th>Adaptivity Level</th>\n",
       "    </tr>\n",
       "  </thead>\n",
       "  <tbody>\n",
       "    <tr>\n",
       "      <th>0</th>\n",
       "      <td>0</td>\n",
       "      <td>3</td>\n",
       "      <td>2</td>\n",
       "      <td>1</td>\n",
       "      <td>0</td>\n",
       "      <td>1</td>\n",
       "      <td>1</td>\n",
       "      <td>0</td>\n",
       "      <td>1</td>\n",
       "      <td>2</td>\n",
       "      <td>2</td>\n",
       "      <td>0</td>\n",
       "      <td>2</td>\n",
       "      <td>2</td>\n",
       "    </tr>\n",
       "    <tr>\n",
       "      <th>1</th>\n",
       "      <td>1</td>\n",
       "      <td>3</td>\n",
       "      <td>2</td>\n",
       "      <td>1</td>\n",
       "      <td>0</td>\n",
       "      <td>1</td>\n",
       "      <td>0</td>\n",
       "      <td>0</td>\n",
       "      <td>0</td>\n",
       "      <td>2</td>\n",
       "      <td>1</td>\n",
       "      <td>1</td>\n",
       "      <td>1</td>\n",
       "      <td>2</td>\n",
       "    </tr>\n",
       "    <tr>\n",
       "      <th>2</th>\n",
       "      <td>1</td>\n",
       "      <td>2</td>\n",
       "      <td>0</td>\n",
       "      <td>0</td>\n",
       "      <td>0</td>\n",
       "      <td>1</td>\n",
       "      <td>1</td>\n",
       "      <td>0</td>\n",
       "      <td>1</td>\n",
       "      <td>2</td>\n",
       "      <td>1</td>\n",
       "      <td>0</td>\n",
       "      <td>1</td>\n",
       "      <td>2</td>\n",
       "    </tr>\n",
       "    <tr>\n",
       "      <th>3</th>\n",
       "      <td>1</td>\n",
       "      <td>1</td>\n",
       "      <td>1</td>\n",
       "      <td>1</td>\n",
       "      <td>0</td>\n",
       "      <td>1</td>\n",
       "      <td>1</td>\n",
       "      <td>0</td>\n",
       "      <td>0</td>\n",
       "      <td>2</td>\n",
       "      <td>1</td>\n",
       "      <td>0</td>\n",
       "      <td>1</td>\n",
       "      <td>2</td>\n",
       "    </tr>\n",
       "    <tr>\n",
       "      <th>4</th>\n",
       "      <td>1</td>\n",
       "      <td>2</td>\n",
       "      <td>1</td>\n",
       "      <td>1</td>\n",
       "      <td>0</td>\n",
       "      <td>1</td>\n",
       "      <td>1</td>\n",
       "      <td>1</td>\n",
       "      <td>0</td>\n",
       "      <td>1</td>\n",
       "      <td>0</td>\n",
       "      <td>0</td>\n",
       "      <td>1</td>\n",
       "      <td>1</td>\n",
       "    </tr>\n",
       "    <tr>\n",
       "      <th>...</th>\n",
       "      <td>...</td>\n",
       "      <td>...</td>\n",
       "      <td>...</td>\n",
       "      <td>...</td>\n",
       "      <td>...</td>\n",
       "      <td>...</td>\n",
       "      <td>...</td>\n",
       "      <td>...</td>\n",
       "      <td>...</td>\n",
       "      <td>...</td>\n",
       "      <td>...</td>\n",
       "      <td>...</td>\n",
       "      <td>...</td>\n",
       "      <td>...</td>\n",
       "    </tr>\n",
       "    <tr>\n",
       "      <th>1200</th>\n",
       "      <td>1</td>\n",
       "      <td>2</td>\n",
       "      <td>0</td>\n",
       "      <td>1</td>\n",
       "      <td>0</td>\n",
       "      <td>1</td>\n",
       "      <td>1</td>\n",
       "      <td>0</td>\n",
       "      <td>1</td>\n",
       "      <td>2</td>\n",
       "      <td>1</td>\n",
       "      <td>0</td>\n",
       "      <td>1</td>\n",
       "      <td>1</td>\n",
       "    </tr>\n",
       "    <tr>\n",
       "      <th>1201</th>\n",
       "      <td>1</td>\n",
       "      <td>2</td>\n",
       "      <td>0</td>\n",
       "      <td>1</td>\n",
       "      <td>0</td>\n",
       "      <td>0</td>\n",
       "      <td>0</td>\n",
       "      <td>0</td>\n",
       "      <td>1</td>\n",
       "      <td>2</td>\n",
       "      <td>2</td>\n",
       "      <td>0</td>\n",
       "      <td>1</td>\n",
       "      <td>2</td>\n",
       "    </tr>\n",
       "    <tr>\n",
       "      <th>1202</th>\n",
       "      <td>0</td>\n",
       "      <td>1</td>\n",
       "      <td>1</td>\n",
       "      <td>1</td>\n",
       "      <td>0</td>\n",
       "      <td>1</td>\n",
       "      <td>1</td>\n",
       "      <td>0</td>\n",
       "      <td>0</td>\n",
       "      <td>1</td>\n",
       "      <td>1</td>\n",
       "      <td>0</td>\n",
       "      <td>1</td>\n",
       "      <td>2</td>\n",
       "    </tr>\n",
       "    <tr>\n",
       "      <th>1203</th>\n",
       "      <td>1</td>\n",
       "      <td>2</td>\n",
       "      <td>0</td>\n",
       "      <td>1</td>\n",
       "      <td>0</td>\n",
       "      <td>0</td>\n",
       "      <td>1</td>\n",
       "      <td>0</td>\n",
       "      <td>1</td>\n",
       "      <td>2</td>\n",
       "      <td>1</td>\n",
       "      <td>0</td>\n",
       "      <td>1</td>\n",
       "      <td>1</td>\n",
       "    </tr>\n",
       "    <tr>\n",
       "      <th>1204</th>\n",
       "      <td>1</td>\n",
       "      <td>1</td>\n",
       "      <td>1</td>\n",
       "      <td>1</td>\n",
       "      <td>0</td>\n",
       "      <td>1</td>\n",
       "      <td>1</td>\n",
       "      <td>1</td>\n",
       "      <td>0</td>\n",
       "      <td>1</td>\n",
       "      <td>1</td>\n",
       "      <td>0</td>\n",
       "      <td>1</td>\n",
       "      <td>2</td>\n",
       "    </tr>\n",
       "  </tbody>\n",
       "</table>\n",
       "<p>1205 rows × 14 columns</p>\n",
       "</div>"
      ],
      "text/plain": [
       "      Gender  Age  Education Level  Institution Type  IT Student  Location  \\\n",
       "0          0    3                2                 1           0         1   \n",
       "1          1    3                2                 1           0         1   \n",
       "2          1    2                0                 0           0         1   \n",
       "3          1    1                1                 1           0         1   \n",
       "4          1    2                1                 1           0         1   \n",
       "...      ...  ...              ...               ...         ...       ...   \n",
       "1200       1    2                0                 1           0         1   \n",
       "1201       1    2                0                 1           0         0   \n",
       "1202       0    1                1                 1           0         1   \n",
       "1203       1    2                0                 1           0         0   \n",
       "1204       1    1                1                 1           0         1   \n",
       "\n",
       "      Load-shedding  Financial Condition  Internet Type  Network Type  \\\n",
       "0                 1                    0              1             2   \n",
       "1                 0                    0              0             2   \n",
       "2                 1                    0              1             2   \n",
       "3                 1                    0              0             2   \n",
       "4                 1                    1              0             1   \n",
       "...             ...                  ...            ...           ...   \n",
       "1200              1                    0              1             2   \n",
       "1201              0                    0              1             2   \n",
       "1202              1                    0              0             1   \n",
       "1203              1                    0              1             2   \n",
       "1204              1                    1              0             1   \n",
       "\n",
       "      Class Duration  Self Lms  Device  Adaptivity Level  \n",
       "0                  2         0       2                 2  \n",
       "1                  1         1       1                 2  \n",
       "2                  1         0       1                 2  \n",
       "3                  1         0       1                 2  \n",
       "4                  0         0       1                 1  \n",
       "...              ...       ...     ...               ...  \n",
       "1200               1         0       1                 1  \n",
       "1201               2         0       1                 2  \n",
       "1202               1         0       1                 2  \n",
       "1203               1         0       1                 1  \n",
       "1204               1         0       1                 2  \n",
       "\n",
       "[1205 rows x 14 columns]"
      ]
     },
     "execution_count": 19,
     "metadata": {},
     "output_type": "execute_result"
    }
   ],
   "source": [
    "df"
   ]
  },
  {
   "cell_type": "code",
   "execution_count": 20,
   "id": "80386f4f",
   "metadata": {},
   "outputs": [],
   "source": [
    "#  0 == low\n",
    "#  1 == Moderate\n",
    "#  2 == HIGH  "
   ]
  },
  {
   "cell_type": "code",
   "execution_count": 21,
   "id": "00853541",
   "metadata": {},
   "outputs": [],
   "source": [
    "# THERE'S NO NEED TO SCALE OUR DATA SINCE ALL OUR FEATURES AS WELL AS TARGET ARE IN CATEGORY."
   ]
  },
  {
   "cell_type": "code",
   "execution_count": 22,
   "id": "5456c404",
   "metadata": {},
   "outputs": [],
   "source": [
    "X=df.drop(\"Adaptivity Level\",axis=1)\n",
    "y=df[\"Adaptivity Level\"]"
   ]
  },
  {
   "cell_type": "code",
   "execution_count": 23,
   "id": "a8f85b85",
   "metadata": {},
   "outputs": [],
   "source": [
    "from sklearn.model_selection import train_test_split"
   ]
  },
  {
   "cell_type": "code",
   "execution_count": 24,
   "id": "1a878aad",
   "metadata": {},
   "outputs": [],
   "source": [
    "X_train,X_test,y_train,y_test=train_test_split(X,y,test_size=0.3,random_state=0)"
   ]
  },
  {
   "cell_type": "code",
   "execution_count": 25,
   "id": "817206d6",
   "metadata": {},
   "outputs": [],
   "source": [
    "from sklearn.ensemble import RandomForestClassifier"
   ]
  },
  {
   "cell_type": "code",
   "execution_count": 26,
   "id": "20c37e9d",
   "metadata": {},
   "outputs": [],
   "source": [
    "rf=RandomForestClassifier()"
   ]
  },
  {
   "cell_type": "code",
   "execution_count": 27,
   "id": "cdff1810",
   "metadata": {},
   "outputs": [
    {
     "data": {
      "text/html": [
       "<style>#sk-container-id-1 {color: black;}#sk-container-id-1 pre{padding: 0;}#sk-container-id-1 div.sk-toggleable {background-color: white;}#sk-container-id-1 label.sk-toggleable__label {cursor: pointer;display: block;width: 100%;margin-bottom: 0;padding: 0.3em;box-sizing: border-box;text-align: center;}#sk-container-id-1 label.sk-toggleable__label-arrow:before {content: \"▸\";float: left;margin-right: 0.25em;color: #696969;}#sk-container-id-1 label.sk-toggleable__label-arrow:hover:before {color: black;}#sk-container-id-1 div.sk-estimator:hover label.sk-toggleable__label-arrow:before {color: black;}#sk-container-id-1 div.sk-toggleable__content {max-height: 0;max-width: 0;overflow: hidden;text-align: left;background-color: #f0f8ff;}#sk-container-id-1 div.sk-toggleable__content pre {margin: 0.2em;color: black;border-radius: 0.25em;background-color: #f0f8ff;}#sk-container-id-1 input.sk-toggleable__control:checked~div.sk-toggleable__content {max-height: 200px;max-width: 100%;overflow: auto;}#sk-container-id-1 input.sk-toggleable__control:checked~label.sk-toggleable__label-arrow:before {content: \"▾\";}#sk-container-id-1 div.sk-estimator input.sk-toggleable__control:checked~label.sk-toggleable__label {background-color: #d4ebff;}#sk-container-id-1 div.sk-label input.sk-toggleable__control:checked~label.sk-toggleable__label {background-color: #d4ebff;}#sk-container-id-1 input.sk-hidden--visually {border: 0;clip: rect(1px 1px 1px 1px);clip: rect(1px, 1px, 1px, 1px);height: 1px;margin: -1px;overflow: hidden;padding: 0;position: absolute;width: 1px;}#sk-container-id-1 div.sk-estimator {font-family: monospace;background-color: #f0f8ff;border: 1px dotted black;border-radius: 0.25em;box-sizing: border-box;margin-bottom: 0.5em;}#sk-container-id-1 div.sk-estimator:hover {background-color: #d4ebff;}#sk-container-id-1 div.sk-parallel-item::after {content: \"\";width: 100%;border-bottom: 1px solid gray;flex-grow: 1;}#sk-container-id-1 div.sk-label:hover label.sk-toggleable__label {background-color: #d4ebff;}#sk-container-id-1 div.sk-serial::before {content: \"\";position: absolute;border-left: 1px solid gray;box-sizing: border-box;top: 0;bottom: 0;left: 50%;z-index: 0;}#sk-container-id-1 div.sk-serial {display: flex;flex-direction: column;align-items: center;background-color: white;padding-right: 0.2em;padding-left: 0.2em;position: relative;}#sk-container-id-1 div.sk-item {position: relative;z-index: 1;}#sk-container-id-1 div.sk-parallel {display: flex;align-items: stretch;justify-content: center;background-color: white;position: relative;}#sk-container-id-1 div.sk-item::before, #sk-container-id-1 div.sk-parallel-item::before {content: \"\";position: absolute;border-left: 1px solid gray;box-sizing: border-box;top: 0;bottom: 0;left: 50%;z-index: -1;}#sk-container-id-1 div.sk-parallel-item {display: flex;flex-direction: column;z-index: 1;position: relative;background-color: white;}#sk-container-id-1 div.sk-parallel-item:first-child::after {align-self: flex-end;width: 50%;}#sk-container-id-1 div.sk-parallel-item:last-child::after {align-self: flex-start;width: 50%;}#sk-container-id-1 div.sk-parallel-item:only-child::after {width: 0;}#sk-container-id-1 div.sk-dashed-wrapped {border: 1px dashed gray;margin: 0 0.4em 0.5em 0.4em;box-sizing: border-box;padding-bottom: 0.4em;background-color: white;}#sk-container-id-1 div.sk-label label {font-family: monospace;font-weight: bold;display: inline-block;line-height: 1.2em;}#sk-container-id-1 div.sk-label-container {text-align: center;}#sk-container-id-1 div.sk-container {/* jupyter's `normalize.less` sets `[hidden] { display: none; }` but bootstrap.min.css set `[hidden] { display: none !important; }` so we also need the `!important` here to be able to override the default hidden behavior on the sphinx rendered scikit-learn.org. See: https://github.com/scikit-learn/scikit-learn/issues/21755 */display: inline-block !important;position: relative;}#sk-container-id-1 div.sk-text-repr-fallback {display: none;}</style><div id=\"sk-container-id-1\" class=\"sk-top-container\"><div class=\"sk-text-repr-fallback\"><pre>RandomForestClassifier()</pre><b>In a Jupyter environment, please rerun this cell to show the HTML representation or trust the notebook. <br />On GitHub, the HTML representation is unable to render, please try loading this page with nbviewer.org.</b></div><div class=\"sk-container\" hidden><div class=\"sk-item\"><div class=\"sk-estimator sk-toggleable\"><input class=\"sk-toggleable__control sk-hidden--visually\" id=\"sk-estimator-id-1\" type=\"checkbox\" checked><label for=\"sk-estimator-id-1\" class=\"sk-toggleable__label sk-toggleable__label-arrow\">RandomForestClassifier</label><div class=\"sk-toggleable__content\"><pre>RandomForestClassifier()</pre></div></div></div></div></div>"
      ],
      "text/plain": [
       "RandomForestClassifier()"
      ]
     },
     "execution_count": 27,
     "metadata": {},
     "output_type": "execute_result"
    }
   ],
   "source": [
    "rf.fit(X_train,y_train)"
   ]
  },
  {
   "cell_type": "code",
   "execution_count": 28,
   "id": "ccde9268",
   "metadata": {},
   "outputs": [],
   "source": [
    "y_pred=rf.predict(X_test)"
   ]
  },
  {
   "cell_type": "code",
   "execution_count": 29,
   "id": "c3653dce",
   "metadata": {},
   "outputs": [
    {
     "name": "stdout",
     "output_type": "stream",
     "text": [
      "              precision    recall  f1-score   support\n",
      "\n",
      "           0       0.92      0.77      0.84        31\n",
      "           1       0.91      0.93      0.92       148\n",
      "           2       0.92      0.93      0.92       183\n",
      "\n",
      "    accuracy                           0.91       362\n",
      "   macro avg       0.92      0.88      0.89       362\n",
      "weighted avg       0.91      0.91      0.91       362\n",
      "\n"
     ]
    }
   ],
   "source": [
    "from sklearn.metrics import classification_report\n",
    "classification=classification_report(y_test,y_pred)\n",
    "print(classification)"
   ]
  },
  {
   "cell_type": "markdown",
   "id": "0e2e6441",
   "metadata": {},
   "source": [
    "# HUH! IT SEEMS EVEN WITHOUT DEALING WITH AN IMBALANCED DATA BY ADJUSTING WEIGHTS OR UP/DOWN SAMPLING OUR MODEL SEEM TO WORK PRETTY FINE. BUT THERE IS A SLIGHTLY LOW RECALL, MEANING OUR MODEL SEEM TO HAVE A SLIGHT PROBLEM AT DETECTING STUDENTS WITH POOR ADAPTIVITY, WHICH CONTRADICTS WITH THE WHOLE PURPOSE OF BUILDING THIS MODEL."
   ]
  },
  {
   "cell_type": "markdown",
   "id": "47dfac1e",
   "metadata": {},
   "source": [
    "# NOW WE CAN GO ABOUT IT IN TWO WAYS \n",
    "# 1) PERFORM A HYPER PARAMETER TUNING ON THIS MODEL TO FINE TUNE IT.\n",
    "# 2) LOOK FOR OTHER ML ALGORITHMS.\n"
   ]
  },
  {
   "cell_type": "code",
   "execution_count": 31,
   "id": "0d138f22",
   "metadata": {},
   "outputs": [],
   "source": [
    "from xgboost import XGBClassifier\n",
    "from sklearn.svm import SVC\n",
    "from sklearn.ensemble import BaggingClassifier\n",
    "from sklearn.ensemble import AdaBoostClassifier\n"
   ]
  },
  {
   "cell_type": "code",
   "execution_count": 32,
   "id": "27370cd0",
   "metadata": {},
   "outputs": [],
   "source": [
    "xg=XGBClassifier()\n",
    "svm=SVC()\n",
    "bag=BaggingClassifier()\n",
    "ada=AdaBoostClassifier()"
   ]
  },
  {
   "cell_type": "code",
   "execution_count": 33,
   "id": "2efb2acd",
   "metadata": {},
   "outputs": [],
   "source": [
    "a=[xg,svm,bag,ada]"
   ]
  },
  {
   "cell_type": "code",
   "execution_count": 34,
   "id": "933d3829",
   "metadata": {},
   "outputs": [
    {
     "name": "stdout",
     "output_type": "stream",
     "text": [
      "XGBClassifier(base_score=None, booster=None, callbacks=None,\n",
      "              colsample_bylevel=None, colsample_bynode=None,\n",
      "              colsample_bytree=None, early_stopping_rounds=None,\n",
      "              enable_categorical=False, eval_metric=None, feature_types=None,\n",
      "              gamma=None, gpu_id=None, grow_policy=None, importance_type=None,\n",
      "              interaction_constraints=None, learning_rate=None, max_bin=None,\n",
      "              max_cat_threshold=None, max_cat_to_onehot=None,\n",
      "              max_delta_step=None, max_depth=None, max_leaves=None,\n",
      "              min_child_weight=None, missing=nan, monotone_constraints=None,\n",
      "              n_estimators=100, n_jobs=None, num_parallel_tree=None,\n",
      "              objective='multi:softprob', predictor=None, ...)\n",
      "XGBClassifier(base_score=None, booster=None, callbacks=None,\n",
      "              colsample_bylevel=None, colsample_bynode=None,\n",
      "              colsample_bytree=None, early_stopping_rounds=None,\n",
      "              enable_categorical=False, eval_metric=None, feature_types=None,\n",
      "              gamma=None, gpu_id=None, grow_policy=None, importance_type=None,\n",
      "              interaction_constraints=None, learning_rate=None, max_bin=None,\n",
      "              max_cat_threshold=None, max_cat_to_onehot=None,\n",
      "              max_delta_step=None, max_depth=None, max_leaves=None,\n",
      "              min_child_weight=None, missing=nan, monotone_constraints=None,\n",
      "              n_estimators=100, n_jobs=None, num_parallel_tree=None,\n",
      "              objective='multi:softprob', predictor=None, ...)               precision    recall  f1-score   support\n",
      "\n",
      "           0       0.86      0.77      0.81        31\n",
      "           1       0.94      0.92      0.93       148\n",
      "           2       0.90      0.93      0.92       183\n",
      "\n",
      "    accuracy                           0.91       362\n",
      "   macro avg       0.90      0.88      0.89       362\n",
      "weighted avg       0.91      0.91      0.91       362\n",
      "\n",
      "SVC()\n",
      "SVC()               precision    recall  f1-score   support\n",
      "\n",
      "           0       0.73      0.35      0.48        31\n",
      "           1       0.86      0.57      0.69       148\n",
      "           2       0.68      0.92      0.78       183\n",
      "\n",
      "    accuracy                           0.73       362\n",
      "   macro avg       0.76      0.62      0.65       362\n",
      "weighted avg       0.76      0.73      0.72       362\n",
      "\n",
      "BaggingClassifier()\n",
      "BaggingClassifier()               precision    recall  f1-score   support\n",
      "\n",
      "           0       0.83      0.77      0.80        31\n",
      "           1       0.93      0.92      0.92       148\n",
      "           2       0.90      0.92      0.91       183\n",
      "\n",
      "    accuracy                           0.91       362\n",
      "   macro avg       0.89      0.87      0.88       362\n",
      "weighted avg       0.91      0.91      0.91       362\n",
      "\n",
      "AdaBoostClassifier()\n",
      "AdaBoostClassifier()               precision    recall  f1-score   support\n",
      "\n",
      "           0       0.75      0.29      0.42        31\n",
      "           1       0.77      0.59      0.67       148\n",
      "           2       0.66      0.84      0.74       183\n",
      "\n",
      "    accuracy                           0.69       362\n",
      "   macro avg       0.72      0.58      0.61       362\n",
      "weighted avg       0.71      0.69      0.68       362\n",
      "\n"
     ]
    }
   ],
   "source": [
    "for i in a:\n",
    "    i.fit(X_train,y_train)\n",
    "    y_pred=i.predict(X_test)\n",
    "    print(i)\n",
    "    print(i,classification_report(y_test,y_pred))"
   ]
  },
  {
   "cell_type": "markdown",
   "id": "f4c7780a",
   "metadata": {},
   "source": [
    "# WELL BAGGING CLASSIFIER SEEM TO HAVE DONE PRETTY WELL IN ALL ASPECTS BUT LETS AIM MORE PERFECTION."
   ]
  },
  {
   "cell_type": "code",
   "execution_count": 71,
   "id": "329d0d91",
   "metadata": {},
   "outputs": [],
   "source": [
    "from sklearn.model_selection import GridSearchCV,KFold,StratifiedKFold"
   ]
  },
  {
   "cell_type": "code",
   "execution_count": 89,
   "id": "6f41670b",
   "metadata": {},
   "outputs": [],
   "source": [
    "Grid= {\n",
    "    'n_estimators': [50, 100, 150, 200],\n",
    "    'max_depth': [None, 5, 10, 15],\n",
    "    'min_samples_split': [2, 5, 10],\n",
    "    'min_samples_leaf': [1, 2, 4],\n",
    "    'criterion': ['gini', 'entropy']\n",
    "}\n",
    "\n",
    " "
   ]
  },
  {
   "cell_type": "code",
   "execution_count": 53,
   "id": "5e114669",
   "metadata": {},
   "outputs": [],
   "source": [
    "cv=KFold(n_splits=10)"
   ]
  },
  {
   "cell_type": "code",
   "execution_count": 54,
   "id": "a926ccb6",
   "metadata": {},
   "outputs": [],
   "source": [
    "Grid_rf=GridSearchCV(rf,param_grid=Grid,cv=cv,scoring=\"recall\")"
   ]
  },
  {
   "cell_type": "code",
   "execution_count": 56,
   "id": "408d427e",
   "metadata": {},
   "outputs": [
    {
     "data": {
      "text/html": [
       "<style>#sk-container-id-3 {color: black;}#sk-container-id-3 pre{padding: 0;}#sk-container-id-3 div.sk-toggleable {background-color: white;}#sk-container-id-3 label.sk-toggleable__label {cursor: pointer;display: block;width: 100%;margin-bottom: 0;padding: 0.3em;box-sizing: border-box;text-align: center;}#sk-container-id-3 label.sk-toggleable__label-arrow:before {content: \"▸\";float: left;margin-right: 0.25em;color: #696969;}#sk-container-id-3 label.sk-toggleable__label-arrow:hover:before {color: black;}#sk-container-id-3 div.sk-estimator:hover label.sk-toggleable__label-arrow:before {color: black;}#sk-container-id-3 div.sk-toggleable__content {max-height: 0;max-width: 0;overflow: hidden;text-align: left;background-color: #f0f8ff;}#sk-container-id-3 div.sk-toggleable__content pre {margin: 0.2em;color: black;border-radius: 0.25em;background-color: #f0f8ff;}#sk-container-id-3 input.sk-toggleable__control:checked~div.sk-toggleable__content {max-height: 200px;max-width: 100%;overflow: auto;}#sk-container-id-3 input.sk-toggleable__control:checked~label.sk-toggleable__label-arrow:before {content: \"▾\";}#sk-container-id-3 div.sk-estimator input.sk-toggleable__control:checked~label.sk-toggleable__label {background-color: #d4ebff;}#sk-container-id-3 div.sk-label input.sk-toggleable__control:checked~label.sk-toggleable__label {background-color: #d4ebff;}#sk-container-id-3 input.sk-hidden--visually {border: 0;clip: rect(1px 1px 1px 1px);clip: rect(1px, 1px, 1px, 1px);height: 1px;margin: -1px;overflow: hidden;padding: 0;position: absolute;width: 1px;}#sk-container-id-3 div.sk-estimator {font-family: monospace;background-color: #f0f8ff;border: 1px dotted black;border-radius: 0.25em;box-sizing: border-box;margin-bottom: 0.5em;}#sk-container-id-3 div.sk-estimator:hover {background-color: #d4ebff;}#sk-container-id-3 div.sk-parallel-item::after {content: \"\";width: 100%;border-bottom: 1px solid gray;flex-grow: 1;}#sk-container-id-3 div.sk-label:hover label.sk-toggleable__label {background-color: #d4ebff;}#sk-container-id-3 div.sk-serial::before {content: \"\";position: absolute;border-left: 1px solid gray;box-sizing: border-box;top: 0;bottom: 0;left: 50%;z-index: 0;}#sk-container-id-3 div.sk-serial {display: flex;flex-direction: column;align-items: center;background-color: white;padding-right: 0.2em;padding-left: 0.2em;position: relative;}#sk-container-id-3 div.sk-item {position: relative;z-index: 1;}#sk-container-id-3 div.sk-parallel {display: flex;align-items: stretch;justify-content: center;background-color: white;position: relative;}#sk-container-id-3 div.sk-item::before, #sk-container-id-3 div.sk-parallel-item::before {content: \"\";position: absolute;border-left: 1px solid gray;box-sizing: border-box;top: 0;bottom: 0;left: 50%;z-index: -1;}#sk-container-id-3 div.sk-parallel-item {display: flex;flex-direction: column;z-index: 1;position: relative;background-color: white;}#sk-container-id-3 div.sk-parallel-item:first-child::after {align-self: flex-end;width: 50%;}#sk-container-id-3 div.sk-parallel-item:last-child::after {align-self: flex-start;width: 50%;}#sk-container-id-3 div.sk-parallel-item:only-child::after {width: 0;}#sk-container-id-3 div.sk-dashed-wrapped {border: 1px dashed gray;margin: 0 0.4em 0.5em 0.4em;box-sizing: border-box;padding-bottom: 0.4em;background-color: white;}#sk-container-id-3 div.sk-label label {font-family: monospace;font-weight: bold;display: inline-block;line-height: 1.2em;}#sk-container-id-3 div.sk-label-container {text-align: center;}#sk-container-id-3 div.sk-container {/* jupyter's `normalize.less` sets `[hidden] { display: none; }` but bootstrap.min.css set `[hidden] { display: none !important; }` so we also need the `!important` here to be able to override the default hidden behavior on the sphinx rendered scikit-learn.org. See: https://github.com/scikit-learn/scikit-learn/issues/21755 */display: inline-block !important;position: relative;}#sk-container-id-3 div.sk-text-repr-fallback {display: none;}</style><div id=\"sk-container-id-3\" class=\"sk-top-container\"><div class=\"sk-text-repr-fallback\"><pre>GridSearchCV(cv=KFold(n_splits=10, random_state=None, shuffle=False),\n",
       "             estimator=RandomForestClassifier(),\n",
       "             param_grid={&#x27;criterion&#x27;: [&#x27;gini&#x27;, &#x27;entropy&#x27;],\n",
       "                         &#x27;max_depth&#x27;: [None, 5, 10, 15],\n",
       "                         &#x27;min_samples_leaf&#x27;: [1, 2, 4],\n",
       "                         &#x27;min_samples_split&#x27;: [2, 5, 10],\n",
       "                         &#x27;n_estimators&#x27;: [50, 100, 150, 200]},\n",
       "             scoring=&#x27;recall&#x27;)</pre><b>In a Jupyter environment, please rerun this cell to show the HTML representation or trust the notebook. <br />On GitHub, the HTML representation is unable to render, please try loading this page with nbviewer.org.</b></div><div class=\"sk-container\" hidden><div class=\"sk-item sk-dashed-wrapped\"><div class=\"sk-label-container\"><div class=\"sk-label sk-toggleable\"><input class=\"sk-toggleable__control sk-hidden--visually\" id=\"sk-estimator-id-5\" type=\"checkbox\" ><label for=\"sk-estimator-id-5\" class=\"sk-toggleable__label sk-toggleable__label-arrow\">GridSearchCV</label><div class=\"sk-toggleable__content\"><pre>GridSearchCV(cv=KFold(n_splits=10, random_state=None, shuffle=False),\n",
       "             estimator=RandomForestClassifier(),\n",
       "             param_grid={&#x27;criterion&#x27;: [&#x27;gini&#x27;, &#x27;entropy&#x27;],\n",
       "                         &#x27;max_depth&#x27;: [None, 5, 10, 15],\n",
       "                         &#x27;min_samples_leaf&#x27;: [1, 2, 4],\n",
       "                         &#x27;min_samples_split&#x27;: [2, 5, 10],\n",
       "                         &#x27;n_estimators&#x27;: [50, 100, 150, 200]},\n",
       "             scoring=&#x27;recall&#x27;)</pre></div></div></div><div class=\"sk-parallel\"><div class=\"sk-parallel-item\"><div class=\"sk-item\"><div class=\"sk-label-container\"><div class=\"sk-label sk-toggleable\"><input class=\"sk-toggleable__control sk-hidden--visually\" id=\"sk-estimator-id-6\" type=\"checkbox\" ><label for=\"sk-estimator-id-6\" class=\"sk-toggleable__label sk-toggleable__label-arrow\">estimator: RandomForestClassifier</label><div class=\"sk-toggleable__content\"><pre>RandomForestClassifier()</pre></div></div></div><div class=\"sk-serial\"><div class=\"sk-item\"><div class=\"sk-estimator sk-toggleable\"><input class=\"sk-toggleable__control sk-hidden--visually\" id=\"sk-estimator-id-7\" type=\"checkbox\" ><label for=\"sk-estimator-id-7\" class=\"sk-toggleable__label sk-toggleable__label-arrow\">RandomForestClassifier</label><div class=\"sk-toggleable__content\"><pre>RandomForestClassifier()</pre></div></div></div></div></div></div></div></div></div></div>"
      ],
      "text/plain": [
       "GridSearchCV(cv=KFold(n_splits=10, random_state=None, shuffle=False),\n",
       "             estimator=RandomForestClassifier(),\n",
       "             param_grid={'criterion': ['gini', 'entropy'],\n",
       "                         'max_depth': [None, 5, 10, 15],\n",
       "                         'min_samples_leaf': [1, 2, 4],\n",
       "                         'min_samples_split': [2, 5, 10],\n",
       "                         'n_estimators': [50, 100, 150, 200]},\n",
       "             scoring='recall')"
      ]
     },
     "execution_count": 56,
     "metadata": {},
     "output_type": "execute_result"
    }
   ],
   "source": [
    "Grid_rf.fit(X_train,y_train)"
   ]
  },
  {
   "cell_type": "code",
   "execution_count": 57,
   "id": "cd7dd5f5",
   "metadata": {},
   "outputs": [
    {
     "name": "stdout",
     "output_type": "stream",
     "text": [
      "              precision    recall  f1-score   support\n",
      "\n",
      "           0       0.89      0.81      0.85        31\n",
      "           1       0.91      0.91      0.91       148\n",
      "           2       0.91      0.93      0.92       183\n",
      "\n",
      "    accuracy                           0.91       362\n",
      "   macro avg       0.91      0.88      0.89       362\n",
      "weighted avg       0.91      0.91      0.91       362\n",
      "\n"
     ]
    }
   ],
   "source": [
    "y_pred=Grid_rf.predict(X_test)\n",
    "print(classification_report(y_test,y_pred))\n",
    "                           \n",
    "                           \n",
    "                           \n",
    "                           \n",
    "                           \n",
    "                        "
   ]
  },
  {
   "cell_type": "code",
   "execution_count": 58,
   "id": "4da219d4",
   "metadata": {},
   "outputs": [
    {
     "data": {
      "text/plain": [
       "{'criterion': 'gini',\n",
       " 'max_depth': None,\n",
       " 'min_samples_leaf': 1,\n",
       " 'min_samples_split': 2,\n",
       " 'n_estimators': 50}"
      ]
     },
     "execution_count": 58,
     "metadata": {},
     "output_type": "execute_result"
    }
   ],
   "source": [
    "Grid_rf.best_params_"
   ]
  },
  {
   "cell_type": "code",
   "execution_count": null,
   "id": "ab7b82bd",
   "metadata": {},
   "outputs": [],
   "source": [
    "cm=confusion_matrix(y_test,y_pred)\n",
    "cm"
   ]
  },
  {
   "cell_type": "code",
   "execution_count": 110,
   "id": "5f4f9c77",
   "metadata": {},
   "outputs": [
    {
     "data": {
      "text/plain": [
       "<AxesSubplot:>"
      ]
     },
     "execution_count": 110,
     "metadata": {},
     "output_type": "execute_result"
    },
    {
     "data": {
      "image/png": "[encoded data removed]",
      "text/plain": [
       "<Figure size 300x300 with 2 Axes>"
      ]
     },
     "metadata": {},
     "output_type": "display_data"
    }
   ],
   "source": [
    "plt.figure(figsize=(3,3))\n",
    "sns.heatmap(cm,annot=True,fmt='d', xticklabels=['Predicted 0', 'Predicted 1', 'Predicted 2'], yticklabels=['Actual 0', 'Actual 1', 'Actual 2'])"
   ]
  },
  {
   "cell_type": "markdown",
   "id": "b51f3cf0",
   "metadata": {},
   "source": [
    "# WELL A HYPERPARAMETER DID INCREASE OUR MODELS RECALL BY 4%. NOW LETS SEE HOW IT WORKS FOR BAGGING CLASSIFIER AND IF WE CAN INCREASE THAT ANY MORE."
   ]
  },
  {
   "cell_type": "code",
   "execution_count": 70,
   "id": "63c98b61",
   "metadata": {},
   "outputs": [],
   "source": [
    "Grid= {\n",
    "'n_estimators': [10, 50, 100],\n",
    "    'max_samples': [0.5,0.7, 0.8, 1.0],\n",
    "    'max_features': [0.5,0.7, 0.8, 1.0],\n",
    "    'bootstrap': [True, False],\n",
    "    'bootstrap_features': [True, False] }\n"
   ]
  },
  {
   "cell_type": "code",
   "execution_count": 80,
   "id": "d9de80a5",
   "metadata": {},
   "outputs": [],
   "source": [
    "cv=KFold(n_splits=10)"
   ]
  },
  {
   "cell_type": "code",
   "execution_count": 81,
   "id": "7692fa60",
   "metadata": {},
   "outputs": [],
   "source": [
    "Grid_bag=GridSearchCV(bag,param_grid=Grid,cv=cv,scoring=\"f1\")"
   ]
  },
  {
   "cell_type": "code",
   "execution_count": 82,
   "id": "541e3ff4",
   "metadata": {},
   "outputs": [
    {
     "data": {
      "text/html": [
       "<style>#sk-container-id-6 {color: black;}#sk-container-id-6 pre{padding: 0;}#sk-container-id-6 div.sk-toggleable {background-color: white;}#sk-container-id-6 label.sk-toggleable__label {cursor: pointer;display: block;width: 100%;margin-bottom: 0;padding: 0.3em;box-sizing: border-box;text-align: center;}#sk-container-id-6 label.sk-toggleable__label-arrow:before {content: \"▸\";float: left;margin-right: 0.25em;color: #696969;}#sk-container-id-6 label.sk-toggleable__label-arrow:hover:before {color: black;}#sk-container-id-6 div.sk-estimator:hover label.sk-toggleable__label-arrow:before {color: black;}#sk-container-id-6 div.sk-toggleable__content {max-height: 0;max-width: 0;overflow: hidden;text-align: left;background-color: #f0f8ff;}#sk-container-id-6 div.sk-toggleable__content pre {margin: 0.2em;color: black;border-radius: 0.25em;background-color: #f0f8ff;}#sk-container-id-6 input.sk-toggleable__control:checked~div.sk-toggleable__content {max-height: 200px;max-width: 100%;overflow: auto;}#sk-container-id-6 input.sk-toggleable__control:checked~label.sk-toggleable__label-arrow:before {content: \"▾\";}#sk-container-id-6 div.sk-estimator input.sk-toggleable__control:checked~label.sk-toggleable__label {background-color: #d4ebff;}#sk-container-id-6 div.sk-label input.sk-toggleable__control:checked~label.sk-toggleable__label {background-color: #d4ebff;}#sk-container-id-6 input.sk-hidden--visually {border: 0;clip: rect(1px 1px 1px 1px);clip: rect(1px, 1px, 1px, 1px);height: 1px;margin: -1px;overflow: hidden;padding: 0;position: absolute;width: 1px;}#sk-container-id-6 div.sk-estimator {font-family: monospace;background-color: #f0f8ff;border: 1px dotted black;border-radius: 0.25em;box-sizing: border-box;margin-bottom: 0.5em;}#sk-container-id-6 div.sk-estimator:hover {background-color: #d4ebff;}#sk-container-id-6 div.sk-parallel-item::after {content: \"\";width: 100%;border-bottom: 1px solid gray;flex-grow: 1;}#sk-container-id-6 div.sk-label:hover label.sk-toggleable__label {background-color: #d4ebff;}#sk-container-id-6 div.sk-serial::before {content: \"\";position: absolute;border-left: 1px solid gray;box-sizing: border-box;top: 0;bottom: 0;left: 50%;z-index: 0;}#sk-container-id-6 div.sk-serial {display: flex;flex-direction: column;align-items: center;background-color: white;padding-right: 0.2em;padding-left: 0.2em;position: relative;}#sk-container-id-6 div.sk-item {position: relative;z-index: 1;}#sk-container-id-6 div.sk-parallel {display: flex;align-items: stretch;justify-content: center;background-color: white;position: relative;}#sk-container-id-6 div.sk-item::before, #sk-container-id-6 div.sk-parallel-item::before {content: \"\";position: absolute;border-left: 1px solid gray;box-sizing: border-box;top: 0;bottom: 0;left: 50%;z-index: -1;}#sk-container-id-6 div.sk-parallel-item {display: flex;flex-direction: column;z-index: 1;position: relative;background-color: white;}#sk-container-id-6 div.sk-parallel-item:first-child::after {align-self: flex-end;width: 50%;}#sk-container-id-6 div.sk-parallel-item:last-child::after {align-self: flex-start;width: 50%;}#sk-container-id-6 div.sk-parallel-item:only-child::after {width: 0;}#sk-container-id-6 div.sk-dashed-wrapped {border: 1px dashed gray;margin: 0 0.4em 0.5em 0.4em;box-sizing: border-box;padding-bottom: 0.4em;background-color: white;}#sk-container-id-6 div.sk-label label {font-family: monospace;font-weight: bold;display: inline-block;line-height: 1.2em;}#sk-container-id-6 div.sk-label-container {text-align: center;}#sk-container-id-6 div.sk-container {/* jupyter's `normalize.less` sets `[hidden] { display: none; }` but bootstrap.min.css set `[hidden] { display: none !important; }` so we also need the `!important` here to be able to override the default hidden behavior on the sphinx rendered scikit-learn.org. See: https://github.com/scikit-learn/scikit-learn/issues/21755 */display: inline-block !important;position: relative;}#sk-container-id-6 div.sk-text-repr-fallback {display: none;}</style><div id=\"sk-container-id-6\" class=\"sk-top-container\"><div class=\"sk-text-repr-fallback\"><pre>GridSearchCV(cv=KFold(n_splits=10, random_state=None, shuffle=False),\n",
       "             estimator=BaggingClassifier(),\n",
       "             param_grid={&#x27;bootstrap&#x27;: [True, False],\n",
       "                         &#x27;bootstrap_features&#x27;: [True, False],\n",
       "                         &#x27;max_features&#x27;: [0.5, 0.7, 0.8, 1.0],\n",
       "                         &#x27;max_samples&#x27;: [0.5, 0.7, 0.8, 1.0],\n",
       "                         &#x27;n_estimators&#x27;: [10, 50, 100]},\n",
       "             scoring=&#x27;f1&#x27;)</pre><b>In a Jupyter environment, please rerun this cell to show the HTML representation or trust the notebook. <br />On GitHub, the HTML representation is unable to render, please try loading this page with nbviewer.org.</b></div><div class=\"sk-container\" hidden><div class=\"sk-item sk-dashed-wrapped\"><div class=\"sk-label-container\"><div class=\"sk-label sk-toggleable\"><input class=\"sk-toggleable__control sk-hidden--visually\" id=\"sk-estimator-id-12\" type=\"checkbox\" ><label for=\"sk-estimator-id-12\" class=\"sk-toggleable__label sk-toggleable__label-arrow\">GridSearchCV</label><div class=\"sk-toggleable__content\"><pre>GridSearchCV(cv=KFold(n_splits=10, random_state=None, shuffle=False),\n",
       "             estimator=BaggingClassifier(),\n",
       "             param_grid={&#x27;bootstrap&#x27;: [True, False],\n",
       "                         &#x27;bootstrap_features&#x27;: [True, False],\n",
       "                         &#x27;max_features&#x27;: [0.5, 0.7, 0.8, 1.0],\n",
       "                         &#x27;max_samples&#x27;: [0.5, 0.7, 0.8, 1.0],\n",
       "                         &#x27;n_estimators&#x27;: [10, 50, 100]},\n",
       "             scoring=&#x27;f1&#x27;)</pre></div></div></div><div class=\"sk-parallel\"><div class=\"sk-parallel-item\"><div class=\"sk-item\"><div class=\"sk-label-container\"><div class=\"sk-label sk-toggleable\"><input class=\"sk-toggleable__control sk-hidden--visually\" id=\"sk-estimator-id-13\" type=\"checkbox\" ><label for=\"sk-estimator-id-13\" class=\"sk-toggleable__label sk-toggleable__label-arrow\">estimator: BaggingClassifier</label><div class=\"sk-toggleable__content\"><pre>BaggingClassifier()</pre></div></div></div><div class=\"sk-serial\"><div class=\"sk-item\"><div class=\"sk-estimator sk-toggleable\"><input class=\"sk-toggleable__control sk-hidden--visually\" id=\"sk-estimator-id-14\" type=\"checkbox\" ><label for=\"sk-estimator-id-14\" class=\"sk-toggleable__label sk-toggleable__label-arrow\">BaggingClassifier</label><div class=\"sk-toggleable__content\"><pre>BaggingClassifier()</pre></div></div></div></div></div></div></div></div></div></div>"
      ],
      "text/plain": [
       "GridSearchCV(cv=KFold(n_splits=10, random_state=None, shuffle=False),\n",
       "             estimator=BaggingClassifier(),\n",
       "             param_grid={'bootstrap': [True, False],\n",
       "                         'bootstrap_features': [True, False],\n",
       "                         'max_features': [0.5, 0.7, 0.8, 1.0],\n",
       "                         'max_samples': [0.5, 0.7, 0.8, 1.0],\n",
       "                         'n_estimators': [10, 50, 100]},\n",
       "             scoring='f1')"
      ]
     },
     "execution_count": 82,
     "metadata": {},
     "output_type": "execute_result"
    }
   ],
   "source": [
    "Grid_bag.fit(X_train,y_train)"
   ]
  },
  {
   "cell_type": "code",
   "execution_count": 85,
   "id": "8d22204b",
   "metadata": {},
   "outputs": [],
   "source": [
    "y_pred=Grid_bag.predict(X_test)"
   ]
  },
  {
   "cell_type": "code",
   "execution_count": 86,
   "id": "ba48953a",
   "metadata": {},
   "outputs": [
    {
     "name": "stdout",
     "output_type": "stream",
     "text": [
      "              precision    recall  f1-score   support\n",
      "\n",
      "           0       1.00      0.16      0.28        31\n",
      "           1       0.81      0.62      0.70       148\n",
      "           2       0.67      0.89      0.77       183\n",
      "\n",
      "    accuracy                           0.72       362\n",
      "   macro avg       0.83      0.56      0.58       362\n",
      "weighted avg       0.75      0.72      0.70       362\n",
      "\n"
     ]
    }
   ],
   "source": [
    "print(classification_report(y_test,y_pred))"
   ]
  },
  {
   "cell_type": "code",
   "execution_count": null,
   "id": "8fd9d607",
   "metadata": {},
   "outputs": [],
   "source": [
    "cm=confusion_matrix(y_test,y_pred)\n",
    "plt.figure(figsize=(3,3))\n",
    "sns.heatmap(cm,annot=True,fmt='d', xticklabels=['Predicted 0', 'Predicted 1', 'Predicted 2'], yticklabels=['Actual 0', 'Actual 1', 'Actual 2'])"
   ]
  },
  {
   "cell_type": "markdown",
   "id": "9f8b6059",
   "metadata": {},
   "source": [
    "# OH WOW IT ACTUALLY MADE OUR MODEL WORSE...."
   ]
  },
  {
   "cell_type": "code",
   "execution_count": 87,
   "id": "10081a53",
   "metadata": {},
   "outputs": [
    {
     "data": {
      "text/plain": [
       "{'bootstrap': True,\n",
       " 'bootstrap_features': True,\n",
       " 'max_features': 0.5,\n",
       " 'max_samples': 0.5,\n",
       " 'n_estimators': 10}"
      ]
     },
     "execution_count": 87,
     "metadata": {},
     "output_type": "execute_result"
    }
   ],
   "source": [
    "Grid_bag.best_params_"
   ]
  },
  {
   "cell_type": "markdown",
   "id": "846789a1",
   "metadata": {},
   "source": [
    "# P.S I ALSO TRIED STRATIFIED K FOLD SINCE ITS SUPPOSED TO WORK WELL ON IMBALANCED DATA BUT THE RESULT WASN'T ANY BETTER, SO FOR NOW LETS FOCUS ON OUR BEST PERFORMING ALGORITHM RANDOM FOREST. "
   ]
  },
  {
   "cell_type": "markdown",
   "id": "5ce5b9c2",
   "metadata": {},
   "source": [
    "# LETS TRY ADJUSTING WEIGHTS, GOOD THING THAT RANDOM FOREST ALREADY PROVIDES A PARAMETER FOR THAT SO NO NEED TO IMPORT ANY LIBRARIES."
   ]
  },
  {
   "cell_type": "code",
   "execution_count": 90,
   "id": "c8978655",
   "metadata": {},
   "outputs": [],
   "source": [
    "rfc=RandomForestClassifier(class_weight=\"balanced\")\n",
    "Grid= {\n",
    "    'n_estimators': [50, 100, 150, 200],\n",
    "    'max_depth': [None, 5, 10, 15],\n",
    "    'min_samples_split': [2, 5, 10],\n",
    "    'min_samples_leaf': [1, 2, 4],\n",
    "    'criterion': ['gini', 'entropy']\n",
    "}\n",
    "\n",
    "cv=KFold(n_splits=5)\n",
    "\n",
    " "
   ]
  },
  {
   "cell_type": "code",
   "execution_count": 96,
   "id": "1bdf1b5b",
   "metadata": {},
   "outputs": [],
   "source": [
    "Grid_rf_wt=GridSearchCV(rfc,param_grid=Grid,scoring=\"f1\",n_jobs=-1)"
   ]
  },
  {
   "cell_type": "code",
   "execution_count": 97,
   "id": "de7673af",
   "metadata": {},
   "outputs": [
    {
     "data": {
      "text/html": [
       "<style>#sk-container-id-8 {color: black;}#sk-container-id-8 pre{padding: 0;}#sk-container-id-8 div.sk-toggleable {background-color: white;}#sk-container-id-8 label.sk-toggleable__label {cursor: pointer;display: block;width: 100%;margin-bottom: 0;padding: 0.3em;box-sizing: border-box;text-align: center;}#sk-container-id-8 label.sk-toggleable__label-arrow:before {content: \"▸\";float: left;margin-right: 0.25em;color: #696969;}#sk-container-id-8 label.sk-toggleable__label-arrow:hover:before {color: black;}#sk-container-id-8 div.sk-estimator:hover label.sk-toggleable__label-arrow:before {color: black;}#sk-container-id-8 div.sk-toggleable__content {max-height: 0;max-width: 0;overflow: hidden;text-align: left;background-color: #f0f8ff;}#sk-container-id-8 div.sk-toggleable__content pre {margin: 0.2em;color: black;border-radius: 0.25em;background-color: #f0f8ff;}#sk-container-id-8 input.sk-toggleable__control:checked~div.sk-toggleable__content {max-height: 200px;max-width: 100%;overflow: auto;}#sk-container-id-8 input.sk-toggleable__control:checked~label.sk-toggleable__label-arrow:before {content: \"▾\";}#sk-container-id-8 div.sk-estimator input.sk-toggleable__control:checked~label.sk-toggleable__label {background-color: #d4ebff;}#sk-container-id-8 div.sk-label input.sk-toggleable__control:checked~label.sk-toggleable__label {background-color: #d4ebff;}#sk-container-id-8 input.sk-hidden--visually {border: 0;clip: rect(1px 1px 1px 1px);clip: rect(1px, 1px, 1px, 1px);height: 1px;margin: -1px;overflow: hidden;padding: 0;position: absolute;width: 1px;}#sk-container-id-8 div.sk-estimator {font-family: monospace;background-color: #f0f8ff;border: 1px dotted black;border-radius: 0.25em;box-sizing: border-box;margin-bottom: 0.5em;}#sk-container-id-8 div.sk-estimator:hover {background-color: #d4ebff;}#sk-container-id-8 div.sk-parallel-item::after {content: \"\";width: 100%;border-bottom: 1px solid gray;flex-grow: 1;}#sk-container-id-8 div.sk-label:hover label.sk-toggleable__label {background-color: #d4ebff;}#sk-container-id-8 div.sk-serial::before {content: \"\";position: absolute;border-left: 1px solid gray;box-sizing: border-box;top: 0;bottom: 0;left: 50%;z-index: 0;}#sk-container-id-8 div.sk-serial {display: flex;flex-direction: column;align-items: center;background-color: white;padding-right: 0.2em;padding-left: 0.2em;position: relative;}#sk-container-id-8 div.sk-item {position: relative;z-index: 1;}#sk-container-id-8 div.sk-parallel {display: flex;align-items: stretch;justify-content: center;background-color: white;position: relative;}#sk-container-id-8 div.sk-item::before, #sk-container-id-8 div.sk-parallel-item::before {content: \"\";position: absolute;border-left: 1px solid gray;box-sizing: border-box;top: 0;bottom: 0;left: 50%;z-index: -1;}#sk-container-id-8 div.sk-parallel-item {display: flex;flex-direction: column;z-index: 1;position: relative;background-color: white;}#sk-container-id-8 div.sk-parallel-item:first-child::after {align-self: flex-end;width: 50%;}#sk-container-id-8 div.sk-parallel-item:last-child::after {align-self: flex-start;width: 50%;}#sk-container-id-8 div.sk-parallel-item:only-child::after {width: 0;}#sk-container-id-8 div.sk-dashed-wrapped {border: 1px dashed gray;margin: 0 0.4em 0.5em 0.4em;box-sizing: border-box;padding-bottom: 0.4em;background-color: white;}#sk-container-id-8 div.sk-label label {font-family: monospace;font-weight: bold;display: inline-block;line-height: 1.2em;}#sk-container-id-8 div.sk-label-container {text-align: center;}#sk-container-id-8 div.sk-container {/* jupyter's `normalize.less` sets `[hidden] { display: none; }` but bootstrap.min.css set `[hidden] { display: none !important; }` so we also need the `!important` here to be able to override the default hidden behavior on the sphinx rendered scikit-learn.org. See: https://github.com/scikit-learn/scikit-learn/issues/21755 */display: inline-block !important;position: relative;}#sk-container-id-8 div.sk-text-repr-fallback {display: none;}</style><div id=\"sk-container-id-8\" class=\"sk-top-container\"><div class=\"sk-text-repr-fallback\"><pre>GridSearchCV(estimator=RandomForestClassifier(class_weight=&#x27;balanced&#x27;),\n",
       "             n_jobs=-1,\n",
       "             param_grid={&#x27;criterion&#x27;: [&#x27;gini&#x27;, &#x27;entropy&#x27;],\n",
       "                         &#x27;max_depth&#x27;: [None, 5, 10, 15],\n",
       "                         &#x27;min_samples_leaf&#x27;: [1, 2, 4],\n",
       "                         &#x27;min_samples_split&#x27;: [2, 5, 10],\n",
       "                         &#x27;n_estimators&#x27;: [50, 100, 150, 200]},\n",
       "             scoring=&#x27;f1&#x27;)</pre><b>In a Jupyter environment, please rerun this cell to show the HTML representation or trust the notebook. <br />On GitHub, the HTML representation is unable to render, please try loading this page with nbviewer.org.</b></div><div class=\"sk-container\" hidden><div class=\"sk-item sk-dashed-wrapped\"><div class=\"sk-label-container\"><div class=\"sk-label sk-toggleable\"><input class=\"sk-toggleable__control sk-hidden--visually\" id=\"sk-estimator-id-18\" type=\"checkbox\" ><label for=\"sk-estimator-id-18\" class=\"sk-toggleable__label sk-toggleable__label-arrow\">GridSearchCV</label><div class=\"sk-toggleable__content\"><pre>GridSearchCV(estimator=RandomForestClassifier(class_weight=&#x27;balanced&#x27;),\n",
       "             n_jobs=-1,\n",
       "             param_grid={&#x27;criterion&#x27;: [&#x27;gini&#x27;, &#x27;entropy&#x27;],\n",
       "                         &#x27;max_depth&#x27;: [None, 5, 10, 15],\n",
       "                         &#x27;min_samples_leaf&#x27;: [1, 2, 4],\n",
       "                         &#x27;min_samples_split&#x27;: [2, 5, 10],\n",
       "                         &#x27;n_estimators&#x27;: [50, 100, 150, 200]},\n",
       "             scoring=&#x27;f1&#x27;)</pre></div></div></div><div class=\"sk-parallel\"><div class=\"sk-parallel-item\"><div class=\"sk-item\"><div class=\"sk-label-container\"><div class=\"sk-label sk-toggleable\"><input class=\"sk-toggleable__control sk-hidden--visually\" id=\"sk-estimator-id-19\" type=\"checkbox\" ><label for=\"sk-estimator-id-19\" class=\"sk-toggleable__label sk-toggleable__label-arrow\">estimator: RandomForestClassifier</label><div class=\"sk-toggleable__content\"><pre>RandomForestClassifier(class_weight=&#x27;balanced&#x27;)</pre></div></div></div><div class=\"sk-serial\"><div class=\"sk-item\"><div class=\"sk-estimator sk-toggleable\"><input class=\"sk-toggleable__control sk-hidden--visually\" id=\"sk-estimator-id-20\" type=\"checkbox\" ><label for=\"sk-estimator-id-20\" class=\"sk-toggleable__label sk-toggleable__label-arrow\">RandomForestClassifier</label><div class=\"sk-toggleable__content\"><pre>RandomForestClassifier(class_weight=&#x27;balanced&#x27;)</pre></div></div></div></div></div></div></div></div></div></div>"
      ],
      "text/plain": [
       "GridSearchCV(estimator=RandomForestClassifier(class_weight='balanced'),\n",
       "             n_jobs=-1,\n",
       "             param_grid={'criterion': ['gini', 'entropy'],\n",
       "                         'max_depth': [None, 5, 10, 15],\n",
       "                         'min_samples_leaf': [1, 2, 4],\n",
       "                         'min_samples_split': [2, 5, 10],\n",
       "                         'n_estimators': [50, 100, 150, 200]},\n",
       "             scoring='f1')"
      ]
     },
     "execution_count": 97,
     "metadata": {},
     "output_type": "execute_result"
    }
   ],
   "source": [
    "Grid_rf_wt.fit(X_train,y_train)"
   ]
  },
  {
   "cell_type": "code",
   "execution_count": 98,
   "id": "fa3a264f",
   "metadata": {},
   "outputs": [],
   "source": [
    "y_pred=Grid_rf_wt.predict(X_test)"
   ]
  },
  {
   "cell_type": "code",
   "execution_count": 100,
   "id": "19d53e2f",
   "metadata": {},
   "outputs": [
    {
     "name": "stdout",
     "output_type": "stream",
     "text": [
      "              precision    recall  f1-score   support\n",
      "\n",
      "           0       0.63      0.87      0.73        31\n",
      "           1       0.91      0.93      0.92       148\n",
      "           2       0.93      0.86      0.89       183\n",
      "\n",
      "    accuracy                           0.89       362\n",
      "   macro avg       0.82      0.88      0.85       362\n",
      "weighted avg       0.90      0.89      0.89       362\n",
      "\n"
     ]
    }
   ],
   "source": [
    "print(classification_report(y_test,y_pred))"
   ]
  },
  {
   "cell_type": "markdown",
   "id": "98297b47",
   "metadata": {},
   "source": [
    "# WELL THAT DID'NT DO US ANY GOOD  AS ALTHOUGHT IT MIGHT HAVE INCREASED OUR RECALL SIGNIFICANTLY BUT THE PRECISION AND F1-SCORE IS DOWN SIGNIFICANTLY."
   ]
  },
  {
   "cell_type": "code",
   "execution_count": 101,
   "id": "1178526c",
   "metadata": {},
   "outputs": [],
   "source": [
    "from sklearn.metrics import confusion_matrix"
   ]
  },
  {
   "cell_type": "code",
   "execution_count": 104,
   "id": "e5c818cf",
   "metadata": {},
   "outputs": [
    {
     "data": {
      "text/plain": [
       "array([[ 27,   2,   2],\n",
       "       [  2, 137,   9],\n",
       "       [ 14,  12, 157]], dtype=int64)"
      ]
     },
     "execution_count": 104,
     "metadata": {},
     "output_type": "execute_result"
    }
   ],
   "source": [
    "cm=confusion_matrix(y_test,y_pred)\n",
    "cm"
   ]
  },
  {
   "cell_type": "code",
   "execution_count": 109,
   "id": "5a57da45",
   "metadata": {},
   "outputs": [
    {
     "data": {
      "text/plain": [
       "<AxesSubplot:>"
      ]
     },
     "execution_count": 109,
     "metadata": {},
     "output_type": "execute_result"
    },
    {
     "data": {
      "image/png": "[encoded data removed]",
      "text/plain": [
       "<Figure size 300x300 with 2 Axes>"
      ]
     },
     "metadata": {},
     "output_type": "display_data"
    }
   ],
   "source": [
    "plt.figure(figsize=(3,3))\n",
    "sns.heatmap(cm,annot=True,fmt='d', xticklabels=['Predicted 0', 'Predicted 1', 'Predicted 2'], yticklabels=['Actual 0', 'Actual 1', 'Actual 2'])"
   ]
  },
  {
   "cell_type": "markdown",
   "id": "d3e1762c",
   "metadata": {},
   "source": [
    "# I THINK WE HA GOTTEN OUR BEST MODEL WHICH IS RANDOM FOREST AFTER HYPER PARAMETER TUNING BUT LET,S TRY USING NEURAL NETWORKS FOR ONCE AND SEE HOW IT PERFORMS."
   ]
  },
  {
   "cell_type": "code",
   "execution_count": 117,
   "id": "f2cf4f52",
   "metadata": {},
   "outputs": [],
   "source": [
    "import tensorflow as tf"
   ]
  },
  {
   "cell_type": "code",
   "execution_count": 124,
   "id": "ceb7a11a",
   "metadata": {},
   "outputs": [],
   "source": [
    "from tensorflow.keras.models import Sequential\n",
    "from tensorflow.keras.layers import Dense"
   ]
  },
  {
   "cell_type": "code",
   "execution_count": 128,
   "id": "6f36f33a",
   "metadata": {},
   "outputs": [],
   "source": [
    "model=Sequential()\n",
    "model.add(Dense(64,input_dim=X_train.shape[1],activation=\"relu\"))\n",
    "model.add(Dense(32,activation=\"relu\"))\n",
    "model.add(Dense(16,activation=\"relu\"))\n",
    "model.add(Dense(3,activation=\"softmax\"))"
   ]
  },
  {
   "cell_type": "code",
   "execution_count": 141,
   "id": "50372d3e",
   "metadata": {},
   "outputs": [],
   "source": []
  },
  {
   "cell_type": "code",
   "execution_count": 144,
   "id": "ec7e1421",
   "metadata": {},
   "outputs": [],
   "source": [
    "model.compile(loss='sparse_categorical_crossentropy', optimizer='adam', metrics=[\"accuracy\"])\n"
   ]
  },
  {
   "cell_type": "code",
   "execution_count": 149,
   "id": "a9256ab1",
   "metadata": {},
   "outputs": [
    {
     "name": "stdout",
     "output_type": "stream",
     "text": [
      "Epoch 1/120\n",
      "27/27 [==============================] - 0s 11ms/step - loss: 0.2072 - accuracy: 0.9158 - val_loss: 0.3137 - val_accuracy: 0.8895\n",
      "Epoch 2/120\n",
      "27/27 [==============================] - 0s 9ms/step - loss: 0.1952 - accuracy: 0.9146 - val_loss: 0.3204 - val_accuracy: 0.8950\n",
      "Epoch 3/120\n",
      "27/27 [==============================] - 0s 8ms/step - loss: 0.1934 - accuracy: 0.9229 - val_loss: 0.3121 - val_accuracy: 0.8923\n",
      "Epoch 4/120\n",
      "27/27 [==============================] - 0s 9ms/step - loss: 0.1873 - accuracy: 0.9241 - val_loss: 0.3094 - val_accuracy: 0.8923\n",
      "Epoch 5/120\n",
      "27/27 [==============================] - 0s 9ms/step - loss: 0.1861 - accuracy: 0.9253 - val_loss: 0.3323 - val_accuracy: 0.8950\n",
      "Epoch 6/120\n",
      "27/27 [==============================] - 0s 10ms/step - loss: 0.1950 - accuracy: 0.9217 - val_loss: 0.3127 - val_accuracy: 0.8923\n",
      "Epoch 7/120\n",
      "27/27 [==============================] - 0s 11ms/step - loss: 0.1888 - accuracy: 0.9134 - val_loss: 0.3095 - val_accuracy: 0.8950\n",
      "Epoch 8/120\n",
      "27/27 [==============================] - 0s 9ms/step - loss: 0.1876 - accuracy: 0.9158 - val_loss: 0.3368 - val_accuracy: 0.8895\n",
      "Epoch 9/120\n",
      "27/27 [==============================] - 0s 9ms/step - loss: 0.2112 - accuracy: 0.9087 - val_loss: 0.3792 - val_accuracy: 0.8757\n",
      "Epoch 10/120\n",
      "27/27 [==============================] - 0s 8ms/step - loss: 0.1894 - accuracy: 0.9170 - val_loss: 0.3306 - val_accuracy: 0.8785\n",
      "Epoch 11/120\n",
      "27/27 [==============================] - 0s 9ms/step - loss: 0.1883 - accuracy: 0.9217 - val_loss: 0.3120 - val_accuracy: 0.8923\n",
      "Epoch 12/120\n",
      "27/27 [==============================] - 0s 8ms/step - loss: 0.1922 - accuracy: 0.9241 - val_loss: 0.3111 - val_accuracy: 0.8895\n",
      "Epoch 13/120\n",
      "27/27 [==============================] - 0s 8ms/step - loss: 0.1762 - accuracy: 0.9288 - val_loss: 0.3009 - val_accuracy: 0.8978\n",
      "Epoch 14/120\n",
      "27/27 [==============================] - 0s 8ms/step - loss: 0.1825 - accuracy: 0.9253 - val_loss: 0.3234 - val_accuracy: 0.8923\n",
      "Epoch 15/120\n",
      "27/27 [==============================] - 0s 8ms/step - loss: 0.1848 - accuracy: 0.9253 - val_loss: 0.3044 - val_accuracy: 0.8978\n",
      "Epoch 16/120\n",
      "27/27 [==============================] - 0s 9ms/step - loss: 0.1799 - accuracy: 0.9241 - val_loss: 0.2993 - val_accuracy: 0.9006\n",
      "Epoch 17/120\n",
      "27/27 [==============================] - 0s 9ms/step - loss: 0.1907 - accuracy: 0.9158 - val_loss: 0.2981 - val_accuracy: 0.9033\n",
      "Epoch 18/120\n",
      "27/27 [==============================] - 0s 9ms/step - loss: 0.1850 - accuracy: 0.9122 - val_loss: 0.3193 - val_accuracy: 0.8950\n",
      "Epoch 19/120\n",
      "27/27 [==============================] - 0s 9ms/step - loss: 0.1820 - accuracy: 0.9229 - val_loss: 0.2948 - val_accuracy: 0.9006\n",
      "Epoch 20/120\n",
      "27/27 [==============================] - 0s 10ms/step - loss: 0.2061 - accuracy: 0.9134 - val_loss: 0.3700 - val_accuracy: 0.8702\n",
      "Epoch 21/120\n",
      "27/27 [==============================] - 0s 10ms/step - loss: 0.1946 - accuracy: 0.9217 - val_loss: 0.3148 - val_accuracy: 0.9006\n",
      "Epoch 22/120\n",
      "27/27 [==============================] - 0s 9ms/step - loss: 0.1906 - accuracy: 0.9253 - val_loss: 0.3208 - val_accuracy: 0.8950\n",
      "Epoch 23/120\n",
      "27/27 [==============================] - 0s 9ms/step - loss: 0.1805 - accuracy: 0.9205 - val_loss: 0.2998 - val_accuracy: 0.8978\n",
      "Epoch 24/120\n",
      "27/27 [==============================] - 0s 9ms/step - loss: 0.1698 - accuracy: 0.9229 - val_loss: 0.3231 - val_accuracy: 0.8867\n",
      "Epoch 25/120\n",
      "27/27 [==============================] - 0s 9ms/step - loss: 0.1829 - accuracy: 0.9241 - val_loss: 0.3068 - val_accuracy: 0.8978\n",
      "Epoch 26/120\n",
      "27/27 [==============================] - 0s 9ms/step - loss: 0.1848 - accuracy: 0.9288 - val_loss: 0.3208 - val_accuracy: 0.8950\n",
      "Epoch 27/120\n",
      "27/27 [==============================] - 0s 9ms/step - loss: 0.1831 - accuracy: 0.9181 - val_loss: 0.3061 - val_accuracy: 0.8978\n",
      "Epoch 28/120\n",
      "27/27 [==============================] - 0s 9ms/step - loss: 0.1829 - accuracy: 0.9193 - val_loss: 0.3257 - val_accuracy: 0.8923\n",
      "Epoch 29/120\n",
      "27/27 [==============================] - 0s 8ms/step - loss: 0.1806 - accuracy: 0.9265 - val_loss: 0.2949 - val_accuracy: 0.8978\n",
      "Epoch 30/120\n",
      "27/27 [==============================] - 0s 8ms/step - loss: 0.1777 - accuracy: 0.9205 - val_loss: 0.2936 - val_accuracy: 0.9033\n",
      "Epoch 31/120\n",
      "27/27 [==============================] - 0s 8ms/step - loss: 0.1799 - accuracy: 0.9217 - val_loss: 0.2942 - val_accuracy: 0.9116\n",
      "Epoch 32/120\n",
      "27/27 [==============================] - 0s 8ms/step - loss: 0.1792 - accuracy: 0.9193 - val_loss: 0.3036 - val_accuracy: 0.8978\n",
      "Epoch 33/120\n",
      "27/27 [==============================] - 0s 9ms/step - loss: 0.1772 - accuracy: 0.9288 - val_loss: 0.2998 - val_accuracy: 0.9006\n",
      "Epoch 34/120\n",
      "27/27 [==============================] - 0s 9ms/step - loss: 0.1762 - accuracy: 0.9241 - val_loss: 0.3013 - val_accuracy: 0.9033\n",
      "Epoch 35/120\n",
      "27/27 [==============================] - 0s 8ms/step - loss: 0.1737 - accuracy: 0.9229 - val_loss: 0.3036 - val_accuracy: 0.8950\n",
      "Epoch 36/120\n",
      "27/27 [==============================] - 0s 9ms/step - loss: 0.1716 - accuracy: 0.9217 - val_loss: 0.3181 - val_accuracy: 0.8867\n",
      "Epoch 37/120\n",
      "27/27 [==============================] - 0s 8ms/step - loss: 0.1836 - accuracy: 0.9193 - val_loss: 0.3045 - val_accuracy: 0.9061\n",
      "Epoch 38/120\n",
      "27/27 [==============================] - 0s 8ms/step - loss: 0.1752 - accuracy: 0.9324 - val_loss: 0.3075 - val_accuracy: 0.8978\n",
      "Epoch 39/120\n",
      "27/27 [==============================] - 0s 9ms/step - loss: 0.1742 - accuracy: 0.9193 - val_loss: 0.2909 - val_accuracy: 0.9033\n",
      "Epoch 40/120\n",
      "27/27 [==============================] - 0s 8ms/step - loss: 0.1797 - accuracy: 0.9170 - val_loss: 0.3061 - val_accuracy: 0.9033\n",
      "Epoch 41/120\n",
      "27/27 [==============================] - 0s 9ms/step - loss: 0.1771 - accuracy: 0.9229 - val_loss: 0.3002 - val_accuracy: 0.9061\n",
      "Epoch 42/120\n",
      "27/27 [==============================] - 0s 8ms/step - loss: 0.1765 - accuracy: 0.9170 - val_loss: 0.3396 - val_accuracy: 0.8867\n",
      "Epoch 43/120\n",
      "27/27 [==============================] - 0s 8ms/step - loss: 0.1676 - accuracy: 0.9265 - val_loss: 0.3002 - val_accuracy: 0.8950\n",
      "Epoch 44/120\n",
      "27/27 [==============================] - 0s 8ms/step - loss: 0.1797 - accuracy: 0.9181 - val_loss: 0.3206 - val_accuracy: 0.8950\n",
      "Epoch 45/120\n",
      "27/27 [==============================] - 0s 8ms/step - loss: 0.1757 - accuracy: 0.9134 - val_loss: 0.3056 - val_accuracy: 0.9033\n",
      "Epoch 46/120\n",
      "27/27 [==============================] - 0s 8ms/step - loss: 0.1780 - accuracy: 0.9205 - val_loss: 0.2967 - val_accuracy: 0.9006\n",
      "Epoch 47/120\n",
      "27/27 [==============================] - 0s 8ms/step - loss: 0.1691 - accuracy: 0.9217 - val_loss: 0.2899 - val_accuracy: 0.9061\n",
      "Epoch 48/120\n",
      "27/27 [==============================] - 0s 8ms/step - loss: 0.1707 - accuracy: 0.9253 - val_loss: 0.2971 - val_accuracy: 0.9033\n",
      "Epoch 49/120\n",
      "27/27 [==============================] - 0s 9ms/step - loss: 0.1685 - accuracy: 0.9087 - val_loss: 0.2945 - val_accuracy: 0.9116\n",
      "Epoch 50/120\n",
      "27/27 [==============================] - 0s 9ms/step - loss: 0.1650 - accuracy: 0.9217 - val_loss: 0.2937 - val_accuracy: 0.8978\n",
      "Epoch 51/120\n",
      "27/27 [==============================] - 0s 9ms/step - loss: 0.1709 - accuracy: 0.9241 - val_loss: 0.3206 - val_accuracy: 0.9088\n",
      "Epoch 52/120\n",
      "27/27 [==============================] - 0s 8ms/step - loss: 0.1593 - accuracy: 0.9300 - val_loss: 0.3121 - val_accuracy: 0.8785\n",
      "Epoch 53/120\n",
      "27/27 [==============================] - 0s 9ms/step - loss: 0.1812 - accuracy: 0.9146 - val_loss: 0.3072 - val_accuracy: 0.9116\n",
      "Epoch 54/120\n",
      "27/27 [==============================] - 0s 8ms/step - loss: 0.1861 - accuracy: 0.9181 - val_loss: 0.2989 - val_accuracy: 0.9033\n",
      "Epoch 55/120\n",
      "27/27 [==============================] - 0s 9ms/step - loss: 0.1776 - accuracy: 0.9241 - val_loss: 0.3648 - val_accuracy: 0.8674\n",
      "Epoch 56/120\n",
      "27/27 [==============================] - 0s 8ms/step - loss: 0.2080 - accuracy: 0.9063 - val_loss: 0.2895 - val_accuracy: 0.9116\n",
      "Epoch 57/120\n",
      "27/27 [==============================] - 0s 8ms/step - loss: 0.1759 - accuracy: 0.9181 - val_loss: 0.3258 - val_accuracy: 0.9116\n",
      "Epoch 58/120\n",
      "27/27 [==============================] - 0s 9ms/step - loss: 0.1775 - accuracy: 0.9134 - val_loss: 0.2967 - val_accuracy: 0.8950\n"
     ]
    },
    {
     "name": "stdout",
     "output_type": "stream",
     "text": [
      "Epoch 59/120\n",
      "27/27 [==============================] - 0s 9ms/step - loss: 0.1840 - accuracy: 0.9134 - val_loss: 0.2982 - val_accuracy: 0.9061\n",
      "Epoch 60/120\n",
      "27/27 [==============================] - 0s 9ms/step - loss: 0.1937 - accuracy: 0.9253 - val_loss: 0.3131 - val_accuracy: 0.9116\n",
      "Epoch 61/120\n",
      "27/27 [==============================] - 0s 9ms/step - loss: 0.1744 - accuracy: 0.9217 - val_loss: 0.2961 - val_accuracy: 0.9088\n",
      "Epoch 62/120\n",
      "27/27 [==============================] - 0s 9ms/step - loss: 0.1710 - accuracy: 0.9241 - val_loss: 0.3016 - val_accuracy: 0.9061\n",
      "Epoch 63/120\n",
      "27/27 [==============================] - 0s 9ms/step - loss: 0.1646 - accuracy: 0.9158 - val_loss: 0.2913 - val_accuracy: 0.9116\n",
      "Epoch 64/120\n",
      "27/27 [==============================] - 0s 9ms/step - loss: 0.1647 - accuracy: 0.9276 - val_loss: 0.3115 - val_accuracy: 0.9116\n",
      "Epoch 65/120\n",
      "27/27 [==============================] - 0s 8ms/step - loss: 0.1744 - accuracy: 0.9276 - val_loss: 0.2943 - val_accuracy: 0.9116\n",
      "Epoch 66/120\n",
      "27/27 [==============================] - 0s 9ms/step - loss: 0.1784 - accuracy: 0.9253 - val_loss: 0.3090 - val_accuracy: 0.8729\n",
      "Epoch 67/120\n",
      "27/27 [==============================] - 0s 9ms/step - loss: 0.1748 - accuracy: 0.9253 - val_loss: 0.2921 - val_accuracy: 0.9116\n",
      "Epoch 68/120\n",
      "27/27 [==============================] - 0s 9ms/step - loss: 0.1600 - accuracy: 0.9288 - val_loss: 0.2963 - val_accuracy: 0.9116\n",
      "Epoch 69/120\n",
      "27/27 [==============================] - 0s 11ms/step - loss: 0.1671 - accuracy: 0.9122 - val_loss: 0.2896 - val_accuracy: 0.9088\n",
      "Epoch 70/120\n",
      "27/27 [==============================] - 0s 9ms/step - loss: 0.1693 - accuracy: 0.9229 - val_loss: 0.3003 - val_accuracy: 0.9033\n",
      "Epoch 71/120\n",
      "27/27 [==============================] - 0s 8ms/step - loss: 0.1674 - accuracy: 0.9241 - val_loss: 0.3085 - val_accuracy: 0.9061\n",
      "Epoch 72/120\n",
      "27/27 [==============================] - 0s 10ms/step - loss: 0.1679 - accuracy: 0.9253 - val_loss: 0.3119 - val_accuracy: 0.9116\n",
      "Epoch 73/120\n",
      "27/27 [==============================] - 0s 9ms/step - loss: 0.1633 - accuracy: 0.9193 - val_loss: 0.2913 - val_accuracy: 0.9116\n",
      "Epoch 74/120\n",
      "27/27 [==============================] - 0s 9ms/step - loss: 0.1729 - accuracy: 0.9241 - val_loss: 0.2965 - val_accuracy: 0.9061\n",
      "Epoch 75/120\n",
      "27/27 [==============================] - 0s 9ms/step - loss: 0.1720 - accuracy: 0.9265 - val_loss: 0.3062 - val_accuracy: 0.9033\n",
      "Epoch 76/120\n",
      "27/27 [==============================] - 0s 8ms/step - loss: 0.1733 - accuracy: 0.9217 - val_loss: 0.2987 - val_accuracy: 0.9033\n",
      "Epoch 77/120\n",
      "27/27 [==============================] - 0s 9ms/step - loss: 0.1629 - accuracy: 0.9217 - val_loss: 0.2957 - val_accuracy: 0.9116\n",
      "Epoch 78/120\n",
      "27/27 [==============================] - 0s 9ms/step - loss: 0.1642 - accuracy: 0.9205 - val_loss: 0.3014 - val_accuracy: 0.9033\n",
      "Epoch 79/120\n",
      "27/27 [==============================] - 0s 9ms/step - loss: 0.1623 - accuracy: 0.9288 - val_loss: 0.2930 - val_accuracy: 0.8978\n",
      "Epoch 80/120\n",
      "27/27 [==============================] - 0s 10ms/step - loss: 0.1552 - accuracy: 0.9241 - val_loss: 0.2976 - val_accuracy: 0.9116\n",
      "Epoch 81/120\n",
      "27/27 [==============================] - 0s 9ms/step - loss: 0.1612 - accuracy: 0.9205 - val_loss: 0.3085 - val_accuracy: 0.8950\n",
      "Epoch 82/120\n",
      "27/27 [==============================] - 0s 9ms/step - loss: 0.1714 - accuracy: 0.9217 - val_loss: 0.3131 - val_accuracy: 0.9006\n",
      "Epoch 83/120\n",
      "27/27 [==============================] - 0s 9ms/step - loss: 0.1753 - accuracy: 0.9288 - val_loss: 0.2963 - val_accuracy: 0.9116\n",
      "Epoch 84/120\n",
      "27/27 [==============================] - 0s 9ms/step - loss: 0.1865 - accuracy: 0.9217 - val_loss: 0.3091 - val_accuracy: 0.9061\n",
      "Epoch 85/120\n",
      "27/27 [==============================] - 0s 9ms/step - loss: 0.1879 - accuracy: 0.9134 - val_loss: 0.3124 - val_accuracy: 0.8978\n",
      "Epoch 86/120\n",
      "27/27 [==============================] - 0s 9ms/step - loss: 0.1786 - accuracy: 0.9217 - val_loss: 0.3160 - val_accuracy: 0.9116\n",
      "Epoch 87/120\n",
      "27/27 [==============================] - 0s 9ms/step - loss: 0.1675 - accuracy: 0.9312 - val_loss: 0.2972 - val_accuracy: 0.9116\n",
      "Epoch 88/120\n",
      "27/27 [==============================] - 0s 9ms/step - loss: 0.1616 - accuracy: 0.9276 - val_loss: 0.3033 - val_accuracy: 0.9006\n",
      "Epoch 89/120\n",
      "27/27 [==============================] - 0s 9ms/step - loss: 0.1555 - accuracy: 0.9241 - val_loss: 0.3119 - val_accuracy: 0.8840\n",
      "Epoch 90/120\n",
      "27/27 [==============================] - 0s 9ms/step - loss: 0.1653 - accuracy: 0.9229 - val_loss: 0.3047 - val_accuracy: 0.9116\n",
      "Epoch 91/120\n",
      "27/27 [==============================] - 0s 9ms/step - loss: 0.1541 - accuracy: 0.9229 - val_loss: 0.2969 - val_accuracy: 0.9088\n",
      "Epoch 92/120\n",
      "27/27 [==============================] - 0s 9ms/step - loss: 0.1545 - accuracy: 0.9276 - val_loss: 0.3065 - val_accuracy: 0.9033\n",
      "Epoch 93/120\n",
      "27/27 [==============================] - 0s 9ms/step - loss: 0.1675 - accuracy: 0.9253 - val_loss: 0.2891 - val_accuracy: 0.9088\n",
      "Epoch 94/120\n",
      "27/27 [==============================] - 0s 9ms/step - loss: 0.1759 - accuracy: 0.9205 - val_loss: 0.3075 - val_accuracy: 0.9088\n",
      "Epoch 95/120\n",
      "27/27 [==============================] - 0s 9ms/step - loss: 0.1749 - accuracy: 0.9241 - val_loss: 0.2851 - val_accuracy: 0.9144\n",
      "Epoch 96/120\n",
      "27/27 [==============================] - 0s 9ms/step - loss: 0.1670 - accuracy: 0.9193 - val_loss: 0.2964 - val_accuracy: 0.9116\n",
      "Epoch 97/120\n",
      "27/27 [==============================] - 0s 8ms/step - loss: 0.1813 - accuracy: 0.9170 - val_loss: 0.3002 - val_accuracy: 0.9088\n",
      "Epoch 98/120\n",
      "27/27 [==============================] - 0s 9ms/step - loss: 0.1737 - accuracy: 0.9276 - val_loss: 0.2848 - val_accuracy: 0.9116\n",
      "Epoch 99/120\n",
      "27/27 [==============================] - 0s 9ms/step - loss: 0.1746 - accuracy: 0.9253 - val_loss: 0.2851 - val_accuracy: 0.9171\n",
      "Epoch 100/120\n",
      "27/27 [==============================] - 0s 9ms/step - loss: 0.1583 - accuracy: 0.9217 - val_loss: 0.2921 - val_accuracy: 0.9116\n",
      "Epoch 101/120\n",
      "27/27 [==============================] - 0s 8ms/step - loss: 0.1582 - accuracy: 0.9229 - val_loss: 0.3051 - val_accuracy: 0.9061\n",
      "Epoch 102/120\n",
      "27/27 [==============================] - 0s 9ms/step - loss: 0.1552 - accuracy: 0.9253 - val_loss: 0.2837 - val_accuracy: 0.9088\n",
      "Epoch 103/120\n",
      "27/27 [==============================] - 0s 9ms/step - loss: 0.1683 - accuracy: 0.9229 - val_loss: 0.2958 - val_accuracy: 0.9171\n",
      "Epoch 104/120\n",
      "27/27 [==============================] - 0s 9ms/step - loss: 0.1605 - accuracy: 0.9217 - val_loss: 0.2869 - val_accuracy: 0.9116\n",
      "Epoch 105/120\n",
      "27/27 [==============================] - 0s 9ms/step - loss: 0.1592 - accuracy: 0.9229 - val_loss: 0.2888 - val_accuracy: 0.9088\n",
      "Epoch 106/120\n",
      "27/27 [==============================] - 0s 9ms/step - loss: 0.1604 - accuracy: 0.9300 - val_loss: 0.3008 - val_accuracy: 0.9006\n",
      "Epoch 107/120\n",
      "27/27 [==============================] - 0s 8ms/step - loss: 0.1609 - accuracy: 0.9170 - val_loss: 0.3146 - val_accuracy: 0.8950\n",
      "Epoch 108/120\n",
      "27/27 [==============================] - 0s 9ms/step - loss: 0.1651 - accuracy: 0.9276 - val_loss: 0.2911 - val_accuracy: 0.9061\n",
      "Epoch 109/120\n",
      "27/27 [==============================] - 0s 11ms/step - loss: 0.1559 - accuracy: 0.9300 - val_loss: 0.2903 - val_accuracy: 0.9061\n",
      "Epoch 110/120\n",
      "27/27 [==============================] - 0s 9ms/step - loss: 0.1611 - accuracy: 0.9300 - val_loss: 0.2813 - val_accuracy: 0.9088\n",
      "Epoch 111/120\n",
      "27/27 [==============================] - 0s 9ms/step - loss: 0.1679 - accuracy: 0.9229 - val_loss: 0.3044 - val_accuracy: 0.9116\n",
      "Epoch 112/120\n",
      "27/27 [==============================] - 0s 9ms/step - loss: 0.1636 - accuracy: 0.9253 - val_loss: 0.2964 - val_accuracy: 0.9116\n",
      "Epoch 113/120\n",
      "27/27 [==============================] - 0s 9ms/step - loss: 0.1559 - accuracy: 0.9300 - val_loss: 0.2948 - val_accuracy: 0.9116\n",
      "Epoch 114/120\n",
      "27/27 [==============================] - 0s 9ms/step - loss: 0.1650 - accuracy: 0.9193 - val_loss: 0.2926 - val_accuracy: 0.9088\n",
      "Epoch 115/120\n",
      "27/27 [==============================] - 0s 9ms/step - loss: 0.1660 - accuracy: 0.9205 - val_loss: 0.3069 - val_accuracy: 0.9061\n",
      "Epoch 116/120\n"
     ]
    },
    {
     "name": "stdout",
     "output_type": "stream",
     "text": [
      "27/27 [==============================] - 0s 9ms/step - loss: 0.1530 - accuracy: 0.9371 - val_loss: 0.3007 - val_accuracy: 0.9088\n",
      "Epoch 117/120\n",
      "27/27 [==============================] - 0s 8ms/step - loss: 0.1747 - accuracy: 0.9217 - val_loss: 0.3215 - val_accuracy: 0.8895\n",
      "Epoch 118/120\n",
      "27/27 [==============================] - 0s 8ms/step - loss: 0.1726 - accuracy: 0.9217 - val_loss: 0.2990 - val_accuracy: 0.9116\n",
      "Epoch 119/120\n",
      "27/27 [==============================] - 0s 9ms/step - loss: 0.1648 - accuracy: 0.9158 - val_loss: 0.2941 - val_accuracy: 0.9116\n",
      "Epoch 120/120\n",
      "27/27 [==============================] - 0s 9ms/step - loss: 0.1591 - accuracy: 0.9193 - val_loss: 0.2829 - val_accuracy: 0.9088\n"
     ]
    },
    {
     "data": {
      "text/plain": [
       "<keras.src.callbacks.History at 0x2670c1a8760>"
      ]
     },
     "execution_count": 149,
     "metadata": {},
     "output_type": "execute_result"
    }
   ],
   "source": [
    "model.fit(X_train,y_train,epochs=120,batch_size=32,validation_data=(X_test,y_test))"
   ]
  },
  {
   "cell_type": "code",
   "execution_count": 150,
   "id": "73cd6b37",
   "metadata": {},
   "outputs": [
    {
     "name": "stdout",
     "output_type": "stream",
     "text": [
      "12/12 [==============================] - 0s 4ms/step - loss: 0.2829 - accuracy: 0.9088\n",
      "Test Accuracy: 0.9088\n"
     ]
    }
   ],
   "source": [
    "loss, accuracy = model.evaluate(X_test, y_test)\n",
    "print(f\"Test Accuracy: {accuracy:.4f}\")"
   ]
  },
  {
   "cell_type": "code",
   "execution_count": 153,
   "id": "ca66e533",
   "metadata": {},
   "outputs": [
    {
     "name": "stdout",
     "output_type": "stream",
     "text": [
      "12/12 [==============================] - 0s 4ms/step\n"
     ]
    },
    {
     "data": {
      "text/plain": [
       "<AxesSubplot:>"
      ]
     },
     "execution_count": 153,
     "metadata": {},
     "output_type": "execute_result"
    },
    {
     "data": {
      "image/png": "[encoded data removed]",
      "text/plain": [
       "<Figure size 300x300 with 2 Axes>"
      ]
     },
     "metadata": {},
     "output_type": "display_data"
    }
   ],
   "source": [
    "y_pred_prob=model.predict(X_test)\n",
    "y_pred_class = np.argmax(y_pred_prob, axis=1)\n",
    "\n",
    "# Generate a confusion matrix\n",
    "cm= confusion_matrix(y_test, y_pred_class)\n",
    "\n",
    "plt.figure(figsize=(3,3))\n",
    "sns.heatmap(cm,annot=True,fmt='d', xticklabels=['Predicted 0', 'Predicted 1', 'Predicted 2'], yticklabels=['Actual 0', 'Actual 1', 'Actual 2'])"
   ]
  },
  {
   "cell_type": "code",
   "execution_count": 155,
   "id": "dbed6ffd",
   "metadata": {},
   "outputs": [
    {
     "name": "stdout",
     "output_type": "stream",
     "text": [
      "              precision    recall  f1-score   support\n",
      "\n",
      "           0       0.83      0.81      0.82        31\n",
      "           1       0.92      0.91      0.91       148\n",
      "           2       0.91      0.93      0.92       183\n",
      "\n",
      "    accuracy                           0.91       362\n",
      "   macro avg       0.89      0.88      0.88       362\n",
      "weighted avg       0.91      0.91      0.91       362\n",
      "\n"
     ]
    }
   ],
   "source": [
    "print(classification_report(y_test,y_pred_class))"
   ]
  },
  {
   "cell_type": "code",
   "execution_count": null,
   "id": "514e7b00",
   "metadata": {},
   "outputs": [],
   "source": []
  },
  {
   "cell_type": "markdown",
   "id": "d55ac6d8",
   "metadata": {},
   "source": [
    "# IT DID A PRETTY DECENT JOB I WOULD SAY."
   ]
  },
  {
   "cell_type": "markdown",
   "id": "ffe1693e",
   "metadata": {},
   "source": [
    "# NOW LETS CONVERT OUR TWO BEST WORKING MODELS INTO A PICKLE FILE."
   ]
  },
  {
   "cell_type": "code",
   "execution_count": 161,
   "id": "0148cccc",
   "metadata": {},
   "outputs": [],
   "source": [
    "\n",
    "import joblib"
   ]
  },
  {
   "cell_type": "code",
   "execution_count": 163,
   "id": "961789c7",
   "metadata": {},
   "outputs": [
    {
     "data": {
      "text/plain": [
       "['ANN.joblib']"
      ]
     },
     "execution_count": 163,
     "metadata": {},
     "output_type": "execute_result"
    }
   ],
   "source": [
    "joblib.dump(model,\"ANN.joblib\")"
   ]
  },
  {
   "cell_type": "code",
   "execution_count": 164,
   "id": "dfe4c485",
   "metadata": {},
   "outputs": [
    {
     "data": {
      "text/plain": [
       "['grid_rf.joblib']"
      ]
     },
     "execution_count": 164,
     "metadata": {},
     "output_type": "execute_result"
    }
   ],
   "source": [
    "joblib.dump(Grid_rf,\"grid_rf.joblib\")"
   ]
  },
  {
   "cell_type": "code",
   "execution_count": 165,
   "id": "e9b87d5d",
   "metadata": {},
   "outputs": [],
   "source": [
    "model.save('ann.h5')"
   ]
  },
  {
   "cell_type": "code",
   "execution_count": null,
   "id": "99374f05",
   "metadata": {},
   "outputs": [],
   "source": []
  }
 ],
 "metadata": {
  "kernelspec": {
   "display_name": "Python 3 (ipykernel)",
   "language": "python",
   "name": "python3"
  },
  "language_info": {
   "codemirror_mode": {
    "name": "ipython",
    "version": 3
   },
   "file_extension": ".py",
   "mimetype": "text/x-python",
   "name": "python",
   "nbconvert_exporter": "python",
   "pygments_lexer": "ipython3",
   "version": "3.9.13"
  }
 },
 "nbformat": 4,
 "nbformat_minor": 5
}
