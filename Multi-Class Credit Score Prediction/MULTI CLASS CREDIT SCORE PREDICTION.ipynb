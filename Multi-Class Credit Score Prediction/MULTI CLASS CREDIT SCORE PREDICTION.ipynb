{
 "cells": [
  {
   "cell_type": "code",
   "execution_count": 1,
   "id": "af882097",
   "metadata": {},
   "outputs": [
    {
     "name": "stderr",
     "output_type": "stream",
     "text": [
      "C:\\Users\\Admin\\Downloads\\anaconda\\lib\\site-packages\\scipy\\__init__.py:155: UserWarning: A NumPy version >=1.18.5 and <1.25.0 is required for this version of SciPy (detected version 1.26.1\n",
      "  warnings.warn(f\"A NumPy version >={np_minversion} and <{np_maxversion}\"\n"
     ]
    }
   ],
   "source": [
    "import pandas as pd\n",
    "import matplotlib.pyplot as plt\n",
    "import seaborn as sns\n",
    "import numpy as np\n",
    "%matplotlib inline\n",
    "import warnings\n",
    "warnings.filterwarnings('ignore')"
   ]
  },
  {
   "cell_type": "code",
   "execution_count": 2,
   "id": "99c30c90",
   "metadata": {},
   "outputs": [],
   "source": [
    "df=pd.read_csv(\"score.csv\")"
   ]
  },
  {
   "cell_type": "code",
   "execution_count": 3,
   "id": "f898b59e",
   "metadata": {},
   "outputs": [
    {
     "data": {
      "text/html": [
       "<div>\n",
       "<style scoped>\n",
       "    .dataframe tbody tr th:only-of-type {\n",
       "        vertical-align: middle;\n",
       "    }\n",
       "\n",
       "    .dataframe tbody tr th {\n",
       "        vertical-align: top;\n",
       "    }\n",
       "\n",
       "    .dataframe thead th {\n",
       "        text-align: right;\n",
       "    }\n",
       "</style>\n",
       "<table border=\"1\" class=\"dataframe\">\n",
       "  <thead>\n",
       "    <tr style=\"text-align: right;\">\n",
       "      <th></th>\n",
       "      <th>Delay_from_due_date</th>\n",
       "      <th>Num_of_Delayed_Payment</th>\n",
       "      <th>Num_Credit_Inquiries</th>\n",
       "      <th>Credit_Utilization_Ratio</th>\n",
       "      <th>Credit_History_Age</th>\n",
       "      <th>Payment_of_Min_Amount</th>\n",
       "      <th>Amount_invested_monthly</th>\n",
       "      <th>Monthly_Balance</th>\n",
       "      <th>Credit_Score</th>\n",
       "      <th>Credit_Mix</th>\n",
       "      <th>...</th>\n",
       "      <th>Age</th>\n",
       "      <th>Annual_Income</th>\n",
       "      <th>Num_Bank_Accounts</th>\n",
       "      <th>Num_Credit_Card</th>\n",
       "      <th>Interest_Rate</th>\n",
       "      <th>Num_of_Loan</th>\n",
       "      <th>Monthly_Inhand_Salary</th>\n",
       "      <th>Changed_Credit_Limit</th>\n",
       "      <th>Outstanding_Debt</th>\n",
       "      <th>Total_EMI_per_month</th>\n",
       "    </tr>\n",
       "  </thead>\n",
       "  <tbody>\n",
       "    <tr>\n",
       "      <th>0</th>\n",
       "      <td>3.0</td>\n",
       "      <td>7.0</td>\n",
       "      <td>4.0</td>\n",
       "      <td>26.822620</td>\n",
       "      <td>265.0</td>\n",
       "      <td>No</td>\n",
       "      <td>80.415295</td>\n",
       "      <td>312.494089</td>\n",
       "      <td>Good</td>\n",
       "      <td>Good</td>\n",
       "      <td>...</td>\n",
       "      <td>23.0</td>\n",
       "      <td>19114.12</td>\n",
       "      <td>3.0</td>\n",
       "      <td>4.0</td>\n",
       "      <td>3.0</td>\n",
       "      <td>4.0</td>\n",
       "      <td>1824.843333</td>\n",
       "      <td>11.27</td>\n",
       "      <td>809.98</td>\n",
       "      <td>49.574949</td>\n",
       "    </tr>\n",
       "    <tr>\n",
       "      <th>1</th>\n",
       "      <td>3.0</td>\n",
       "      <td>7.0</td>\n",
       "      <td>4.0</td>\n",
       "      <td>31.944960</td>\n",
       "      <td>265.0</td>\n",
       "      <td>No</td>\n",
       "      <td>118.280222</td>\n",
       "      <td>284.629162</td>\n",
       "      <td>Good</td>\n",
       "      <td>Good</td>\n",
       "      <td>...</td>\n",
       "      <td>23.0</td>\n",
       "      <td>19114.12</td>\n",
       "      <td>3.0</td>\n",
       "      <td>4.0</td>\n",
       "      <td>3.0</td>\n",
       "      <td>4.0</td>\n",
       "      <td>1824.843333</td>\n",
       "      <td>11.27</td>\n",
       "      <td>809.98</td>\n",
       "      <td>49.574949</td>\n",
       "    </tr>\n",
       "    <tr>\n",
       "      <th>2</th>\n",
       "      <td>3.0</td>\n",
       "      <td>7.0</td>\n",
       "      <td>4.0</td>\n",
       "      <td>28.609352</td>\n",
       "      <td>267.0</td>\n",
       "      <td>No</td>\n",
       "      <td>81.699521</td>\n",
       "      <td>331.209863</td>\n",
       "      <td>Good</td>\n",
       "      <td>Good</td>\n",
       "      <td>...</td>\n",
       "      <td>23.0</td>\n",
       "      <td>19114.12</td>\n",
       "      <td>3.0</td>\n",
       "      <td>4.0</td>\n",
       "      <td>3.0</td>\n",
       "      <td>4.0</td>\n",
       "      <td>1824.843333</td>\n",
       "      <td>11.27</td>\n",
       "      <td>809.98</td>\n",
       "      <td>49.574949</td>\n",
       "    </tr>\n",
       "    <tr>\n",
       "      <th>3</th>\n",
       "      <td>5.0</td>\n",
       "      <td>4.0</td>\n",
       "      <td>4.0</td>\n",
       "      <td>31.377862</td>\n",
       "      <td>268.0</td>\n",
       "      <td>No</td>\n",
       "      <td>199.458074</td>\n",
       "      <td>223.451310</td>\n",
       "      <td>Good</td>\n",
       "      <td>Good</td>\n",
       "      <td>...</td>\n",
       "      <td>23.0</td>\n",
       "      <td>19114.12</td>\n",
       "      <td>3.0</td>\n",
       "      <td>4.0</td>\n",
       "      <td>3.0</td>\n",
       "      <td>4.0</td>\n",
       "      <td>1824.843333</td>\n",
       "      <td>11.27</td>\n",
       "      <td>809.98</td>\n",
       "      <td>49.574949</td>\n",
       "    </tr>\n",
       "    <tr>\n",
       "      <th>4</th>\n",
       "      <td>6.0</td>\n",
       "      <td>4.0</td>\n",
       "      <td>4.0</td>\n",
       "      <td>24.797347</td>\n",
       "      <td>269.0</td>\n",
       "      <td>No</td>\n",
       "      <td>41.420153</td>\n",
       "      <td>341.489231</td>\n",
       "      <td>Good</td>\n",
       "      <td>Good</td>\n",
       "      <td>...</td>\n",
       "      <td>23.0</td>\n",
       "      <td>19114.12</td>\n",
       "      <td>3.0</td>\n",
       "      <td>4.0</td>\n",
       "      <td>3.0</td>\n",
       "      <td>4.0</td>\n",
       "      <td>1824.843333</td>\n",
       "      <td>11.27</td>\n",
       "      <td>809.98</td>\n",
       "      <td>49.574949</td>\n",
       "    </tr>\n",
       "    <tr>\n",
       "      <th>...</th>\n",
       "      <td>...</td>\n",
       "      <td>...</td>\n",
       "      <td>...</td>\n",
       "      <td>...</td>\n",
       "      <td>...</td>\n",
       "      <td>...</td>\n",
       "      <td>...</td>\n",
       "      <td>...</td>\n",
       "      <td>...</td>\n",
       "      <td>...</td>\n",
       "      <td>...</td>\n",
       "      <td>...</td>\n",
       "      <td>...</td>\n",
       "      <td>...</td>\n",
       "      <td>...</td>\n",
       "      <td>...</td>\n",
       "      <td>...</td>\n",
       "      <td>...</td>\n",
       "      <td>...</td>\n",
       "      <td>...</td>\n",
       "      <td>...</td>\n",
       "    </tr>\n",
       "    <tr>\n",
       "      <th>99955</th>\n",
       "      <td>23.0</td>\n",
       "      <td>7.0</td>\n",
       "      <td>3.0</td>\n",
       "      <td>34.663572</td>\n",
       "      <td>378.0</td>\n",
       "      <td>No</td>\n",
       "      <td>60.971333</td>\n",
       "      <td>479.866228</td>\n",
       "      <td>Poor</td>\n",
       "      <td>Good</td>\n",
       "      <td>...</td>\n",
       "      <td>25.0</td>\n",
       "      <td>39628.99</td>\n",
       "      <td>4.0</td>\n",
       "      <td>6.0</td>\n",
       "      <td>7.0</td>\n",
       "      <td>2.0</td>\n",
       "      <td>3359.415833</td>\n",
       "      <td>11.50</td>\n",
       "      <td>502.38</td>\n",
       "      <td>35.104023</td>\n",
       "    </tr>\n",
       "    <tr>\n",
       "      <th>99956</th>\n",
       "      <td>18.0</td>\n",
       "      <td>7.0</td>\n",
       "      <td>3.0</td>\n",
       "      <td>40.565631</td>\n",
       "      <td>379.0</td>\n",
       "      <td>No</td>\n",
       "      <td>54.185950</td>\n",
       "      <td>496.651610</td>\n",
       "      <td>Poor</td>\n",
       "      <td>Good</td>\n",
       "      <td>...</td>\n",
       "      <td>25.0</td>\n",
       "      <td>39628.99</td>\n",
       "      <td>4.0</td>\n",
       "      <td>6.0</td>\n",
       "      <td>7.0</td>\n",
       "      <td>2.0</td>\n",
       "      <td>3359.415833</td>\n",
       "      <td>11.50</td>\n",
       "      <td>502.38</td>\n",
       "      <td>35.104023</td>\n",
       "    </tr>\n",
       "    <tr>\n",
       "      <th>99957</th>\n",
       "      <td>27.0</td>\n",
       "      <td>6.0</td>\n",
       "      <td>3.0</td>\n",
       "      <td>41.255522</td>\n",
       "      <td>380.0</td>\n",
       "      <td>No</td>\n",
       "      <td>24.028477</td>\n",
       "      <td>516.809083</td>\n",
       "      <td>Poor</td>\n",
       "      <td>Good</td>\n",
       "      <td>...</td>\n",
       "      <td>25.0</td>\n",
       "      <td>39628.99</td>\n",
       "      <td>4.0</td>\n",
       "      <td>6.0</td>\n",
       "      <td>7.0</td>\n",
       "      <td>2.0</td>\n",
       "      <td>3359.415833</td>\n",
       "      <td>11.50</td>\n",
       "      <td>502.38</td>\n",
       "      <td>35.104023</td>\n",
       "    </tr>\n",
       "    <tr>\n",
       "      <th>99958</th>\n",
       "      <td>20.0</td>\n",
       "      <td>6.0</td>\n",
       "      <td>3.0</td>\n",
       "      <td>33.638208</td>\n",
       "      <td>381.0</td>\n",
       "      <td>No</td>\n",
       "      <td>251.672582</td>\n",
       "      <td>319.164979</td>\n",
       "      <td>Standard</td>\n",
       "      <td>Good</td>\n",
       "      <td>...</td>\n",
       "      <td>25.0</td>\n",
       "      <td>39628.99</td>\n",
       "      <td>4.0</td>\n",
       "      <td>6.0</td>\n",
       "      <td>7.0</td>\n",
       "      <td>2.0</td>\n",
       "      <td>3359.415833</td>\n",
       "      <td>11.50</td>\n",
       "      <td>502.38</td>\n",
       "      <td>35.104023</td>\n",
       "    </tr>\n",
       "    <tr>\n",
       "      <th>99959</th>\n",
       "      <td>18.0</td>\n",
       "      <td>6.0</td>\n",
       "      <td>3.0</td>\n",
       "      <td>34.192463</td>\n",
       "      <td>382.0</td>\n",
       "      <td>No</td>\n",
       "      <td>167.163865</td>\n",
       "      <td>393.673696</td>\n",
       "      <td>Poor</td>\n",
       "      <td>Good</td>\n",
       "      <td>...</td>\n",
       "      <td>25.0</td>\n",
       "      <td>39628.99</td>\n",
       "      <td>4.0</td>\n",
       "      <td>6.0</td>\n",
       "      <td>7.0</td>\n",
       "      <td>2.0</td>\n",
       "      <td>3359.415833</td>\n",
       "      <td>11.50</td>\n",
       "      <td>502.38</td>\n",
       "      <td>35.104023</td>\n",
       "    </tr>\n",
       "  </tbody>\n",
       "</table>\n",
       "<p>99960 rows × 21 columns</p>\n",
       "</div>"
      ],
      "text/plain": [
       "       Delay_from_due_date  Num_of_Delayed_Payment  Num_Credit_Inquiries  \\\n",
       "0                      3.0                     7.0                   4.0   \n",
       "1                      3.0                     7.0                   4.0   \n",
       "2                      3.0                     7.0                   4.0   \n",
       "3                      5.0                     4.0                   4.0   \n",
       "4                      6.0                     4.0                   4.0   \n",
       "...                    ...                     ...                   ...   \n",
       "99955                 23.0                     7.0                   3.0   \n",
       "99956                 18.0                     7.0                   3.0   \n",
       "99957                 27.0                     6.0                   3.0   \n",
       "99958                 20.0                     6.0                   3.0   \n",
       "99959                 18.0                     6.0                   3.0   \n",
       "\n",
       "       Credit_Utilization_Ratio  Credit_History_Age Payment_of_Min_Amount  \\\n",
       "0                     26.822620               265.0                    No   \n",
       "1                     31.944960               265.0                    No   \n",
       "2                     28.609352               267.0                    No   \n",
       "3                     31.377862               268.0                    No   \n",
       "4                     24.797347               269.0                    No   \n",
       "...                         ...                 ...                   ...   \n",
       "99955                 34.663572               378.0                    No   \n",
       "99956                 40.565631               379.0                    No   \n",
       "99957                 41.255522               380.0                    No   \n",
       "99958                 33.638208               381.0                    No   \n",
       "99959                 34.192463               382.0                    No   \n",
       "\n",
       "       Amount_invested_monthly  Monthly_Balance Credit_Score Credit_Mix  ...  \\\n",
       "0                    80.415295       312.494089         Good       Good  ...   \n",
       "1                   118.280222       284.629162         Good       Good  ...   \n",
       "2                    81.699521       331.209863         Good       Good  ...   \n",
       "3                   199.458074       223.451310         Good       Good  ...   \n",
       "4                    41.420153       341.489231         Good       Good  ...   \n",
       "...                        ...              ...          ...        ...  ...   \n",
       "99955                60.971333       479.866228         Poor       Good  ...   \n",
       "99956                54.185950       496.651610         Poor       Good  ...   \n",
       "99957                24.028477       516.809083         Poor       Good  ...   \n",
       "99958               251.672582       319.164979     Standard       Good  ...   \n",
       "99959               167.163865       393.673696         Poor       Good  ...   \n",
       "\n",
       "        Age  Annual_Income  Num_Bank_Accounts  Num_Credit_Card  Interest_Rate  \\\n",
       "0      23.0       19114.12                3.0              4.0            3.0   \n",
       "1      23.0       19114.12                3.0              4.0            3.0   \n",
       "2      23.0       19114.12                3.0              4.0            3.0   \n",
       "3      23.0       19114.12                3.0              4.0            3.0   \n",
       "4      23.0       19114.12                3.0              4.0            3.0   \n",
       "...     ...            ...                ...              ...            ...   \n",
       "99955  25.0       39628.99                4.0              6.0            7.0   \n",
       "99956  25.0       39628.99                4.0              6.0            7.0   \n",
       "99957  25.0       39628.99                4.0              6.0            7.0   \n",
       "99958  25.0       39628.99                4.0              6.0            7.0   \n",
       "99959  25.0       39628.99                4.0              6.0            7.0   \n",
       "\n",
       "       Num_of_Loan  Monthly_Inhand_Salary  Changed_Credit_Limit  \\\n",
       "0              4.0            1824.843333                 11.27   \n",
       "1              4.0            1824.843333                 11.27   \n",
       "2              4.0            1824.843333                 11.27   \n",
       "3              4.0            1824.843333                 11.27   \n",
       "4              4.0            1824.843333                 11.27   \n",
       "...            ...                    ...                   ...   \n",
       "99955          2.0            3359.415833                 11.50   \n",
       "99956          2.0            3359.415833                 11.50   \n",
       "99957          2.0            3359.415833                 11.50   \n",
       "99958          2.0            3359.415833                 11.50   \n",
       "99959          2.0            3359.415833                 11.50   \n",
       "\n",
       "       Outstanding_Debt  Total_EMI_per_month  \n",
       "0                809.98            49.574949  \n",
       "1                809.98            49.574949  \n",
       "2                809.98            49.574949  \n",
       "3                809.98            49.574949  \n",
       "4                809.98            49.574949  \n",
       "...                 ...                  ...  \n",
       "99955            502.38            35.104023  \n",
       "99956            502.38            35.104023  \n",
       "99957            502.38            35.104023  \n",
       "99958            502.38            35.104023  \n",
       "99959            502.38            35.104023  \n",
       "\n",
       "[99960 rows x 21 columns]"
      ]
     },
     "execution_count": 3,
     "metadata": {},
     "output_type": "execute_result"
    }
   ],
   "source": [
    "df"
   ]
  },
  {
   "cell_type": "code",
   "execution_count": 4,
   "id": "595592da",
   "metadata": {},
   "outputs": [
    {
     "name": "stdout",
     "output_type": "stream",
     "text": [
      "<class 'pandas.core.frame.DataFrame'>\n",
      "RangeIndex: 99960 entries, 0 to 99959\n",
      "Data columns (total 21 columns):\n",
      " #   Column                    Non-Null Count  Dtype  \n",
      "---  ------                    --------------  -----  \n",
      " 0   Delay_from_due_date       99960 non-null  float64\n",
      " 1   Num_of_Delayed_Payment    99960 non-null  float64\n",
      " 2   Num_Credit_Inquiries      99960 non-null  float64\n",
      " 3   Credit_Utilization_Ratio  99960 non-null  float64\n",
      " 4   Credit_History_Age        99960 non-null  float64\n",
      " 5   Payment_of_Min_Amount     99960 non-null  object \n",
      " 6   Amount_invested_monthly   99960 non-null  float64\n",
      " 7   Monthly_Balance           99960 non-null  float64\n",
      " 8   Credit_Score              99960 non-null  object \n",
      " 9   Credit_Mix                99960 non-null  object \n",
      " 10  Payment_Behaviour         99960 non-null  object \n",
      " 11  Age                       99960 non-null  float64\n",
      " 12  Annual_Income             99960 non-null  float64\n",
      " 13  Num_Bank_Accounts         99960 non-null  float64\n",
      " 14  Num_Credit_Card           99960 non-null  float64\n",
      " 15  Interest_Rate             99960 non-null  float64\n",
      " 16  Num_of_Loan               99960 non-null  float64\n",
      " 17  Monthly_Inhand_Salary     99960 non-null  float64\n",
      " 18  Changed_Credit_Limit      99960 non-null  float64\n",
      " 19  Outstanding_Debt          99960 non-null  float64\n",
      " 20  Total_EMI_per_month       99960 non-null  float64\n",
      "dtypes: float64(17), object(4)\n",
      "memory usage: 16.0+ MB\n"
     ]
    }
   ],
   "source": [
    "df.info()"
   ]
  },
  {
   "cell_type": "code",
   "execution_count": 5,
   "id": "6d0ccbe5",
   "metadata": {},
   "outputs": [
    {
     "data": {
      "text/html": [
       "<div>\n",
       "<style scoped>\n",
       "    .dataframe tbody tr th:only-of-type {\n",
       "        vertical-align: middle;\n",
       "    }\n",
       "\n",
       "    .dataframe tbody tr th {\n",
       "        vertical-align: top;\n",
       "    }\n",
       "\n",
       "    .dataframe thead th {\n",
       "        text-align: right;\n",
       "    }\n",
       "</style>\n",
       "<table border=\"1\" class=\"dataframe\">\n",
       "  <thead>\n",
       "    <tr style=\"text-align: right;\">\n",
       "      <th></th>\n",
       "      <th>Delay_from_due_date</th>\n",
       "      <th>Num_of_Delayed_Payment</th>\n",
       "      <th>Num_Credit_Inquiries</th>\n",
       "      <th>Credit_Utilization_Ratio</th>\n",
       "      <th>Credit_History_Age</th>\n",
       "      <th>Amount_invested_monthly</th>\n",
       "      <th>Monthly_Balance</th>\n",
       "      <th>Age</th>\n",
       "      <th>Annual_Income</th>\n",
       "      <th>Num_Bank_Accounts</th>\n",
       "      <th>Num_Credit_Card</th>\n",
       "      <th>Interest_Rate</th>\n",
       "      <th>Num_of_Loan</th>\n",
       "      <th>Monthly_Inhand_Salary</th>\n",
       "      <th>Changed_Credit_Limit</th>\n",
       "      <th>Outstanding_Debt</th>\n",
       "      <th>Total_EMI_per_month</th>\n",
       "    </tr>\n",
       "  </thead>\n",
       "  <tbody>\n",
       "    <tr>\n",
       "      <th>count</th>\n",
       "      <td>99960.000000</td>\n",
       "      <td>99960.000000</td>\n",
       "      <td>99960.000000</td>\n",
       "      <td>99960.000000</td>\n",
       "      <td>99960.000000</td>\n",
       "      <td>99960.000000</td>\n",
       "      <td>99960.000000</td>\n",
       "      <td>99960.000000</td>\n",
       "      <td>99960.000000</td>\n",
       "      <td>99960.000000</td>\n",
       "      <td>99960.000000</td>\n",
       "      <td>99960.000000</td>\n",
       "      <td>99960.000000</td>\n",
       "      <td>99960.000000</td>\n",
       "      <td>99960.000000</td>\n",
       "      <td>99960.000000</td>\n",
       "      <td>99960.000000</td>\n",
       "    </tr>\n",
       "    <tr>\n",
       "      <th>mean</th>\n",
       "      <td>21.095718</td>\n",
       "      <td>13.336345</td>\n",
       "      <td>5.774570</td>\n",
       "      <td>32.284544</td>\n",
       "      <td>221.122819</td>\n",
       "      <td>193.665219</td>\n",
       "      <td>403.445100</td>\n",
       "      <td>33.269228</td>\n",
       "      <td>50498.704153</td>\n",
       "      <td>5.368868</td>\n",
       "      <td>5.532853</td>\n",
       "      <td>14.535174</td>\n",
       "      <td>3.533974</td>\n",
       "      <td>4196.814288</td>\n",
       "      <td>10.396953</td>\n",
       "      <td>1426.514966</td>\n",
       "      <td>105.565802</td>\n",
       "    </tr>\n",
       "    <tr>\n",
       "      <th>std</th>\n",
       "      <td>14.827414</td>\n",
       "      <td>6.269964</td>\n",
       "      <td>3.862224</td>\n",
       "      <td>5.116888</td>\n",
       "      <td>99.696084</td>\n",
       "      <td>194.782737</td>\n",
       "      <td>214.387092</td>\n",
       "      <td>10.762371</td>\n",
       "      <td>38294.243161</td>\n",
       "      <td>2.591668</td>\n",
       "      <td>2.067698</td>\n",
       "      <td>8.741047</td>\n",
       "      <td>2.446156</td>\n",
       "      <td>3186.518163</td>\n",
       "      <td>6.510846</td>\n",
       "      <td>1155.252504</td>\n",
       "      <td>125.820983</td>\n",
       "    </tr>\n",
       "    <tr>\n",
       "      <th>min</th>\n",
       "      <td>0.000000</td>\n",
       "      <td>0.000000</td>\n",
       "      <td>0.000000</td>\n",
       "      <td>20.000000</td>\n",
       "      <td>1.000000</td>\n",
       "      <td>0.000000</td>\n",
       "      <td>0.007760</td>\n",
       "      <td>14.000000</td>\n",
       "      <td>7005.930000</td>\n",
       "      <td>0.000000</td>\n",
       "      <td>0.000000</td>\n",
       "      <td>1.000000</td>\n",
       "      <td>0.000000</td>\n",
       "      <td>303.645417</td>\n",
       "      <td>0.500000</td>\n",
       "      <td>0.230000</td>\n",
       "      <td>0.000000</td>\n",
       "    </tr>\n",
       "    <tr>\n",
       "      <th>25%</th>\n",
       "      <td>10.000000</td>\n",
       "      <td>9.000000</td>\n",
       "      <td>3.000000</td>\n",
       "      <td>28.052051</td>\n",
       "      <td>144.000000</td>\n",
       "      <td>73.708522</td>\n",
       "      <td>270.317007</td>\n",
       "      <td>24.000000</td>\n",
       "      <td>19338.480000</td>\n",
       "      <td>3.000000</td>\n",
       "      <td>4.000000</td>\n",
       "      <td>7.000000</td>\n",
       "      <td>2.000000</td>\n",
       "      <td>1626.594167</td>\n",
       "      <td>5.500000</td>\n",
       "      <td>566.080000</td>\n",
       "      <td>29.054273</td>\n",
       "    </tr>\n",
       "    <tr>\n",
       "      <th>50%</th>\n",
       "      <td>18.000000</td>\n",
       "      <td>14.000000</td>\n",
       "      <td>5.000000</td>\n",
       "      <td>32.305470</td>\n",
       "      <td>219.000000</td>\n",
       "      <td>129.342067</td>\n",
       "      <td>337.237873</td>\n",
       "      <td>33.000000</td>\n",
       "      <td>36996.830000</td>\n",
       "      <td>5.000000</td>\n",
       "      <td>5.000000</td>\n",
       "      <td>13.000000</td>\n",
       "      <td>3.000000</td>\n",
       "      <td>3091.386667</td>\n",
       "      <td>9.340000</td>\n",
       "      <td>1166.470000</td>\n",
       "      <td>66.058063</td>\n",
       "    </tr>\n",
       "    <tr>\n",
       "      <th>75%</th>\n",
       "      <td>28.000000</td>\n",
       "      <td>18.000000</td>\n",
       "      <td>8.000000</td>\n",
       "      <td>36.496305</td>\n",
       "      <td>302.000000</td>\n",
       "      <td>234.323706</td>\n",
       "      <td>471.904834</td>\n",
       "      <td>42.000000</td>\n",
       "      <td>71681.400000</td>\n",
       "      <td>7.000000</td>\n",
       "      <td>7.000000</td>\n",
       "      <td>20.000000</td>\n",
       "      <td>5.000000</td>\n",
       "      <td>5957.715000</td>\n",
       "      <td>14.680000</td>\n",
       "      <td>1948.200000</td>\n",
       "      <td>145.584994</td>\n",
       "    </tr>\n",
       "    <tr>\n",
       "      <th>max</th>\n",
       "      <td>67.000000</td>\n",
       "      <td>28.000000</td>\n",
       "      <td>29.000000</td>\n",
       "      <td>50.000000</td>\n",
       "      <td>404.000000</td>\n",
       "      <td>1977.326102</td>\n",
       "      <td>1602.040519</td>\n",
       "      <td>56.000000</td>\n",
       "      <td>179987.280000</td>\n",
       "      <td>10.000000</td>\n",
       "      <td>11.000000</td>\n",
       "      <td>34.000000</td>\n",
       "      <td>9.000000</td>\n",
       "      <td>15204.633333</td>\n",
       "      <td>29.980000</td>\n",
       "      <td>4998.070000</td>\n",
       "      <td>1779.103254</td>\n",
       "    </tr>\n",
       "  </tbody>\n",
       "</table>\n",
       "</div>"
      ],
      "text/plain": [
       "       Delay_from_due_date  Num_of_Delayed_Payment  Num_Credit_Inquiries  \\\n",
       "count         99960.000000            99960.000000          99960.000000   \n",
       "mean             21.095718               13.336345              5.774570   \n",
       "std              14.827414                6.269964              3.862224   \n",
       "min               0.000000                0.000000              0.000000   \n",
       "25%              10.000000                9.000000              3.000000   \n",
       "50%              18.000000               14.000000              5.000000   \n",
       "75%              28.000000               18.000000              8.000000   \n",
       "max              67.000000               28.000000             29.000000   \n",
       "\n",
       "       Credit_Utilization_Ratio  Credit_History_Age  Amount_invested_monthly  \\\n",
       "count              99960.000000        99960.000000             99960.000000   \n",
       "mean                  32.284544          221.122819               193.665219   \n",
       "std                    5.116888           99.696084               194.782737   \n",
       "min                   20.000000            1.000000                 0.000000   \n",
       "25%                   28.052051          144.000000                73.708522   \n",
       "50%                   32.305470          219.000000               129.342067   \n",
       "75%                   36.496305          302.000000               234.323706   \n",
       "max                   50.000000          404.000000              1977.326102   \n",
       "\n",
       "       Monthly_Balance           Age  Annual_Income  Num_Bank_Accounts  \\\n",
       "count     99960.000000  99960.000000   99960.000000       99960.000000   \n",
       "mean        403.445100     33.269228   50498.704153           5.368868   \n",
       "std         214.387092     10.762371   38294.243161           2.591668   \n",
       "min           0.007760     14.000000    7005.930000           0.000000   \n",
       "25%         270.317007     24.000000   19338.480000           3.000000   \n",
       "50%         337.237873     33.000000   36996.830000           5.000000   \n",
       "75%         471.904834     42.000000   71681.400000           7.000000   \n",
       "max        1602.040519     56.000000  179987.280000          10.000000   \n",
       "\n",
       "       Num_Credit_Card  Interest_Rate   Num_of_Loan  Monthly_Inhand_Salary  \\\n",
       "count     99960.000000   99960.000000  99960.000000           99960.000000   \n",
       "mean          5.532853      14.535174      3.533974            4196.814288   \n",
       "std           2.067698       8.741047      2.446156            3186.518163   \n",
       "min           0.000000       1.000000      0.000000             303.645417   \n",
       "25%           4.000000       7.000000      2.000000            1626.594167   \n",
       "50%           5.000000      13.000000      3.000000            3091.386667   \n",
       "75%           7.000000      20.000000      5.000000            5957.715000   \n",
       "max          11.000000      34.000000      9.000000           15204.633333   \n",
       "\n",
       "       Changed_Credit_Limit  Outstanding_Debt  Total_EMI_per_month  \n",
       "count          99960.000000      99960.000000         99960.000000  \n",
       "mean              10.396953       1426.514966           105.565802  \n",
       "std                6.510846       1155.252504           125.820983  \n",
       "min                0.500000          0.230000             0.000000  \n",
       "25%                5.500000        566.080000            29.054273  \n",
       "50%                9.340000       1166.470000            66.058063  \n",
       "75%               14.680000       1948.200000           145.584994  \n",
       "max               29.980000       4998.070000          1779.103254  "
      ]
     },
     "execution_count": 5,
     "metadata": {},
     "output_type": "execute_result"
    }
   ],
   "source": [
    "df.describe()"
   ]
  },
  {
   "cell_type": "code",
   "execution_count": 6,
   "id": "892a358f",
   "metadata": {},
   "outputs": [
    {
     "name": "stdout",
     "output_type": "stream",
     "text": [
      "<class 'pandas.core.frame.DataFrame'>\n",
      "RangeIndex: 99960 entries, 0 to 99959\n",
      "Data columns (total 21 columns):\n",
      " #   Column                    Non-Null Count  Dtype  \n",
      "---  ------                    --------------  -----  \n",
      " 0   Delay_from_due_date       99960 non-null  float64\n",
      " 1   Num_of_Delayed_Payment    99960 non-null  float64\n",
      " 2   Num_Credit_Inquiries      99960 non-null  float64\n",
      " 3   Credit_Utilization_Ratio  99960 non-null  float64\n",
      " 4   Credit_History_Age        99960 non-null  float64\n",
      " 5   Payment_of_Min_Amount     99960 non-null  object \n",
      " 6   Amount_invested_monthly   99960 non-null  float64\n",
      " 7   Monthly_Balance           99960 non-null  float64\n",
      " 8   Credit_Score              99960 non-null  object \n",
      " 9   Credit_Mix                99960 non-null  object \n",
      " 10  Payment_Behaviour         99960 non-null  object \n",
      " 11  Age                       99960 non-null  float64\n",
      " 12  Annual_Income             99960 non-null  float64\n",
      " 13  Num_Bank_Accounts         99960 non-null  float64\n",
      " 14  Num_Credit_Card           99960 non-null  float64\n",
      " 15  Interest_Rate             99960 non-null  float64\n",
      " 16  Num_of_Loan               99960 non-null  float64\n",
      " 17  Monthly_Inhand_Salary     99960 non-null  float64\n",
      " 18  Changed_Credit_Limit      99960 non-null  float64\n",
      " 19  Outstanding_Debt          99960 non-null  float64\n",
      " 20  Total_EMI_per_month       99960 non-null  float64\n",
      "dtypes: float64(17), object(4)\n",
      "memory usage: 16.0+ MB\n"
     ]
    }
   ],
   "source": [
    "df.info()"
   ]
  },
  {
   "cell_type": "code",
   "execution_count": 7,
   "id": "4bd0414e",
   "metadata": {},
   "outputs": [
    {
     "data": {
      "text/plain": [
       "Delay_from_due_date         0\n",
       "Num_of_Delayed_Payment      0\n",
       "Num_Credit_Inquiries        0\n",
       "Credit_Utilization_Ratio    0\n",
       "Credit_History_Age          0\n",
       "Payment_of_Min_Amount       0\n",
       "Amount_invested_monthly     0\n",
       "Monthly_Balance             0\n",
       "Credit_Score                0\n",
       "Credit_Mix                  0\n",
       "Payment_Behaviour           0\n",
       "Age                         0\n",
       "Annual_Income               0\n",
       "Num_Bank_Accounts           0\n",
       "Num_Credit_Card             0\n",
       "Interest_Rate               0\n",
       "Num_of_Loan                 0\n",
       "Monthly_Inhand_Salary       0\n",
       "Changed_Credit_Limit        0\n",
       "Outstanding_Debt            0\n",
       "Total_EMI_per_month         0\n",
       "dtype: int64"
      ]
     },
     "execution_count": 7,
     "metadata": {},
     "output_type": "execute_result"
    }
   ],
   "source": [
    "df.isnull().sum()"
   ]
  },
  {
   "cell_type": "code",
   "execution_count": 8,
   "id": "54398ef7",
   "metadata": {},
   "outputs": [],
   "source": [
    "cat=df.select_dtypes([\"O\"]).columns   # SEGREGATTING CATEGORICAL COLUMNS"
   ]
  },
  {
   "cell_type": "code",
   "execution_count": 9,
   "id": "ea1bf6e3",
   "metadata": {},
   "outputs": [
    {
     "data": {
      "text/plain": [
       "Index(['Payment_of_Min_Amount', 'Credit_Score', 'Credit_Mix',\n",
       "       'Payment_Behaviour'],\n",
       "      dtype='object')"
      ]
     },
     "execution_count": 9,
     "metadata": {},
     "output_type": "execute_result"
    }
   ],
   "source": [
    "cat"
   ]
  },
  {
   "cell_type": "code",
   "execution_count": 10,
   "id": "22e27324",
   "metadata": {},
   "outputs": [],
   "source": [
    "num=df.select_dtypes([int,float]).columns   # SEGREGATING NUMERICALS COLUMNS."
   ]
  },
  {
   "cell_type": "code",
   "execution_count": 11,
   "id": "97d5cbcd",
   "metadata": {},
   "outputs": [
    {
     "data": {
      "text/plain": [
       "Index(['Delay_from_due_date', 'Num_of_Delayed_Payment', 'Num_Credit_Inquiries',\n",
       "       'Credit_Utilization_Ratio', 'Credit_History_Age',\n",
       "       'Amount_invested_monthly', 'Monthly_Balance', 'Age', 'Annual_Income',\n",
       "       'Num_Bank_Accounts', 'Num_Credit_Card', 'Interest_Rate', 'Num_of_Loan',\n",
       "       'Monthly_Inhand_Salary', 'Changed_Credit_Limit', 'Outstanding_Debt',\n",
       "       'Total_EMI_per_month'],\n",
       "      dtype='object')"
      ]
     },
     "execution_count": 11,
     "metadata": {},
     "output_type": "execute_result"
    }
   ],
   "source": [
    "num"
   ]
  },
  {
   "cell_type": "code",
   "execution_count": 12,
   "id": "02b0fe3c",
   "metadata": {},
   "outputs": [
    {
     "data": {
      "text/plain": [
       "Yes    52326\n",
       "No     35628\n",
       "NM     12006\n",
       "Name: Payment_of_Min_Amount, dtype: int64"
      ]
     },
     "execution_count": 12,
     "metadata": {},
     "output_type": "execute_result"
    }
   ],
   "source": [
    "df[\"Payment_of_Min_Amount\"].value_counts()"
   ]
  },
  {
   "cell_type": "code",
   "execution_count": 13,
   "id": "29be03f5",
   "metadata": {},
   "outputs": [
    {
     "data": {
      "text/plain": [
       "Standard    53149\n",
       "Poor        28988\n",
       "Good        17823\n",
       "Name: Credit_Score, dtype: int64"
      ]
     },
     "execution_count": 13,
     "metadata": {},
     "output_type": "execute_result"
    }
   ],
   "source": [
    "df[\"Credit_Score\"].value_counts()"
   ]
  },
  {
   "cell_type": "code",
   "execution_count": 14,
   "id": "00a953d5",
   "metadata": {},
   "outputs": [
    {
     "data": {
      "text/plain": [
       "Standard    45832\n",
       "Good        30360\n",
       "Bad         23768\n",
       "Name: Credit_Mix, dtype: int64"
      ]
     },
     "execution_count": 14,
     "metadata": {},
     "output_type": "execute_result"
    }
   ],
   "source": [
    "df[\"Credit_Mix\"].value_counts()"
   ]
  },
  {
   "cell_type": "code",
   "execution_count": 15,
   "id": "0be2561b",
   "metadata": {},
   "outputs": [
    {
     "data": {
      "text/plain": [
       "Low_spent_Small_value_payments      33912\n",
       "High_spent_Medium_value_payments    26728\n",
       "High_spent_Large_value_payments     16744\n",
       "Low_spent_Medium_value_payments     10304\n",
       "High_spent_Small_value_payments      6512\n",
       "Low_spent_Large_value_payments       5760\n",
       "Name: Payment_Behaviour, dtype: int64"
      ]
     },
     "execution_count": 15,
     "metadata": {},
     "output_type": "execute_result"
    }
   ],
   "source": [
    "df[\"Payment_Behaviour\"].value_counts()"
   ]
  },
  {
   "cell_type": "code",
   "execution_count": 16,
   "id": "eeaf889a",
   "metadata": {},
   "outputs": [
    {
     "data": {
      "text/plain": [
       "<AxesSubplot:>"
      ]
     },
     "execution_count": 16,
     "metadata": {},
     "output_type": "execute_result"
    },
    {
     "data": {
      "image/png": "[encoded data removed]",
      "text/plain": [
       "<Figure size 2000x2000 with 2 Axes>"
      ]
     },
     "metadata": {},
     "output_type": "display_data"
    }
   ],
   "source": [
    "plt.figure(figsize=(20,20))\n",
    "sns.heatmap(df.corr(),annot=True)"
   ]
  },
  {
   "cell_type": "code",
   "execution_count": 17,
   "id": "6de23039",
   "metadata": {},
   "outputs": [],
   "source": [
    "from sklearn.preprocessing import LabelEncoder\n",
    "le=LabelEncoder()"
   ]
  },
  {
   "cell_type": "code",
   "execution_count": 18,
   "id": "34b05721",
   "metadata": {},
   "outputs": [],
   "source": [
    "for i in cat:\n",
    "    df[i]=le.fit_transform(df[i])\n",
    "    "
   ]
  },
  {
   "cell_type": "code",
   "execution_count": 19,
   "id": "9a4ac4b3",
   "metadata": {},
   "outputs": [
    {
     "data": {
      "text/html": [
       "<div>\n",
       "<style scoped>\n",
       "    .dataframe tbody tr th:only-of-type {\n",
       "        vertical-align: middle;\n",
       "    }\n",
       "\n",
       "    .dataframe tbody tr th {\n",
       "        vertical-align: top;\n",
       "    }\n",
       "\n",
       "    .dataframe thead th {\n",
       "        text-align: right;\n",
       "    }\n",
       "</style>\n",
       "<table border=\"1\" class=\"dataframe\">\n",
       "  <thead>\n",
       "    <tr style=\"text-align: right;\">\n",
       "      <th></th>\n",
       "      <th>Delay_from_due_date</th>\n",
       "      <th>Num_of_Delayed_Payment</th>\n",
       "      <th>Num_Credit_Inquiries</th>\n",
       "      <th>Credit_Utilization_Ratio</th>\n",
       "      <th>Credit_History_Age</th>\n",
       "      <th>Payment_of_Min_Amount</th>\n",
       "      <th>Amount_invested_monthly</th>\n",
       "      <th>Monthly_Balance</th>\n",
       "      <th>Credit_Score</th>\n",
       "      <th>Credit_Mix</th>\n",
       "      <th>...</th>\n",
       "      <th>Age</th>\n",
       "      <th>Annual_Income</th>\n",
       "      <th>Num_Bank_Accounts</th>\n",
       "      <th>Num_Credit_Card</th>\n",
       "      <th>Interest_Rate</th>\n",
       "      <th>Num_of_Loan</th>\n",
       "      <th>Monthly_Inhand_Salary</th>\n",
       "      <th>Changed_Credit_Limit</th>\n",
       "      <th>Outstanding_Debt</th>\n",
       "      <th>Total_EMI_per_month</th>\n",
       "    </tr>\n",
       "  </thead>\n",
       "  <tbody>\n",
       "    <tr>\n",
       "      <th>0</th>\n",
       "      <td>3.0</td>\n",
       "      <td>7.0</td>\n",
       "      <td>4.0</td>\n",
       "      <td>26.822620</td>\n",
       "      <td>265.0</td>\n",
       "      <td>1</td>\n",
       "      <td>80.415295</td>\n",
       "      <td>312.494089</td>\n",
       "      <td>0</td>\n",
       "      <td>1</td>\n",
       "      <td>...</td>\n",
       "      <td>23.0</td>\n",
       "      <td>19114.12</td>\n",
       "      <td>3.0</td>\n",
       "      <td>4.0</td>\n",
       "      <td>3.0</td>\n",
       "      <td>4.0</td>\n",
       "      <td>1824.843333</td>\n",
       "      <td>11.27</td>\n",
       "      <td>809.98</td>\n",
       "      <td>49.574949</td>\n",
       "    </tr>\n",
       "    <tr>\n",
       "      <th>1</th>\n",
       "      <td>3.0</td>\n",
       "      <td>7.0</td>\n",
       "      <td>4.0</td>\n",
       "      <td>31.944960</td>\n",
       "      <td>265.0</td>\n",
       "      <td>1</td>\n",
       "      <td>118.280222</td>\n",
       "      <td>284.629162</td>\n",
       "      <td>0</td>\n",
       "      <td>1</td>\n",
       "      <td>...</td>\n",
       "      <td>23.0</td>\n",
       "      <td>19114.12</td>\n",
       "      <td>3.0</td>\n",
       "      <td>4.0</td>\n",
       "      <td>3.0</td>\n",
       "      <td>4.0</td>\n",
       "      <td>1824.843333</td>\n",
       "      <td>11.27</td>\n",
       "      <td>809.98</td>\n",
       "      <td>49.574949</td>\n",
       "    </tr>\n",
       "    <tr>\n",
       "      <th>2</th>\n",
       "      <td>3.0</td>\n",
       "      <td>7.0</td>\n",
       "      <td>4.0</td>\n",
       "      <td>28.609352</td>\n",
       "      <td>267.0</td>\n",
       "      <td>1</td>\n",
       "      <td>81.699521</td>\n",
       "      <td>331.209863</td>\n",
       "      <td>0</td>\n",
       "      <td>1</td>\n",
       "      <td>...</td>\n",
       "      <td>23.0</td>\n",
       "      <td>19114.12</td>\n",
       "      <td>3.0</td>\n",
       "      <td>4.0</td>\n",
       "      <td>3.0</td>\n",
       "      <td>4.0</td>\n",
       "      <td>1824.843333</td>\n",
       "      <td>11.27</td>\n",
       "      <td>809.98</td>\n",
       "      <td>49.574949</td>\n",
       "    </tr>\n",
       "    <tr>\n",
       "      <th>3</th>\n",
       "      <td>5.0</td>\n",
       "      <td>4.0</td>\n",
       "      <td>4.0</td>\n",
       "      <td>31.377862</td>\n",
       "      <td>268.0</td>\n",
       "      <td>1</td>\n",
       "      <td>199.458074</td>\n",
       "      <td>223.451310</td>\n",
       "      <td>0</td>\n",
       "      <td>1</td>\n",
       "      <td>...</td>\n",
       "      <td>23.0</td>\n",
       "      <td>19114.12</td>\n",
       "      <td>3.0</td>\n",
       "      <td>4.0</td>\n",
       "      <td>3.0</td>\n",
       "      <td>4.0</td>\n",
       "      <td>1824.843333</td>\n",
       "      <td>11.27</td>\n",
       "      <td>809.98</td>\n",
       "      <td>49.574949</td>\n",
       "    </tr>\n",
       "    <tr>\n",
       "      <th>4</th>\n",
       "      <td>6.0</td>\n",
       "      <td>4.0</td>\n",
       "      <td>4.0</td>\n",
       "      <td>24.797347</td>\n",
       "      <td>269.0</td>\n",
       "      <td>1</td>\n",
       "      <td>41.420153</td>\n",
       "      <td>341.489231</td>\n",
       "      <td>0</td>\n",
       "      <td>1</td>\n",
       "      <td>...</td>\n",
       "      <td>23.0</td>\n",
       "      <td>19114.12</td>\n",
       "      <td>3.0</td>\n",
       "      <td>4.0</td>\n",
       "      <td>3.0</td>\n",
       "      <td>4.0</td>\n",
       "      <td>1824.843333</td>\n",
       "      <td>11.27</td>\n",
       "      <td>809.98</td>\n",
       "      <td>49.574949</td>\n",
       "    </tr>\n",
       "    <tr>\n",
       "      <th>...</th>\n",
       "      <td>...</td>\n",
       "      <td>...</td>\n",
       "      <td>...</td>\n",
       "      <td>...</td>\n",
       "      <td>...</td>\n",
       "      <td>...</td>\n",
       "      <td>...</td>\n",
       "      <td>...</td>\n",
       "      <td>...</td>\n",
       "      <td>...</td>\n",
       "      <td>...</td>\n",
       "      <td>...</td>\n",
       "      <td>...</td>\n",
       "      <td>...</td>\n",
       "      <td>...</td>\n",
       "      <td>...</td>\n",
       "      <td>...</td>\n",
       "      <td>...</td>\n",
       "      <td>...</td>\n",
       "      <td>...</td>\n",
       "      <td>...</td>\n",
       "    </tr>\n",
       "    <tr>\n",
       "      <th>99955</th>\n",
       "      <td>23.0</td>\n",
       "      <td>7.0</td>\n",
       "      <td>3.0</td>\n",
       "      <td>34.663572</td>\n",
       "      <td>378.0</td>\n",
       "      <td>1</td>\n",
       "      <td>60.971333</td>\n",
       "      <td>479.866228</td>\n",
       "      <td>1</td>\n",
       "      <td>1</td>\n",
       "      <td>...</td>\n",
       "      <td>25.0</td>\n",
       "      <td>39628.99</td>\n",
       "      <td>4.0</td>\n",
       "      <td>6.0</td>\n",
       "      <td>7.0</td>\n",
       "      <td>2.0</td>\n",
       "      <td>3359.415833</td>\n",
       "      <td>11.50</td>\n",
       "      <td>502.38</td>\n",
       "      <td>35.104023</td>\n",
       "    </tr>\n",
       "    <tr>\n",
       "      <th>99956</th>\n",
       "      <td>18.0</td>\n",
       "      <td>7.0</td>\n",
       "      <td>3.0</td>\n",
       "      <td>40.565631</td>\n",
       "      <td>379.0</td>\n",
       "      <td>1</td>\n",
       "      <td>54.185950</td>\n",
       "      <td>496.651610</td>\n",
       "      <td>1</td>\n",
       "      <td>1</td>\n",
       "      <td>...</td>\n",
       "      <td>25.0</td>\n",
       "      <td>39628.99</td>\n",
       "      <td>4.0</td>\n",
       "      <td>6.0</td>\n",
       "      <td>7.0</td>\n",
       "      <td>2.0</td>\n",
       "      <td>3359.415833</td>\n",
       "      <td>11.50</td>\n",
       "      <td>502.38</td>\n",
       "      <td>35.104023</td>\n",
       "    </tr>\n",
       "    <tr>\n",
       "      <th>99957</th>\n",
       "      <td>27.0</td>\n",
       "      <td>6.0</td>\n",
       "      <td>3.0</td>\n",
       "      <td>41.255522</td>\n",
       "      <td>380.0</td>\n",
       "      <td>1</td>\n",
       "      <td>24.028477</td>\n",
       "      <td>516.809083</td>\n",
       "      <td>1</td>\n",
       "      <td>1</td>\n",
       "      <td>...</td>\n",
       "      <td>25.0</td>\n",
       "      <td>39628.99</td>\n",
       "      <td>4.0</td>\n",
       "      <td>6.0</td>\n",
       "      <td>7.0</td>\n",
       "      <td>2.0</td>\n",
       "      <td>3359.415833</td>\n",
       "      <td>11.50</td>\n",
       "      <td>502.38</td>\n",
       "      <td>35.104023</td>\n",
       "    </tr>\n",
       "    <tr>\n",
       "      <th>99958</th>\n",
       "      <td>20.0</td>\n",
       "      <td>6.0</td>\n",
       "      <td>3.0</td>\n",
       "      <td>33.638208</td>\n",
       "      <td>381.0</td>\n",
       "      <td>1</td>\n",
       "      <td>251.672582</td>\n",
       "      <td>319.164979</td>\n",
       "      <td>2</td>\n",
       "      <td>1</td>\n",
       "      <td>...</td>\n",
       "      <td>25.0</td>\n",
       "      <td>39628.99</td>\n",
       "      <td>4.0</td>\n",
       "      <td>6.0</td>\n",
       "      <td>7.0</td>\n",
       "      <td>2.0</td>\n",
       "      <td>3359.415833</td>\n",
       "      <td>11.50</td>\n",
       "      <td>502.38</td>\n",
       "      <td>35.104023</td>\n",
       "    </tr>\n",
       "    <tr>\n",
       "      <th>99959</th>\n",
       "      <td>18.0</td>\n",
       "      <td>6.0</td>\n",
       "      <td>3.0</td>\n",
       "      <td>34.192463</td>\n",
       "      <td>382.0</td>\n",
       "      <td>1</td>\n",
       "      <td>167.163865</td>\n",
       "      <td>393.673696</td>\n",
       "      <td>1</td>\n",
       "      <td>1</td>\n",
       "      <td>...</td>\n",
       "      <td>25.0</td>\n",
       "      <td>39628.99</td>\n",
       "      <td>4.0</td>\n",
       "      <td>6.0</td>\n",
       "      <td>7.0</td>\n",
       "      <td>2.0</td>\n",
       "      <td>3359.415833</td>\n",
       "      <td>11.50</td>\n",
       "      <td>502.38</td>\n",
       "      <td>35.104023</td>\n",
       "    </tr>\n",
       "  </tbody>\n",
       "</table>\n",
       "<p>99960 rows × 21 columns</p>\n",
       "</div>"
      ],
      "text/plain": [
       "       Delay_from_due_date  Num_of_Delayed_Payment  Num_Credit_Inquiries  \\\n",
       "0                      3.0                     7.0                   4.0   \n",
       "1                      3.0                     7.0                   4.0   \n",
       "2                      3.0                     7.0                   4.0   \n",
       "3                      5.0                     4.0                   4.0   \n",
       "4                      6.0                     4.0                   4.0   \n",
       "...                    ...                     ...                   ...   \n",
       "99955                 23.0                     7.0                   3.0   \n",
       "99956                 18.0                     7.0                   3.0   \n",
       "99957                 27.0                     6.0                   3.0   \n",
       "99958                 20.0                     6.0                   3.0   \n",
       "99959                 18.0                     6.0                   3.0   \n",
       "\n",
       "       Credit_Utilization_Ratio  Credit_History_Age  Payment_of_Min_Amount  \\\n",
       "0                     26.822620               265.0                      1   \n",
       "1                     31.944960               265.0                      1   \n",
       "2                     28.609352               267.0                      1   \n",
       "3                     31.377862               268.0                      1   \n",
       "4                     24.797347               269.0                      1   \n",
       "...                         ...                 ...                    ...   \n",
       "99955                 34.663572               378.0                      1   \n",
       "99956                 40.565631               379.0                      1   \n",
       "99957                 41.255522               380.0                      1   \n",
       "99958                 33.638208               381.0                      1   \n",
       "99959                 34.192463               382.0                      1   \n",
       "\n",
       "       Amount_invested_monthly  Monthly_Balance  Credit_Score  Credit_Mix  \\\n",
       "0                    80.415295       312.494089             0           1   \n",
       "1                   118.280222       284.629162             0           1   \n",
       "2                    81.699521       331.209863             0           1   \n",
       "3                   199.458074       223.451310             0           1   \n",
       "4                    41.420153       341.489231             0           1   \n",
       "...                        ...              ...           ...         ...   \n",
       "99955                60.971333       479.866228             1           1   \n",
       "99956                54.185950       496.651610             1           1   \n",
       "99957                24.028477       516.809083             1           1   \n",
       "99958               251.672582       319.164979             2           1   \n",
       "99959               167.163865       393.673696             1           1   \n",
       "\n",
       "       ...   Age  Annual_Income  Num_Bank_Accounts  Num_Credit_Card  \\\n",
       "0      ...  23.0       19114.12                3.0              4.0   \n",
       "1      ...  23.0       19114.12                3.0              4.0   \n",
       "2      ...  23.0       19114.12                3.0              4.0   \n",
       "3      ...  23.0       19114.12                3.0              4.0   \n",
       "4      ...  23.0       19114.12                3.0              4.0   \n",
       "...    ...   ...            ...                ...              ...   \n",
       "99955  ...  25.0       39628.99                4.0              6.0   \n",
       "99956  ...  25.0       39628.99                4.0              6.0   \n",
       "99957  ...  25.0       39628.99                4.0              6.0   \n",
       "99958  ...  25.0       39628.99                4.0              6.0   \n",
       "99959  ...  25.0       39628.99                4.0              6.0   \n",
       "\n",
       "       Interest_Rate  Num_of_Loan  Monthly_Inhand_Salary  \\\n",
       "0                3.0          4.0            1824.843333   \n",
       "1                3.0          4.0            1824.843333   \n",
       "2                3.0          4.0            1824.843333   \n",
       "3                3.0          4.0            1824.843333   \n",
       "4                3.0          4.0            1824.843333   \n",
       "...              ...          ...                    ...   \n",
       "99955            7.0          2.0            3359.415833   \n",
       "99956            7.0          2.0            3359.415833   \n",
       "99957            7.0          2.0            3359.415833   \n",
       "99958            7.0          2.0            3359.415833   \n",
       "99959            7.0          2.0            3359.415833   \n",
       "\n",
       "       Changed_Credit_Limit  Outstanding_Debt  Total_EMI_per_month  \n",
       "0                     11.27            809.98            49.574949  \n",
       "1                     11.27            809.98            49.574949  \n",
       "2                     11.27            809.98            49.574949  \n",
       "3                     11.27            809.98            49.574949  \n",
       "4                     11.27            809.98            49.574949  \n",
       "...                     ...               ...                  ...  \n",
       "99955                 11.50            502.38            35.104023  \n",
       "99956                 11.50            502.38            35.104023  \n",
       "99957                 11.50            502.38            35.104023  \n",
       "99958                 11.50            502.38            35.104023  \n",
       "99959                 11.50            502.38            35.104023  \n",
       "\n",
       "[99960 rows x 21 columns]"
      ]
     },
     "execution_count": 19,
     "metadata": {},
     "output_type": "execute_result"
    }
   ],
   "source": [
    "df"
   ]
  },
  {
   "cell_type": "code",
   "execution_count": 20,
   "id": "cf425e7f",
   "metadata": {},
   "outputs": [
    {
     "data": {
      "text/plain": [
       "2    52326\n",
       "1    35628\n",
       "0    12006\n",
       "Name: Payment_of_Min_Amount, dtype: int64"
      ]
     },
     "execution_count": 20,
     "metadata": {},
     "output_type": "execute_result"
    }
   ],
   "source": [
    "df[\"Payment_of_Min_Amount\"].value_counts()       #2 -YES\n",
    "                                                 #1 -NO\n",
    "                                                 #0 -NM (Not Mentioned)"
   ]
  },
  {
   "cell_type": "code",
   "execution_count": 21,
   "id": "5af3c7e1",
   "metadata": {},
   "outputs": [
    {
     "data": {
      "text/plain": [
       "2    53149\n",
       "1    28988\n",
       "0    17823\n",
       "Name: Credit_Score, dtype: int64"
      ]
     },
     "execution_count": 21,
     "metadata": {},
     "output_type": "execute_result"
    }
   ],
   "source": [
    "df[\"Credit_Score\"].value_counts()              #2 -Standard\n",
    "                                               #1 -POOR\n",
    "                                               #0 -GOOD"
   ]
  },
  {
   "cell_type": "code",
   "execution_count": 22,
   "id": "0b3b09be",
   "metadata": {},
   "outputs": [
    {
     "data": {
      "text/plain": [
       "2    45832\n",
       "1    30360\n",
       "0    23768\n",
       "Name: Credit_Mix, dtype: int64"
      ]
     },
     "execution_count": 22,
     "metadata": {},
     "output_type": "execute_result"
    }
   ],
   "source": [
    "df[\"Credit_Mix\"].value_counts()               #2 -Standard\n",
    "                                              #1 -GOOD\n",
    "                                              #0 -BAD"
   ]
  },
  {
   "cell_type": "code",
   "execution_count": 23,
   "id": "e42baa70",
   "metadata": {},
   "outputs": [
    {
     "data": {
      "text/plain": [
       "5    33912\n",
       "1    26728\n",
       "0    16744\n",
       "4    10304\n",
       "2     6512\n",
       "3     5760\n",
       "Name: Payment_Behaviour, dtype: int64"
      ]
     },
     "execution_count": 23,
     "metadata": {},
     "output_type": "execute_result"
    }
   ],
   "source": [
    "df[\"Payment_Behaviour\"].value_counts()        #Low_spent_Small_value_payments      5\n",
    "                                              #High_spent_Medium_value_payments    1\n",
    "                                              #High_spent_Large_value_payments     0\n",
    "                                              #Low_spent_Medium_value_payments     4\n",
    "                                              #High_spent_Small_value_payments     2\n",
    "                                              #Low_spent_Large_value_payments      3"
   ]
  },
  {
   "cell_type": "code",
   "execution_count": 24,
   "id": "bac43170",
   "metadata": {},
   "outputs": [],
   "source": [
    "X=df.drop(\"Credit_Score\",axis=1)\n",
    "y=df[\"Credit_Score\"]"
   ]
  },
  {
   "cell_type": "code",
   "execution_count": 25,
   "id": "041d5fec",
   "metadata": {},
   "outputs": [
    {
     "data": {
      "text/plain": [
       "<AxesSubplot:xlabel='Credit_Score', ylabel='count'>"
      ]
     },
     "execution_count": 25,
     "metadata": {},
     "output_type": "execute_result"
    },
    {
     "data": {
      "image/png": "[encoded data removed]",
      "text/plain": [
       "<Figure size 640x480 with 1 Axes>"
      ]
     },
     "metadata": {},
     "output_type": "display_data"
    }
   ],
   "source": [
    "sns.countplot(df[\"Credit_Score\"])"
   ]
  },
  {
   "cell_type": "code",
   "execution_count": 26,
   "id": "d1c363aa",
   "metadata": {},
   "outputs": [],
   "source": [
    "# IT SEEMS ITS AN IMBALANCED DATASET. Lets Balance it."
   ]
  },
  {
   "cell_type": "code",
   "execution_count": 27,
   "id": "a50eaa2a",
   "metadata": {},
   "outputs": [],
   "source": [
    "from imblearn.over_sampling import SMOTE"
   ]
  },
  {
   "cell_type": "code",
   "execution_count": 28,
   "id": "9a2c337c",
   "metadata": {},
   "outputs": [],
   "source": [
    "smote=SMOTE()"
   ]
  },
  {
   "cell_type": "code",
   "execution_count": 29,
   "id": "3f361051",
   "metadata": {},
   "outputs": [],
   "source": [
    "X,y=smote.fit_resample(X,y)"
   ]
  },
  {
   "cell_type": "code",
   "execution_count": 30,
   "id": "450c647c",
   "metadata": {},
   "outputs": [
    {
     "data": {
      "text/plain": [
       "0    53149\n",
       "2    53149\n",
       "1    53149\n",
       "Name: Credit_Score, dtype: int64"
      ]
     },
     "execution_count": 30,
     "metadata": {},
     "output_type": "execute_result"
    }
   ],
   "source": [
    "y.value_counts()"
   ]
  },
  {
   "cell_type": "code",
   "execution_count": 31,
   "id": "b4c87b0b",
   "metadata": {},
   "outputs": [],
   "source": [
    "# NOW OUR DATA IS BALANCED AND READY FOR MODEL BUILDING"
   ]
  },
  {
   "cell_type": "code",
   "execution_count": 32,
   "id": "11c42593",
   "metadata": {},
   "outputs": [],
   "source": [
    "from sklearn.ensemble import RandomForestClassifier\n",
    "from sklearn.ensemble import ExtraTreesClassifier\n",
    "from sklearn.ensemble import BaggingClassifier\n",
    "from sklearn.ensemble import AdaBoostClassifier\n",
    "from xgboost import XGBClassifier\n",
    "from sklearn.neighbors import KNeighborsClassifier\n",
    "from sklearn.svm import SVC"
   ]
  },
  {
   "cell_type": "code",
   "execution_count": 33,
   "id": "6b343cd2",
   "metadata": {},
   "outputs": [],
   "source": [
    "rfc=RandomForestClassifier()\n",
    "etc=ExtraTreesClassifier()\n",
    "bag=BaggingClassifier()\n",
    "ada=AdaBoostClassifier()\n",
    "xgb=XGBClassifier()\n",
    "knn=KNeighborsClassifier(n_neighbors=11)\n",
    "svc=SVC()"
   ]
  },
  {
   "cell_type": "code",
   "execution_count": 34,
   "id": "e27c4227",
   "metadata": {},
   "outputs": [],
   "source": [
    "# importing all the required algorithms (WE MOSTLY CHOOSE ENSEMBLE TECHNIQUES BECAUSE IT HANDLES OUTLIERS ON ITS OWN.)"
   ]
  },
  {
   "cell_type": "code",
   "execution_count": 35,
   "id": "90e00e73",
   "metadata": {},
   "outputs": [],
   "source": [
    "from sklearn.model_selection import train_test_split"
   ]
  },
  {
   "cell_type": "code",
   "execution_count": 36,
   "id": "9f8b9871",
   "metadata": {},
   "outputs": [],
   "source": [
    "X_train,X_test,y_train,y_test=train_test_split(X,y,test_size=0.20,random_state=0)"
   ]
  },
  {
   "cell_type": "code",
   "execution_count": 37,
   "id": "4d20fbbc",
   "metadata": {},
   "outputs": [
    {
     "data": {
      "text/plain": [
       "((127557, 20), (31890, 20))"
      ]
     },
     "execution_count": 37,
     "metadata": {},
     "output_type": "execute_result"
    }
   ],
   "source": [
    "X_train.shape,X_test.shape"
   ]
  },
  {
   "cell_type": "code",
   "execution_count": 38,
   "id": "9ff76bab",
   "metadata": {},
   "outputs": [
    {
     "data": {
      "text/plain": [
       "((127557,), (31890,))"
      ]
     },
     "execution_count": 38,
     "metadata": {},
     "output_type": "execute_result"
    }
   ],
   "source": [
    "y_train.shape,y_test.shape"
   ]
  },
  {
   "cell_type": "code",
   "execution_count": 39,
   "id": "2cb0cabc",
   "metadata": {},
   "outputs": [],
   "source": [
    "from sklearn.preprocessing import MinMaxScaler\n",
    "mms=MinMaxScaler()\n",
    "X_train=mms.fit_transform(X_train)\n",
    "X_test=mms.transform(X_test)"
   ]
  },
  {
   "cell_type": "code",
   "execution_count": 40,
   "id": "6af8a5ef",
   "metadata": {},
   "outputs": [],
   "source": [
    "models=[rfc,\n",
    "etc,\n",
    "bag,\n",
    "ada,\n",
    "xgb,\n",
    "knn,\n",
    "svc]\n",
    "from sklearn.metrics import classification_report"
   ]
  },
  {
   "cell_type": "code",
   "execution_count": 44,
   "id": "3a5731c6",
   "metadata": {},
   "outputs": [
    {
     "name": "stdout",
     "output_type": "stream",
     "text": [
      "                    Model                              Classification Report\n",
      "0  RandomForestClassifier                precision    recall  f1-score   ...\n",
      "1    ExtraTreesClassifier                precision    recall  f1-score   ...\n",
      "2       BaggingClassifier                precision    recall  f1-score   ...\n",
      "3      AdaBoostClassifier                precision    recall  f1-score   ...\n",
      "4           XGBClassifier                precision    recall  f1-score   ...\n",
      "5    KNeighborsClassifier                precision    recall  f1-score   ...\n",
      "6                     SVC                precision    recall  f1-score   ...\n"
     ]
    }
   ],
   "source": [
    "result = {'Model': [], 'Classification Report': []} \n",
    "for i in models:\n",
    "    i.fit(X_train,y_train)\n",
    "    pred=i.predict(X_test)\n",
    "    prediction=classification_report(y_test,pred)\n",
    "    result['Model'].append(i.__class__.__name__)\n",
    "    result['Classification Report'].append(prediction)\n",
    "results=pd.DataFrame(result)    \n",
    "print(results)"
   ]
  },
  {
   "cell_type": "code",
   "execution_count": 52,
   "id": "1428acf2",
   "metadata": {},
   "outputs": [
    {
     "data": {
      "text/html": [
       "<div>\n",
       "<style scoped>\n",
       "    .dataframe tbody tr th:only-of-type {\n",
       "        vertical-align: middle;\n",
       "    }\n",
       "\n",
       "    .dataframe tbody tr th {\n",
       "        vertical-align: top;\n",
       "    }\n",
       "\n",
       "    .dataframe thead th {\n",
       "        text-align: right;\n",
       "    }\n",
       "</style>\n",
       "<table border=\"1\" class=\"dataframe\">\n",
       "  <thead>\n",
       "    <tr style=\"text-align: right;\">\n",
       "      <th></th>\n",
       "      <th>Model</th>\n",
       "      <th>Classification Report</th>\n",
       "    </tr>\n",
       "  </thead>\n",
       "  <tbody>\n",
       "    <tr>\n",
       "      <th>0</th>\n",
       "      <td>RandomForestClassifier</td>\n",
       "      <td>precision    recall  f1-score   ...</td>\n",
       "    </tr>\n",
       "    <tr>\n",
       "      <th>1</th>\n",
       "      <td>ExtraTreesClassifier</td>\n",
       "      <td>precision    recall  f1-score   ...</td>\n",
       "    </tr>\n",
       "    <tr>\n",
       "      <th>2</th>\n",
       "      <td>BaggingClassifier</td>\n",
       "      <td>precision    recall  f1-score   ...</td>\n",
       "    </tr>\n",
       "    <tr>\n",
       "      <th>3</th>\n",
       "      <td>AdaBoostClassifier</td>\n",
       "      <td>precision    recall  f1-score   ...</td>\n",
       "    </tr>\n",
       "    <tr>\n",
       "      <th>4</th>\n",
       "      <td>XGBClassifier</td>\n",
       "      <td>precision    recall  f1-score   ...</td>\n",
       "    </tr>\n",
       "    <tr>\n",
       "      <th>5</th>\n",
       "      <td>KNeighborsClassifier</td>\n",
       "      <td>precision    recall  f1-score   ...</td>\n",
       "    </tr>\n",
       "    <tr>\n",
       "      <th>6</th>\n",
       "      <td>SVC</td>\n",
       "      <td>precision    recall  f1-score   ...</td>\n",
       "    </tr>\n",
       "  </tbody>\n",
       "</table>\n",
       "</div>"
      ],
      "text/plain": [
       "                    Model                              Classification Report\n",
       "0  RandomForestClassifier                precision    recall  f1-score   ...\n",
       "1    ExtraTreesClassifier                precision    recall  f1-score   ...\n",
       "2       BaggingClassifier                precision    recall  f1-score   ...\n",
       "3      AdaBoostClassifier                precision    recall  f1-score   ...\n",
       "4           XGBClassifier                precision    recall  f1-score   ...\n",
       "5    KNeighborsClassifier                precision    recall  f1-score   ...\n",
       "6                     SVC                precision    recall  f1-score   ..."
      ]
     },
     "execution_count": 52,
     "metadata": {},
     "output_type": "execute_result"
    }
   ],
   "source": [
    "results"
   ]
  },
  {
   "cell_type": "code",
   "execution_count": 58,
   "id": "f3a792d2",
   "metadata": {},
   "outputs": [],
   "source": [
    "classification_report = results['Classification Report']\n",
    "\n",
    "\n",
    "metrics = classification_report.str.split()\n",
    "\n",
    "\n",
    "precision = metrics.str[5].astype(float)\n",
    "recall = metrics.str[10].astype(float)\n",
    "\n",
    "\n",
    "results['Precision'] = precision\n",
    "results['Recall'] = recall\n",
    "\n",
    "results['F1-Score'] = 2 * (results['Precision'] * results['Recall']) / (results['Precision'] + results['Recall'])\n",
    "\n",
    "\n",
    "\n"
   ]
  },
  {
   "cell_type": "code",
   "execution_count": 61,
   "id": "e83a3bf8",
   "metadata": {},
   "outputs": [
    {
     "data": {
      "text/html": [
       "<div>\n",
       "<style scoped>\n",
       "    .dataframe tbody tr th:only-of-type {\n",
       "        vertical-align: middle;\n",
       "    }\n",
       "\n",
       "    .dataframe tbody tr th {\n",
       "        vertical-align: top;\n",
       "    }\n",
       "\n",
       "    .dataframe thead th {\n",
       "        text-align: right;\n",
       "    }\n",
       "</style>\n",
       "<table border=\"1\" class=\"dataframe\">\n",
       "  <thead>\n",
       "    <tr style=\"text-align: right;\">\n",
       "      <th></th>\n",
       "      <th>Model</th>\n",
       "      <th>Classification Report</th>\n",
       "      <th>Precision</th>\n",
       "      <th>Recall</th>\n",
       "      <th>F1-Score</th>\n",
       "    </tr>\n",
       "  </thead>\n",
       "  <tbody>\n",
       "    <tr>\n",
       "      <th>0</th>\n",
       "      <td>RandomForestClassifier</td>\n",
       "      <td>precision    recall  f1-score   ...</td>\n",
       "      <td>0.89</td>\n",
       "      <td>0.87</td>\n",
       "      <td>0.879886</td>\n",
       "    </tr>\n",
       "    <tr>\n",
       "      <th>1</th>\n",
       "      <td>ExtraTreesClassifier</td>\n",
       "      <td>precision    recall  f1-score   ...</td>\n",
       "      <td>0.90</td>\n",
       "      <td>0.88</td>\n",
       "      <td>0.889888</td>\n",
       "    </tr>\n",
       "    <tr>\n",
       "      <th>2</th>\n",
       "      <td>BaggingClassifier</td>\n",
       "      <td>precision    recall  f1-score   ...</td>\n",
       "      <td>0.85</td>\n",
       "      <td>0.83</td>\n",
       "      <td>0.839881</td>\n",
       "    </tr>\n",
       "    <tr>\n",
       "      <th>3</th>\n",
       "      <td>AdaBoostClassifier</td>\n",
       "      <td>precision    recall  f1-score   ...</td>\n",
       "      <td>0.71</td>\n",
       "      <td>0.74</td>\n",
       "      <td>0.724690</td>\n",
       "    </tr>\n",
       "    <tr>\n",
       "      <th>4</th>\n",
       "      <td>XGBClassifier</td>\n",
       "      <td>precision    recall  f1-score   ...</td>\n",
       "      <td>0.79</td>\n",
       "      <td>0.81</td>\n",
       "      <td>0.799875</td>\n",
       "    </tr>\n",
       "    <tr>\n",
       "      <th>5</th>\n",
       "      <td>KNeighborsClassifier</td>\n",
       "      <td>precision    recall  f1-score   ...</td>\n",
       "      <td>0.80</td>\n",
       "      <td>0.81</td>\n",
       "      <td>0.804969</td>\n",
       "    </tr>\n",
       "    <tr>\n",
       "      <th>6</th>\n",
       "      <td>SVC</td>\n",
       "      <td>precision    recall  f1-score   ...</td>\n",
       "      <td>0.72</td>\n",
       "      <td>0.75</td>\n",
       "      <td>0.734694</td>\n",
       "    </tr>\n",
       "  </tbody>\n",
       "</table>\n",
       "</div>"
      ],
      "text/plain": [
       "                    Model                              Classification Report  \\\n",
       "0  RandomForestClassifier                precision    recall  f1-score   ...   \n",
       "1    ExtraTreesClassifier                precision    recall  f1-score   ...   \n",
       "2       BaggingClassifier                precision    recall  f1-score   ...   \n",
       "3      AdaBoostClassifier                precision    recall  f1-score   ...   \n",
       "4           XGBClassifier                precision    recall  f1-score   ...   \n",
       "5    KNeighborsClassifier                precision    recall  f1-score   ...   \n",
       "6                     SVC                precision    recall  f1-score   ...   \n",
       "\n",
       "   Precision  Recall  F1-Score  \n",
       "0       0.89    0.87  0.879886  \n",
       "1       0.90    0.88  0.889888  \n",
       "2       0.85    0.83  0.839881  \n",
       "3       0.71    0.74  0.724690  \n",
       "4       0.79    0.81  0.799875  \n",
       "5       0.80    0.81  0.804969  \n",
       "6       0.72    0.75  0.734694  "
      ]
     },
     "execution_count": 61,
     "metadata": {},
     "output_type": "execute_result"
    }
   ],
   "source": [
    "results"
   ]
  },
  {
   "cell_type": "code",
   "execution_count": 62,
   "id": "61992178",
   "metadata": {},
   "outputs": [],
   "source": [
    "# IT SEEMS OUR THREE ENSEMBLE TECHNIQUES WORKS THE BEST WITH THIS MULTI-CLASS DATASET \n",
    "# NOW LETS USE HYPERPARAMETRS AND FIND THE BEST MODEL."
   ]
  },
  {
   "cell_type": "code",
   "execution_count": 41,
   "id": "e4fd7108",
   "metadata": {},
   "outputs": [],
   "source": [
    "rf_param_grid = {\n",
    "    'n_estimators': [10, 50, 100],\n",
    "    'max_depth': [None, 10, 20],\n",
    "    'min_samples_split': [2, 5, 10],\n",
    "    'min_samples_leaf': [1, 2, 4],\n",
    "    'max_features': ['auto', 'sqrt'],\n",
    "    'criterion': ['gini', 'entropy'],\n",
    "}\n"
   ]
  },
  {
   "cell_type": "code",
   "execution_count": 106,
   "id": "2e79542e",
   "metadata": {},
   "outputs": [],
   "source": [
    "from sklearn.tree import DecisionTreeClassifier"
   ]
  },
  {
   "cell_type": "code",
   "execution_count": 107,
   "id": "301cd467",
   "metadata": {},
   "outputs": [],
   "source": [
    "\n",
    "bagging_param_grid = {\n",
    "    'base_estimator': [DecisionTreeClassifier(max_depth=3), DecisionTreeClassifier(max_depth=5),DecisionTreeClassifier(max_depth=10)],\n",
    "    'n_estimators': [10, 50, 100],\n",
    "    'max_samples': [0.5, 0.7, 1.0],\n",
    "    'max_features': [0.5, 0.7, 1.0],\n",
    "   \n",
    "}"
   ]
  },
  {
   "cell_type": "code",
   "execution_count": 43,
   "id": "4644b640",
   "metadata": {},
   "outputs": [],
   "source": [
    "et_param_grid = {\n",
    "    'n_estimators': [10, 50, 100],\n",
    "    'max_depth': [None, 10, 20],\n",
    "    'min_samples_split': [2, 5, 10],\n",
    "    'min_samples_leaf': [1, 2, 4],\n",
    "    'max_features': ['auto', 'sqrt'],\n",
    "    'criterion': ['gini', 'entropy'],\n",
    "}\n"
   ]
  },
  {
   "cell_type": "code",
   "execution_count": 44,
   "id": "5818a5dc",
   "metadata": {},
   "outputs": [],
   "source": [
    "from sklearn.model_selection import RandomizedSearchCV"
   ]
  },
  {
   "cell_type": "code",
   "execution_count": 75,
   "id": "9310bcad",
   "metadata": {},
   "outputs": [
    {
     "data": {
      "text/plain": [
       "RandomizedSearchCV(cv=5, estimator=RandomForestClassifier(),\n",
       "                   param_distributions={'criterion': ['gini', 'entropy'],\n",
       "                                        'max_depth': [None, 10, 20],\n",
       "                                        'max_features': ['auto', 'sqrt'],\n",
       "                                        'min_samples_leaf': [1, 2, 4],\n",
       "                                        'min_samples_split': [2, 5, 10],\n",
       "                                        'n_estimators': [10, 50, 100]},\n",
       "                   scoring='accuracy')"
      ]
     },
     "execution_count": 75,
     "metadata": {},
     "output_type": "execute_result"
    }
   ],
   "source": [
    "rf_grid_search = RandomizedSearchCV(rfc, rf_param_grid, cv=5, scoring='accuracy')\n",
    "rf_grid_search.fit(X_train, y_train)"
   ]
  },
  {
   "cell_type": "code",
   "execution_count": 103,
   "id": "9db29c8e",
   "metadata": {},
   "outputs": [
    {
     "data": {
      "text/plain": [
       "{'n_estimators': 100,\n",
       " 'min_samples_split': 10,\n",
       " 'min_samples_leaf': 1,\n",
       " 'max_features': 'sqrt',\n",
       " 'max_depth': None,\n",
       " 'criterion': 'gini'}"
      ]
     },
     "execution_count": 103,
     "metadata": {},
     "output_type": "execute_result"
    }
   ],
   "source": [
    "rf_grid_search.best_params_"
   ]
  },
  {
   "cell_type": "code",
   "execution_count": 104,
   "id": "9e0b4c22",
   "metadata": {},
   "outputs": [],
   "source": [
    "from sklearn.metrics import classification_report"
   ]
  },
  {
   "cell_type": "code",
   "execution_count": 107,
   "id": "09063466",
   "metadata": {},
   "outputs": [
    {
     "data": {
      "text/plain": [
       "'              precision    recall  f1-score   support\\n\\n           0       0.88      0.93      0.90     10605\\n           1       0.86      0.90      0.88     10651\\n           2       0.84      0.76      0.80     10634\\n\\n    accuracy                           0.86     31890\\n   macro avg       0.86      0.86      0.86     31890\\nweighted avg       0.86      0.86      0.86     31890\\n'"
      ]
     },
     "execution_count": 107,
     "metadata": {},
     "output_type": "execute_result"
    }
   ],
   "source": [
    "pred=rf_grid_search.predict(X_test)\n",
    "classification_report(y_test,pred)\n"
   ]
  },
  {
   "cell_type": "code",
   "execution_count": 108,
   "id": "8a633834",
   "metadata": {},
   "outputs": [
    {
     "data": {
      "text/plain": [
       "'              precision    recall  f1-score   support\\n\\n           0       0.74      0.88      0.80     10605\\n           1       0.78      0.80      0.79     10651\\n           2       0.78      0.60      0.68     10634\\n\\n    accuracy                           0.76     31890\\n   macro avg       0.76      0.76      0.76     31890\\nweighted avg       0.76      0.76      0.76     31890\\n'"
      ]
     },
     "execution_count": 108,
     "metadata": {},
     "output_type": "execute_result"
    }
   ],
   "source": [
    "bag_grid=RandomizedSearchCV(bag,bagging_param_grid,cv=5,scoring=\"accuracy\")\n",
    "bag_grid.fit(X_train,y_train)\n",
    "pred=bag_grid.predict(X_test)\n",
    "classification_report(y_test,pred)"
   ]
  },
  {
   "cell_type": "code",
   "execution_count": 46,
   "id": "c3dd019b",
   "metadata": {},
   "outputs": [
    {
     "data": {
      "text/plain": [
       "'              precision    recall  f1-score   support\\n\\n           0       0.90      0.96      0.93     10605\\n           1       0.88      0.92      0.90     10651\\n           2       0.88      0.78      0.83     10634\\n\\n    accuracy                           0.88     31890\\n   macro avg       0.88      0.88      0.88     31890\\nweighted avg       0.88      0.88      0.88     31890\\n'"
      ]
     },
     "execution_count": 46,
     "metadata": {},
     "output_type": "execute_result"
    }
   ],
   "source": [
    "et_grid=RandomizedSearchCV(etc,et_param_grid,cv=5,scoring=\"accuracy\")\n",
    "et_grid.fit(X_train,y_train)\n",
    "pred=et_grid.predict(X_test)\n",
    "classification_report(y_test,pred)"
   ]
  },
  {
   "cell_type": "code",
   "execution_count": 56,
   "id": "1516dcc6",
   "metadata": {},
   "outputs": [],
   "source": [
    "best_et_model = et_grid.best_estimator_"
   ]
  },
  {
   "cell_type": "code",
   "execution_count": 155,
   "id": "cf1f1fc8",
   "metadata": {},
   "outputs": [
    {
     "data": {
      "text/plain": [
       "ExtraTreesClassifier(criterion='entropy', max_features='sqrt',\n",
       "                     min_samples_split=5, n_estimators=50)"
      ]
     },
     "execution_count": 155,
     "metadata": {},
     "output_type": "execute_result"
    }
   ],
   "source": [
    "et_grid.best_estimator_"
   ]
  },
  {
   "cell_type": "code",
   "execution_count": 156,
   "id": "50e29381",
   "metadata": {},
   "outputs": [],
   "source": [
    "from sklearn.feature_selection import SelectFromModel"
   ]
  },
  {
   "cell_type": "code",
   "execution_count": 164,
   "id": "e8f2fdc6",
   "metadata": {},
   "outputs": [],
   "source": [
    "feature_selector = SelectFromModel(et_grid.best_estimator_, prefit=True, max_features=10)"
   ]
  },
  {
   "cell_type": "code",
   "execution_count": 165,
   "id": "faba5af7",
   "metadata": {},
   "outputs": [],
   "source": [
    "X_train_reduced = feature_selector.transform(X_train)\n",
    "X_test_reduced = feature_selector.transform(X_test)"
   ]
  },
  {
   "cell_type": "code",
   "execution_count": 166,
   "id": "0867ea0e",
   "metadata": {},
   "outputs": [
    {
     "data": {
      "text/plain": [
       "ExtraTreesClassifier()"
      ]
     },
     "execution_count": 166,
     "metadata": {},
     "output_type": "execute_result"
    }
   ],
   "source": [
    "feature_et=ExtraTreesClassifier()\n",
    "feature_et.fit(X_train_reduced, y_train)"
   ]
  },
  {
   "cell_type": "code",
   "execution_count": 167,
   "id": "51eed8e6",
   "metadata": {},
   "outputs": [],
   "source": [
    "y_pred = feature_et.predict(X_test_reduced)"
   ]
  },
  {
   "cell_type": "code",
   "execution_count": 168,
   "id": "55fb7715",
   "metadata": {},
   "outputs": [
    {
     "data": {
      "text/plain": [
       "'              precision    recall  f1-score   support\\n\\n           0       0.89      0.93      0.91     10605\\n           1       0.88      0.89      0.88     10651\\n           2       0.84      0.79      0.82     10634\\n\\n    accuracy                           0.87     31890\\n   macro avg       0.87      0.87      0.87     31890\\nweighted avg       0.87      0.87      0.87     31890\\n'"
      ]
     },
     "execution_count": 168,
     "metadata": {},
     "output_type": "execute_result"
    }
   ],
   "source": [
    "classification_report(y_test,y_pred)"
   ]
  },
  {
   "cell_type": "code",
   "execution_count": 169,
   "id": "2ed11ac6",
   "metadata": {},
   "outputs": [],
   "source": [
    "# import your model into pickle file for deployment "
   ]
  },
  {
   "cell_type": "code",
   "execution_count": 170,
   "id": "9293c56c",
   "metadata": {},
   "outputs": [
    {
     "data": {
      "text/plain": [
       "Index(['Delay_from_due_date', 'Credit_History_Age', 'Payment_of_Min_Amount',\n",
       "       'Credit_Mix', 'Num_Credit_Card', 'Interest_Rate', 'Outstanding_Debt'],\n",
       "      dtype='object')"
      ]
     },
     "execution_count": 170,
     "metadata": {},
     "output_type": "execute_result"
    }
   ],
   "source": [
    "a=X.columns[feature_selector.get_support()]\n",
    "a"
   ]
  },
  {
   "cell_type": "markdown",
   "id": "f739e47d",
   "metadata": {},
   "source": [
    "# ALTHOUGHT WE LOST 1% OF ACCURACY AFTER DOING FEATURE SELECTION BUT WE BROUGHT DOWN THE NO OF FEATURES REQUIRED FROM 20 TO 7,\n",
    "# WHICH WILL MAKE OUR ML DEPLOYMENT MUCH MORE EASIER"
   ]
  },
  {
   "cell_type": "code",
   "execution_count": null,
   "id": "9ac1765f",
   "metadata": {},
   "outputs": [],
   "source": []
  },
  {
   "cell_type": "code",
   "execution_count": 171,
   "id": "0491b81b",
   "metadata": {},
   "outputs": [],
   "source": [
    "with open(\"featured_grid_et.pkl\",\"wb\") as file:\n",
    "    pickle.dump(feature_et,file) "
   ]
  },
  {
   "cell_type": "code",
   "execution_count": null,
   "id": "8977f1c5",
   "metadata": {},
   "outputs": [],
   "source": []
  },
  {
   "cell_type": "code",
   "execution_count": 172,
   "id": "baf0f31a",
   "metadata": {},
   "outputs": [
    {
     "data": {
      "text/plain": [
       "array([1])"
      ]
     },
     "execution_count": 172,
     "metadata": {},
     "output_type": "execute_result"
    }
   ],
   "source": [
    "feature_et.predict([[3.0,350,0,1,5,1,600]])"
   ]
  },
  {
   "cell_type": "code",
   "execution_count": 173,
   "id": "428e7cf5",
   "metadata": {},
   "outputs": [
    {
     "data": {
      "text/html": [
       "<div>\n",
       "<style scoped>\n",
       "    .dataframe tbody tr th:only-of-type {\n",
       "        vertical-align: middle;\n",
       "    }\n",
       "\n",
       "    .dataframe tbody tr th {\n",
       "        vertical-align: top;\n",
       "    }\n",
       "\n",
       "    .dataframe thead th {\n",
       "        text-align: right;\n",
       "    }\n",
       "</style>\n",
       "<table border=\"1\" class=\"dataframe\">\n",
       "  <thead>\n",
       "    <tr style=\"text-align: right;\">\n",
       "      <th></th>\n",
       "      <th>Delay_from_due_date</th>\n",
       "      <th>Credit_History_Age</th>\n",
       "      <th>Payment_of_Min_Amount</th>\n",
       "      <th>Credit_Mix</th>\n",
       "      <th>Num_Credit_Card</th>\n",
       "      <th>Interest_Rate</th>\n",
       "      <th>Outstanding_Debt</th>\n",
       "    </tr>\n",
       "  </thead>\n",
       "  <tbody>\n",
       "    <tr>\n",
       "      <th>0</th>\n",
       "      <td>3.0</td>\n",
       "      <td>265.0</td>\n",
       "      <td>1</td>\n",
       "      <td>1</td>\n",
       "      <td>4.0</td>\n",
       "      <td>3.0</td>\n",
       "      <td>809.98</td>\n",
       "    </tr>\n",
       "    <tr>\n",
       "      <th>1</th>\n",
       "      <td>3.0</td>\n",
       "      <td>265.0</td>\n",
       "      <td>1</td>\n",
       "      <td>1</td>\n",
       "      <td>4.0</td>\n",
       "      <td>3.0</td>\n",
       "      <td>809.98</td>\n",
       "    </tr>\n",
       "    <tr>\n",
       "      <th>2</th>\n",
       "      <td>3.0</td>\n",
       "      <td>267.0</td>\n",
       "      <td>1</td>\n",
       "      <td>1</td>\n",
       "      <td>4.0</td>\n",
       "      <td>3.0</td>\n",
       "      <td>809.98</td>\n",
       "    </tr>\n",
       "    <tr>\n",
       "      <th>3</th>\n",
       "      <td>5.0</td>\n",
       "      <td>268.0</td>\n",
       "      <td>1</td>\n",
       "      <td>1</td>\n",
       "      <td>4.0</td>\n",
       "      <td>3.0</td>\n",
       "      <td>809.98</td>\n",
       "    </tr>\n",
       "    <tr>\n",
       "      <th>4</th>\n",
       "      <td>6.0</td>\n",
       "      <td>269.0</td>\n",
       "      <td>1</td>\n",
       "      <td>1</td>\n",
       "      <td>4.0</td>\n",
       "      <td>3.0</td>\n",
       "      <td>809.98</td>\n",
       "    </tr>\n",
       "    <tr>\n",
       "      <th>...</th>\n",
       "      <td>...</td>\n",
       "      <td>...</td>\n",
       "      <td>...</td>\n",
       "      <td>...</td>\n",
       "      <td>...</td>\n",
       "      <td>...</td>\n",
       "      <td>...</td>\n",
       "    </tr>\n",
       "    <tr>\n",
       "      <th>99955</th>\n",
       "      <td>23.0</td>\n",
       "      <td>378.0</td>\n",
       "      <td>1</td>\n",
       "      <td>1</td>\n",
       "      <td>6.0</td>\n",
       "      <td>7.0</td>\n",
       "      <td>502.38</td>\n",
       "    </tr>\n",
       "    <tr>\n",
       "      <th>99956</th>\n",
       "      <td>18.0</td>\n",
       "      <td>379.0</td>\n",
       "      <td>1</td>\n",
       "      <td>1</td>\n",
       "      <td>6.0</td>\n",
       "      <td>7.0</td>\n",
       "      <td>502.38</td>\n",
       "    </tr>\n",
       "    <tr>\n",
       "      <th>99957</th>\n",
       "      <td>27.0</td>\n",
       "      <td>380.0</td>\n",
       "      <td>1</td>\n",
       "      <td>1</td>\n",
       "      <td>6.0</td>\n",
       "      <td>7.0</td>\n",
       "      <td>502.38</td>\n",
       "    </tr>\n",
       "    <tr>\n",
       "      <th>99958</th>\n",
       "      <td>20.0</td>\n",
       "      <td>381.0</td>\n",
       "      <td>1</td>\n",
       "      <td>1</td>\n",
       "      <td>6.0</td>\n",
       "      <td>7.0</td>\n",
       "      <td>502.38</td>\n",
       "    </tr>\n",
       "    <tr>\n",
       "      <th>99959</th>\n",
       "      <td>18.0</td>\n",
       "      <td>382.0</td>\n",
       "      <td>1</td>\n",
       "      <td>1</td>\n",
       "      <td>6.0</td>\n",
       "      <td>7.0</td>\n",
       "      <td>502.38</td>\n",
       "    </tr>\n",
       "  </tbody>\n",
       "</table>\n",
       "<p>99960 rows × 7 columns</p>\n",
       "</div>"
      ],
      "text/plain": [
       "       Delay_from_due_date  Credit_History_Age  Payment_of_Min_Amount  \\\n",
       "0                      3.0               265.0                      1   \n",
       "1                      3.0               265.0                      1   \n",
       "2                      3.0               267.0                      1   \n",
       "3                      5.0               268.0                      1   \n",
       "4                      6.0               269.0                      1   \n",
       "...                    ...                 ...                    ...   \n",
       "99955                 23.0               378.0                      1   \n",
       "99956                 18.0               379.0                      1   \n",
       "99957                 27.0               380.0                      1   \n",
       "99958                 20.0               381.0                      1   \n",
       "99959                 18.0               382.0                      1   \n",
       "\n",
       "       Credit_Mix  Num_Credit_Card  Interest_Rate  Outstanding_Debt  \n",
       "0               1              4.0            3.0            809.98  \n",
       "1               1              4.0            3.0            809.98  \n",
       "2               1              4.0            3.0            809.98  \n",
       "3               1              4.0            3.0            809.98  \n",
       "4               1              4.0            3.0            809.98  \n",
       "...           ...              ...            ...               ...  \n",
       "99955           1              6.0            7.0            502.38  \n",
       "99956           1              6.0            7.0            502.38  \n",
       "99957           1              6.0            7.0            502.38  \n",
       "99958           1              6.0            7.0            502.38  \n",
       "99959           1              6.0            7.0            502.38  \n",
       "\n",
       "[99960 rows x 7 columns]"
      ]
     },
     "execution_count": 173,
     "metadata": {},
     "output_type": "execute_result"
    }
   ],
   "source": [
    "df[a]"
   ]
  },
  {
   "cell_type": "code",
   "execution_count": null,
   "id": "683181f0",
   "metadata": {},
   "outputs": [],
   "source": []
  }
 ],
 "metadata": {
  "kernelspec": {
   "display_name": "Python 3 (ipykernel)",
   "language": "python",
   "name": "python3"
  },
  "language_info": {
   "codemirror_mode": {
    "name": "ipython",
    "version": 3
   },
   "file_extension": ".py",
   "mimetype": "text/x-python",
   "name": "python",
   "nbconvert_exporter": "python",
   "pygments_lexer": "ipython3",
   "version": "3.9.13"
  }
 },
 "nbformat": 4,
 "nbformat_minor": 5
}
